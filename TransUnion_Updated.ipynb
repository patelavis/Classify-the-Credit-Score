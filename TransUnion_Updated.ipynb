{
 "cells": [
  {
   "cell_type": "markdown",
   "id": "e9e0338c",
   "metadata": {},
   "source": [
    "**Problem Statement : `Classify the Credit Score`**\n",
    "\n",
    "**You are working as a data scientist in a global finance company. Over the years, the company has basic and gathered a lot of credit-related information. The management wants to build an intelligent system to segregate the people into credit score brackets to reduce the manual efforts.**\n",
    "\n",
    "**Task**\n",
    "\n",
    "**Given a person's credit-related information, build a machine learning model that can classify the credit score.**\n",
    "\n",
    "**Data Description**\n",
    "\n",
    "|Column Name|Description|\n",
    "|----:|:-------|\n",
    "|ID|Represents a unique identification of an entry|\n",
    "|Customer_ID|Represents a unique identification of a person|\n",
    "|Month|Represents the month of the year|\n",
    "|Name|Represents the name of the person|\n",
    "|Age|Represents the age of the person|\n",
    "|SSN|Represents the social security number of a person|\n",
    "|Occupation|Represents the occupation of the person|\n",
    "|Annual_Income|Represents the annual income of the person|\n",
    "|Monthly_Base_Salary|Represents the monthly base salary of a person|\n",
    "|Num_Bank_Accounts|Represents the number of bank accounts a person holds|\n",
    "|Num_Credit_Card|Represents the number of other credit cards held by a person|\n",
    "|Interest_Rate|Represents the interest rate on credit card|\n",
    "|Num_of_Loan|Represents the number of loans taken from the bank|\n",
    "|Type_of_Loan|Represents the types of loan taken by a person|\n",
    "|Delay_from_due_date|Represents the average number of days delayed from the payments date|\n",
    "|Num_of_delayed_payment|Represents the average number of payments delayed by person|\n",
    "|Changed_Credit_Limit|Represents the percentage change in credit card limit|\n",
    "|Num_Credit_Inquiries|Represents the number of credit card inquires|\n",
    "|Credit_Mix|Represents the classification of the mix of credits|\n",
    "|Outstanding_Debt|Represents the remaining dept to be paid (in USD)|\n",
    "|Credit_Utilization_Ratio|Represents the utilization ratio of credit card|\n",
    "|Credit_History_Age|Represents the age of credit history of the person|\n",
    "|Payment_of_Min_Amount|Represents whether only the minimum amount was paid by the person|\n",
    "|Total_EMI_per_month|Represents the monthly EMI payments (in USD)|\n",
    "|Amount_invested_monthly|Represents the monthly amount invested by the customer (in USD)|\n",
    "|Payment_Behavior|Represents the payment behavior of the customer (in USD)|\n",
    "|Monthly_Balance|Represents the monthly balance amount of the customer (in USD)|\n",
    "|Credit_Score|Represents the bracket of credit score (Poor, Standard, Good)|"
   ]
  },
  {
   "cell_type": "markdown",
   "id": "be4112d6",
   "metadata": {},
   "source": [
    "## Data import..."
   ]
  },
  {
   "cell_type": "markdown",
   "id": "c5bcc314",
   "metadata": {},
   "source": [
    "**Import necessary libraries...**"
   ]
  },
  {
   "cell_type": "code",
   "execution_count": 1,
   "id": "e04cf45b",
   "metadata": {
    "ExecuteTime": {
     "end_time": "2022-06-17T17:33:46.987222Z",
     "start_time": "2022-06-17T17:33:44.582652Z"
    }
   },
   "outputs": [],
   "source": [
    "import pandas as pd\n",
    "import numpy as np\n",
    "import seaborn as sns\n",
    "import matplotlib.pyplot as plt\n",
    "import re"
   ]
  },
  {
   "cell_type": "markdown",
   "id": "70b620b3",
   "metadata": {},
   "source": [
    "**Load Data from train and test...**"
   ]
  },
  {
   "cell_type": "code",
   "execution_count": 2,
   "id": "2d5c848b",
   "metadata": {
    "ExecuteTime": {
     "end_time": "2022-06-17T17:33:47.829969Z",
     "start_time": "2022-06-17T17:33:46.991212Z"
    }
   },
   "outputs": [],
   "source": [
    "df_train = pd.read_csv('train.csv', low_memory=False)"
   ]
  },
  {
   "cell_type": "code",
   "execution_count": 3,
   "id": "b7c16461",
   "metadata": {
    "ExecuteTime": {
     "end_time": "2022-06-17T17:33:48.274781Z",
     "start_time": "2022-06-17T17:33:47.833959Z"
    }
   },
   "outputs": [],
   "source": [
    "df_test = pd.read_csv('test.csv')"
   ]
  },
  {
   "cell_type": "markdown",
   "id": "b86db463",
   "metadata": {},
   "source": [
    "**Check all data information...**"
   ]
  },
  {
   "cell_type": "code",
   "execution_count": 4,
   "id": "d7bd3949",
   "metadata": {
    "ExecuteTime": {
     "end_time": "2022-06-17T17:33:48.562012Z",
     "start_time": "2022-06-17T17:33:48.278771Z"
    }
   },
   "outputs": [
    {
     "name": "stdout",
     "output_type": "stream",
     "text": [
      "<class 'pandas.core.frame.DataFrame'>\n",
      "RangeIndex: 100000 entries, 0 to 99999\n",
      "Data columns (total 28 columns):\n",
      " #   Column                    Non-Null Count   Dtype  \n",
      "---  ------                    --------------   -----  \n",
      " 0   ID                        100000 non-null  object \n",
      " 1   Customer_ID               100000 non-null  object \n",
      " 2   Month                     100000 non-null  object \n",
      " 3   Name                      90015 non-null   object \n",
      " 4   Age                       100000 non-null  object \n",
      " 5   SSN                       100000 non-null  object \n",
      " 6   Occupation                100000 non-null  object \n",
      " 7   Annual_Income             100000 non-null  object \n",
      " 8   Monthly_Inhand_Salary     84998 non-null   float64\n",
      " 9   Num_Bank_Accounts         100000 non-null  int64  \n",
      " 10  Num_Credit_Card           100000 non-null  int64  \n",
      " 11  Interest_Rate             100000 non-null  int64  \n",
      " 12  Num_of_Loan               100000 non-null  object \n",
      " 13  Type_of_Loan              88592 non-null   object \n",
      " 14  Delay_from_due_date       100000 non-null  int64  \n",
      " 15  Num_of_Delayed_Payment    92998 non-null   object \n",
      " 16  Changed_Credit_Limit      100000 non-null  object \n",
      " 17  Num_Credit_Inquiries      98035 non-null   float64\n",
      " 18  Credit_Mix                100000 non-null  object \n",
      " 19  Outstanding_Debt          100000 non-null  object \n",
      " 20  Credit_Utilization_Ratio  100000 non-null  float64\n",
      " 21  Credit_History_Age        90970 non-null   object \n",
      " 22  Payment_of_Min_Amount     100000 non-null  object \n",
      " 23  Total_EMI_per_month       100000 non-null  float64\n",
      " 24  Amount_invested_monthly   95521 non-null   object \n",
      " 25  Payment_Behaviour         100000 non-null  object \n",
      " 26  Monthly_Balance           98800 non-null   object \n",
      " 27  Credit_Score              100000 non-null  object \n",
      "dtypes: float64(4), int64(4), object(20)\n",
      "memory usage: 21.4+ MB\n"
     ]
    }
   ],
   "source": [
    "df_train.info()"
   ]
  },
  {
   "cell_type": "markdown",
   "id": "27349212",
   "metadata": {},
   "source": [
    "**View dataframe...**"
   ]
  },
  {
   "cell_type": "code",
   "execution_count": 5,
   "id": "e2cda3ed",
   "metadata": {
    "ExecuteTime": {
     "end_time": "2022-06-17T17:33:48.609886Z",
     "start_time": "2022-06-17T17:33:48.565007Z"
    }
   },
   "outputs": [
    {
     "data": {
      "text/html": [
       "<div>\n",
       "<style scoped>\n",
       "    .dataframe tbody tr th:only-of-type {\n",
       "        vertical-align: middle;\n",
       "    }\n",
       "\n",
       "    .dataframe tbody tr th {\n",
       "        vertical-align: top;\n",
       "    }\n",
       "\n",
       "    .dataframe thead th {\n",
       "        text-align: right;\n",
       "    }\n",
       "</style>\n",
       "<table border=\"1\" class=\"dataframe\">\n",
       "  <thead>\n",
       "    <tr style=\"text-align: right;\">\n",
       "      <th></th>\n",
       "      <th>ID</th>\n",
       "      <th>Customer_ID</th>\n",
       "      <th>Month</th>\n",
       "      <th>Name</th>\n",
       "      <th>Age</th>\n",
       "      <th>SSN</th>\n",
       "      <th>Occupation</th>\n",
       "      <th>Annual_Income</th>\n",
       "      <th>Monthly_Inhand_Salary</th>\n",
       "      <th>Num_Bank_Accounts</th>\n",
       "      <th>...</th>\n",
       "      <th>Credit_Mix</th>\n",
       "      <th>Outstanding_Debt</th>\n",
       "      <th>Credit_Utilization_Ratio</th>\n",
       "      <th>Credit_History_Age</th>\n",
       "      <th>Payment_of_Min_Amount</th>\n",
       "      <th>Total_EMI_per_month</th>\n",
       "      <th>Amount_invested_monthly</th>\n",
       "      <th>Payment_Behaviour</th>\n",
       "      <th>Monthly_Balance</th>\n",
       "      <th>Credit_Score</th>\n",
       "    </tr>\n",
       "  </thead>\n",
       "  <tbody>\n",
       "    <tr>\n",
       "      <th>0</th>\n",
       "      <td>0x1602</td>\n",
       "      <td>CUS_0xd40</td>\n",
       "      <td>January</td>\n",
       "      <td>Aaron Maashoh</td>\n",
       "      <td>23</td>\n",
       "      <td>821-00-0265</td>\n",
       "      <td>Scientist</td>\n",
       "      <td>19114.12</td>\n",
       "      <td>1824.843333</td>\n",
       "      <td>3</td>\n",
       "      <td>...</td>\n",
       "      <td>_</td>\n",
       "      <td>809.98</td>\n",
       "      <td>26.822620</td>\n",
       "      <td>22 Years and 1 Months</td>\n",
       "      <td>No</td>\n",
       "      <td>49.574949</td>\n",
       "      <td>80.41529543900253</td>\n",
       "      <td>High_spent_Small_value_payments</td>\n",
       "      <td>312.49408867943663</td>\n",
       "      <td>Good</td>\n",
       "    </tr>\n",
       "    <tr>\n",
       "      <th>1</th>\n",
       "      <td>0x1603</td>\n",
       "      <td>CUS_0xd40</td>\n",
       "      <td>February</td>\n",
       "      <td>Aaron Maashoh</td>\n",
       "      <td>23</td>\n",
       "      <td>821-00-0265</td>\n",
       "      <td>Scientist</td>\n",
       "      <td>19114.12</td>\n",
       "      <td>NaN</td>\n",
       "      <td>3</td>\n",
       "      <td>...</td>\n",
       "      <td>Good</td>\n",
       "      <td>809.98</td>\n",
       "      <td>31.944960</td>\n",
       "      <td>NaN</td>\n",
       "      <td>No</td>\n",
       "      <td>49.574949</td>\n",
       "      <td>118.28022162236736</td>\n",
       "      <td>Low_spent_Large_value_payments</td>\n",
       "      <td>284.62916249607184</td>\n",
       "      <td>Good</td>\n",
       "    </tr>\n",
       "    <tr>\n",
       "      <th>2</th>\n",
       "      <td>0x1604</td>\n",
       "      <td>CUS_0xd40</td>\n",
       "      <td>March</td>\n",
       "      <td>Aaron Maashoh</td>\n",
       "      <td>-500</td>\n",
       "      <td>821-00-0265</td>\n",
       "      <td>Scientist</td>\n",
       "      <td>19114.12</td>\n",
       "      <td>NaN</td>\n",
       "      <td>3</td>\n",
       "      <td>...</td>\n",
       "      <td>Good</td>\n",
       "      <td>809.98</td>\n",
       "      <td>28.609352</td>\n",
       "      <td>22 Years and 3 Months</td>\n",
       "      <td>No</td>\n",
       "      <td>49.574949</td>\n",
       "      <td>81.699521264648</td>\n",
       "      <td>Low_spent_Medium_value_payments</td>\n",
       "      <td>331.2098628537912</td>\n",
       "      <td>Good</td>\n",
       "    </tr>\n",
       "    <tr>\n",
       "      <th>3</th>\n",
       "      <td>0x1605</td>\n",
       "      <td>CUS_0xd40</td>\n",
       "      <td>April</td>\n",
       "      <td>Aaron Maashoh</td>\n",
       "      <td>23</td>\n",
       "      <td>821-00-0265</td>\n",
       "      <td>Scientist</td>\n",
       "      <td>19114.12</td>\n",
       "      <td>NaN</td>\n",
       "      <td>3</td>\n",
       "      <td>...</td>\n",
       "      <td>Good</td>\n",
       "      <td>809.98</td>\n",
       "      <td>31.377862</td>\n",
       "      <td>22 Years and 4 Months</td>\n",
       "      <td>No</td>\n",
       "      <td>49.574949</td>\n",
       "      <td>199.4580743910713</td>\n",
       "      <td>Low_spent_Small_value_payments</td>\n",
       "      <td>223.45130972736786</td>\n",
       "      <td>Good</td>\n",
       "    </tr>\n",
       "    <tr>\n",
       "      <th>4</th>\n",
       "      <td>0x1606</td>\n",
       "      <td>CUS_0xd40</td>\n",
       "      <td>May</td>\n",
       "      <td>Aaron Maashoh</td>\n",
       "      <td>23</td>\n",
       "      <td>821-00-0265</td>\n",
       "      <td>Scientist</td>\n",
       "      <td>19114.12</td>\n",
       "      <td>1824.843333</td>\n",
       "      <td>3</td>\n",
       "      <td>...</td>\n",
       "      <td>Good</td>\n",
       "      <td>809.98</td>\n",
       "      <td>24.797347</td>\n",
       "      <td>22 Years and 5 Months</td>\n",
       "      <td>No</td>\n",
       "      <td>49.574949</td>\n",
       "      <td>41.420153086217326</td>\n",
       "      <td>High_spent_Medium_value_payments</td>\n",
       "      <td>341.48923103222177</td>\n",
       "      <td>Good</td>\n",
       "    </tr>\n",
       "  </tbody>\n",
       "</table>\n",
       "<p>5 rows × 28 columns</p>\n",
       "</div>"
      ],
      "text/plain": [
       "       ID Customer_ID     Month           Name   Age          SSN Occupation  \\\n",
       "0  0x1602   CUS_0xd40   January  Aaron Maashoh    23  821-00-0265  Scientist   \n",
       "1  0x1603   CUS_0xd40  February  Aaron Maashoh    23  821-00-0265  Scientist   \n",
       "2  0x1604   CUS_0xd40     March  Aaron Maashoh  -500  821-00-0265  Scientist   \n",
       "3  0x1605   CUS_0xd40     April  Aaron Maashoh    23  821-00-0265  Scientist   \n",
       "4  0x1606   CUS_0xd40       May  Aaron Maashoh    23  821-00-0265  Scientist   \n",
       "\n",
       "  Annual_Income  Monthly_Inhand_Salary  Num_Bank_Accounts  ...  Credit_Mix  \\\n",
       "0      19114.12            1824.843333                  3  ...           _   \n",
       "1      19114.12                    NaN                  3  ...        Good   \n",
       "2      19114.12                    NaN                  3  ...        Good   \n",
       "3      19114.12                    NaN                  3  ...        Good   \n",
       "4      19114.12            1824.843333                  3  ...        Good   \n",
       "\n",
       "   Outstanding_Debt Credit_Utilization_Ratio     Credit_History_Age  \\\n",
       "0            809.98                26.822620  22 Years and 1 Months   \n",
       "1            809.98                31.944960                    NaN   \n",
       "2            809.98                28.609352  22 Years and 3 Months   \n",
       "3            809.98                31.377862  22 Years and 4 Months   \n",
       "4            809.98                24.797347  22 Years and 5 Months   \n",
       "\n",
       "   Payment_of_Min_Amount Total_EMI_per_month Amount_invested_monthly  \\\n",
       "0                     No           49.574949       80.41529543900253   \n",
       "1                     No           49.574949      118.28022162236736   \n",
       "2                     No           49.574949         81.699521264648   \n",
       "3                     No           49.574949       199.4580743910713   \n",
       "4                     No           49.574949      41.420153086217326   \n",
       "\n",
       "                  Payment_Behaviour     Monthly_Balance Credit_Score  \n",
       "0   High_spent_Small_value_payments  312.49408867943663         Good  \n",
       "1    Low_spent_Large_value_payments  284.62916249607184         Good  \n",
       "2   Low_spent_Medium_value_payments   331.2098628537912         Good  \n",
       "3    Low_spent_Small_value_payments  223.45130972736786         Good  \n",
       "4  High_spent_Medium_value_payments  341.48923103222177         Good  \n",
       "\n",
       "[5 rows x 28 columns]"
      ]
     },
     "execution_count": 5,
     "metadata": {},
     "output_type": "execute_result"
    }
   ],
   "source": [
    "df_train.head()"
   ]
  },
  {
   "cell_type": "markdown",
   "id": "1004bf66",
   "metadata": {},
   "source": [
    "## Data Wrangling..."
   ]
  },
  {
   "cell_type": "markdown",
   "id": "7bb4df51",
   "metadata": {},
   "source": [
    "**Check number of null value are present in train data...**"
   ]
  },
  {
   "cell_type": "code",
   "execution_count": 6,
   "id": "b1e58cbe",
   "metadata": {
    "ExecuteTime": {
     "end_time": "2022-06-17T17:33:48.897115Z",
     "start_time": "2022-06-17T17:33:48.613875Z"
    }
   },
   "outputs": [
    {
     "data": {
      "text/plain": [
       "ID                              0\n",
       "Customer_ID                     0\n",
       "Month                           0\n",
       "Name                         9985\n",
       "Age                             0\n",
       "SSN                             0\n",
       "Occupation                      0\n",
       "Annual_Income                   0\n",
       "Monthly_Inhand_Salary       15002\n",
       "Num_Bank_Accounts               0\n",
       "Num_Credit_Card                 0\n",
       "Interest_Rate                   0\n",
       "Num_of_Loan                     0\n",
       "Type_of_Loan                11408\n",
       "Delay_from_due_date             0\n",
       "Num_of_Delayed_Payment       7002\n",
       "Changed_Credit_Limit            0\n",
       "Num_Credit_Inquiries         1965\n",
       "Credit_Mix                      0\n",
       "Outstanding_Debt                0\n",
       "Credit_Utilization_Ratio        0\n",
       "Credit_History_Age           9030\n",
       "Payment_of_Min_Amount           0\n",
       "Total_EMI_per_month             0\n",
       "Amount_invested_monthly      4479\n",
       "Payment_Behaviour               0\n",
       "Monthly_Balance              1200\n",
       "Credit_Score                    0\n",
       "dtype: int64"
      ]
     },
     "execution_count": 6,
     "metadata": {},
     "output_type": "execute_result"
    }
   ],
   "source": [
    "df_train.isna().sum()"
   ]
  },
  {
   "cell_type": "markdown",
   "id": "1e83104c",
   "metadata": {
    "ExecuteTime": {
     "end_time": "2022-06-12T18:53:23.843121Z",
     "start_time": "2022-06-12T18:53:23.833146Z"
    }
   },
   "source": [
    "#### `ID` :\t_Represents a unique identification of an entry_"
   ]
  },
  {
   "cell_type": "code",
   "execution_count": 7,
   "id": "5213816e",
   "metadata": {
    "ExecuteTime": {
     "end_time": "2022-06-17T17:33:49.199308Z",
     "start_time": "2022-06-17T17:33:49.160413Z"
    }
   },
   "outputs": [
    {
     "data": {
      "text/plain": [
       "True"
      ]
     },
     "execution_count": 7,
     "metadata": {},
     "output_type": "execute_result"
    }
   ],
   "source": [
    "# Check number of unique row's match with length of dataframe\n",
    "df_train['ID'].nunique() == len(df_train)"
   ]
  },
  {
   "cell_type": "markdown",
   "id": "6280535a",
   "metadata": {},
   "source": [
    "#### `Customer_ID` :\t_Represents a unique identification of a person_"
   ]
  },
  {
   "cell_type": "code",
   "execution_count": 8,
   "id": "7138793e",
   "metadata": {
    "ExecuteTime": {
     "end_time": "2022-06-17T17:33:49.756819Z",
     "start_time": "2022-06-17T17:33:49.739863Z"
    }
   },
   "outputs": [
    {
     "data": {
      "text/plain": [
       "12500"
      ]
     },
     "execution_count": 8,
     "metadata": {},
     "output_type": "execute_result"
    }
   ],
   "source": [
    "# Check how many customers are presents ?\n",
    "df_train['Customer_ID'].nunique()"
   ]
  },
  {
   "cell_type": "markdown",
   "id": "9f2620d1",
   "metadata": {
    "heading_collapsed": true
   },
   "source": [
    "#### `Month` :\t_Represents the month of the year_"
   ]
  },
  {
   "cell_type": "markdown",
   "id": "c8fea845",
   "metadata": {
    "heading_collapsed": true
   },
   "source": [
    "#### `Name` :\t_Represents the name of the person_"
   ]
  },
  {
   "cell_type": "markdown",
   "id": "53bc5d39",
   "metadata": {
    "heading_collapsed": true
   },
   "source": [
    "#### `Age` :\t_Represents the age of the person_\n",
    "\n",
    "#### `SSN` :\t_Represents the social security number of a person_"
   ]
  },
  {
   "cell_type": "markdown",
   "id": "864f14c3",
   "metadata": {},
   "source": [
    "#### `Occupation` :\t_Represents the occupation of the person_"
   ]
  },
  {
   "cell_type": "code",
   "execution_count": 9,
   "id": "326debe5",
   "metadata": {
    "ExecuteTime": {
     "end_time": "2022-06-17T17:33:52.032736Z",
     "start_time": "2022-06-17T17:33:52.009799Z"
    }
   },
   "outputs": [
    {
     "data": {
      "text/plain": [
       "16"
      ]
     },
     "execution_count": 9,
     "metadata": {},
     "output_type": "execute_result"
    }
   ],
   "source": [
    "# how many different Occupation are presents ?\n",
    "df_train['Occupation'].nunique()"
   ]
  },
  {
   "cell_type": "code",
   "execution_count": 10,
   "id": "094eadaf",
   "metadata": {
    "ExecuteTime": {
     "end_time": "2022-06-17T17:33:52.829603Z",
     "start_time": "2022-06-17T17:33:52.087587Z"
    }
   },
   "outputs": [
    {
     "data": {
      "image/png": "[encoded data removed]",
      "text/plain": [
       "<Figure size 1080x360 with 1 Axes>"
      ]
     },
     "metadata": {
      "needs_background": "light"
     },
     "output_type": "display_data"
    }
   ],
   "source": [
    "# Plot barchart for each occupation \n",
    "plt.figure(figsize=(15, 5))\n",
    "sns.countplot(x=df_train['Occupation'])\n",
    "plt.xticks(rotation=45);"
   ]
  },
  {
   "cell_type": "markdown",
   "id": "7d3c588c",
   "metadata": {},
   "source": [
    "#### `Annual_Income` :\t_Represents the annual income of the person_"
   ]
  },
  {
   "cell_type": "code",
   "execution_count": 11,
   "id": "a1786965",
   "metadata": {
    "ExecuteTime": {
     "end_time": "2022-06-17T17:33:53.131794Z",
     "start_time": "2022-06-17T17:33:52.969233Z"
    }
   },
   "outputs": [],
   "source": [
    "# Convert `annual_income` into \"flot64\" datatype\n",
    "import re\n",
    "df_train['Annual_Income'] = [re.search(r'\\d+.\\d+', x)[0] for x in df_train['Annual_Income']]\n",
    "df_train['Annual_Income'] = df_train['Annual_Income'].astype('float64')"
   ]
  },
  {
   "cell_type": "code",
   "execution_count": 12,
   "id": "8e4e027d",
   "metadata": {
    "ExecuteTime": {
     "end_time": "2022-06-17T17:33:53.736178Z",
     "start_time": "2022-06-17T17:33:53.134788Z"
    }
   },
   "outputs": [
    {
     "name": "stderr",
     "output_type": "stream",
     "text": [
      "C:\\Users\\home_\\AppData\\Local\\Temp/ipykernel_1480/7698367.py:2: FutureWarning: Indexing with multiple keys (implicitly converted to a tuple of keys) will be deprecated, use a list instead.\n",
      "  df_train.groupby('Occupation')['Annual_Income', 'Monthly_Inhand_Salary'].mean()\n"
     ]
    },
    {
     "data": {
      "text/html": [
       "<div>\n",
       "<style scoped>\n",
       "    .dataframe tbody tr th:only-of-type {\n",
       "        vertical-align: middle;\n",
       "    }\n",
       "\n",
       "    .dataframe tbody tr th {\n",
       "        vertical-align: top;\n",
       "    }\n",
       "\n",
       "    .dataframe thead th {\n",
       "        text-align: right;\n",
       "    }\n",
       "</style>\n",
       "<table border=\"1\" class=\"dataframe\">\n",
       "  <thead>\n",
       "    <tr style=\"text-align: right;\">\n",
       "      <th></th>\n",
       "      <th>Annual_Income</th>\n",
       "      <th>Monthly_Inhand_Salary</th>\n",
       "    </tr>\n",
       "    <tr>\n",
       "      <th>Occupation</th>\n",
       "      <th></th>\n",
       "      <th></th>\n",
       "    </tr>\n",
       "  </thead>\n",
       "  <tbody>\n",
       "    <tr>\n",
       "      <th>Accountant</th>\n",
       "      <td>198570.933803</td>\n",
       "      <td>4222.727370</td>\n",
       "    </tr>\n",
       "    <tr>\n",
       "      <th>Architect</th>\n",
       "      <td>168015.546481</td>\n",
       "      <td>4284.783856</td>\n",
       "    </tr>\n",
       "    <tr>\n",
       "      <th>Developer</th>\n",
       "      <td>168694.593065</td>\n",
       "      <td>4144.332256</td>\n",
       "    </tr>\n",
       "    <tr>\n",
       "      <th>Doctor</th>\n",
       "      <td>191925.357637</td>\n",
       "      <td>4108.940425</td>\n",
       "    </tr>\n",
       "    <tr>\n",
       "      <th>Engineer</th>\n",
       "      <td>173880.853179</td>\n",
       "      <td>4252.244204</td>\n",
       "    </tr>\n",
       "    <tr>\n",
       "      <th>Entrepreneur</th>\n",
       "      <td>183451.049345</td>\n",
       "      <td>4235.833881</td>\n",
       "    </tr>\n",
       "    <tr>\n",
       "      <th>Journalist</th>\n",
       "      <td>157595.260546</td>\n",
       "      <td>4001.473736</td>\n",
       "    </tr>\n",
       "    <tr>\n",
       "      <th>Lawyer</th>\n",
       "      <td>196039.874458</td>\n",
       "      <td>4135.320552</td>\n",
       "    </tr>\n",
       "    <tr>\n",
       "      <th>Manager</th>\n",
       "      <td>159213.683160</td>\n",
       "      <td>4274.944070</td>\n",
       "    </tr>\n",
       "    <tr>\n",
       "      <th>Mechanic</th>\n",
       "      <td>172883.151648</td>\n",
       "      <td>4152.949715</td>\n",
       "    </tr>\n",
       "    <tr>\n",
       "      <th>Media_Manager</th>\n",
       "      <td>189396.435455</td>\n",
       "      <td>4229.528763</td>\n",
       "    </tr>\n",
       "    <tr>\n",
       "      <th>Musician</th>\n",
       "      <td>189441.146763</td>\n",
       "      <td>4270.046382</td>\n",
       "    </tr>\n",
       "    <tr>\n",
       "      <th>Scientist</th>\n",
       "      <td>174939.634720</td>\n",
       "      <td>4267.133667</td>\n",
       "    </tr>\n",
       "    <tr>\n",
       "      <th>Teacher</th>\n",
       "      <td>163079.628995</td>\n",
       "      <td>4124.698924</td>\n",
       "    </tr>\n",
       "    <tr>\n",
       "      <th>Writer</th>\n",
       "      <td>157502.885875</td>\n",
       "      <td>4242.815008</td>\n",
       "    </tr>\n",
       "    <tr>\n",
       "      <th>_______</th>\n",
       "      <td>175976.700304</td>\n",
       "      <td>4167.141723</td>\n",
       "    </tr>\n",
       "  </tbody>\n",
       "</table>\n",
       "</div>"
      ],
      "text/plain": [
       "               Annual_Income  Monthly_Inhand_Salary\n",
       "Occupation                                         \n",
       "Accountant     198570.933803            4222.727370\n",
       "Architect      168015.546481            4284.783856\n",
       "Developer      168694.593065            4144.332256\n",
       "Doctor         191925.357637            4108.940425\n",
       "Engineer       173880.853179            4252.244204\n",
       "Entrepreneur   183451.049345            4235.833881\n",
       "Journalist     157595.260546            4001.473736\n",
       "Lawyer         196039.874458            4135.320552\n",
       "Manager        159213.683160            4274.944070\n",
       "Mechanic       172883.151648            4152.949715\n",
       "Media_Manager  189396.435455            4229.528763\n",
       "Musician       189441.146763            4270.046382\n",
       "Scientist      174939.634720            4267.133667\n",
       "Teacher        163079.628995            4124.698924\n",
       "Writer         157502.885875            4242.815008\n",
       "_______        175976.700304            4167.141723"
      ]
     },
     "execution_count": 12,
     "metadata": {},
     "output_type": "execute_result"
    }
   ],
   "source": [
    "# Check each occupation average annual income\n",
    "df_train.groupby('Occupation')['Annual_Income', 'Monthly_Inhand_Salary'].mean()"
   ]
  },
  {
   "cell_type": "code",
   "execution_count": 13,
   "id": "88ba7b0c",
   "metadata": {
    "ExecuteTime": {
     "end_time": "2022-06-17T17:33:54.101202Z",
     "start_time": "2022-06-17T17:33:53.744159Z"
    }
   },
   "outputs": [
    {
     "data": {
      "text/plain": [
       "Text(0, 0.5, 'Average \"Annual_Income\"')"
      ]
     },
     "execution_count": 13,
     "metadata": {},
     "output_type": "execute_result"
    },
    {
     "data": {
      "image/png": "[encoded data removed]",
      "text/plain": [
       "<Figure size 1080x360 with 1 Axes>"
      ]
     },
     "metadata": {
      "needs_background": "light"
     },
     "output_type": "display_data"
    }
   ],
   "source": [
    "# plot bargraph average income by occupation\n",
    "plt.figure(figsize=(15, 5))\n",
    "sns.barplot(y=df_train.groupby('Occupation')['Annual_Income'].mean().values,\n",
    "            x=df_train.groupby('Occupation')['Annual_Income'].mean().index)\n",
    "plt.xticks(rotation=45);\n",
    "plt.ylabel('Average \"Annual_Income\"')"
   ]
  },
  {
   "cell_type": "markdown",
   "id": "99803f64",
   "metadata": {},
   "source": [
    "#### `Monthly_Base_Salary` :\t_Represents the monthly base salary of a person_"
   ]
  },
  {
   "cell_type": "code",
   "execution_count": 14,
   "id": "6c32f3db",
   "metadata": {
    "ExecuteTime": {
     "end_time": "2022-06-17T17:33:54.117161Z",
     "start_time": "2022-06-17T17:33:54.105192Z"
    }
   },
   "outputs": [],
   "source": [
    "# fill null value by 'ffill' method (it is fill by last valid observation forward to next valid)\n",
    "df_train['Monthly_Inhand_Salary'].fillna(method='ffill', inplace=True)"
   ]
  },
  {
   "cell_type": "code",
   "execution_count": 15,
   "id": "3439ca6d",
   "metadata": {
    "ExecuteTime": {
     "end_time": "2022-06-17T17:33:54.164036Z",
     "start_time": "2022-06-17T17:33:54.121150Z"
    }
   },
   "outputs": [
    {
     "data": {
      "text/html": [
       "<div>\n",
       "<style scoped>\n",
       "    .dataframe tbody tr th:only-of-type {\n",
       "        vertical-align: middle;\n",
       "    }\n",
       "\n",
       "    .dataframe tbody tr th {\n",
       "        vertical-align: top;\n",
       "    }\n",
       "\n",
       "    .dataframe thead th {\n",
       "        text-align: right;\n",
       "    }\n",
       "</style>\n",
       "<table border=\"1\" class=\"dataframe\">\n",
       "  <thead>\n",
       "    <tr style=\"text-align: right;\">\n",
       "      <th></th>\n",
       "      <th>Annual_Income</th>\n",
       "      <th>Monthly_Inhand_Salary</th>\n",
       "    </tr>\n",
       "  </thead>\n",
       "  <tbody>\n",
       "    <tr>\n",
       "      <th>count</th>\n",
       "      <td>1.000000e+05</td>\n",
       "      <td>100000.000000</td>\n",
       "    </tr>\n",
       "    <tr>\n",
       "      <th>mean</th>\n",
       "      <td>1.764157e+05</td>\n",
       "      <td>4196.144246</td>\n",
       "    </tr>\n",
       "    <tr>\n",
       "      <th>std</th>\n",
       "      <td>1.429618e+06</td>\n",
       "      <td>3187.848468</td>\n",
       "    </tr>\n",
       "    <tr>\n",
       "      <th>min</th>\n",
       "      <td>7.005930e+03</td>\n",
       "      <td>303.645417</td>\n",
       "    </tr>\n",
       "    <tr>\n",
       "      <th>25%</th>\n",
       "      <td>1.945750e+04</td>\n",
       "      <td>1625.558333</td>\n",
       "    </tr>\n",
       "    <tr>\n",
       "      <th>50%</th>\n",
       "      <td>3.757861e+04</td>\n",
       "      <td>3089.544583</td>\n",
       "    </tr>\n",
       "    <tr>\n",
       "      <th>75%</th>\n",
       "      <td>7.279092e+04</td>\n",
       "      <td>5957.715000</td>\n",
       "    </tr>\n",
       "    <tr>\n",
       "      <th>max</th>\n",
       "      <td>2.419806e+07</td>\n",
       "      <td>15204.633333</td>\n",
       "    </tr>\n",
       "  </tbody>\n",
       "</table>\n",
       "</div>"
      ],
      "text/plain": [
       "       Annual_Income  Monthly_Inhand_Salary\n",
       "count   1.000000e+05          100000.000000\n",
       "mean    1.764157e+05            4196.144246\n",
       "std     1.429618e+06            3187.848468\n",
       "min     7.005930e+03             303.645417\n",
       "25%     1.945750e+04            1625.558333\n",
       "50%     3.757861e+04            3089.544583\n",
       "75%     7.279092e+04            5957.715000\n",
       "max     2.419806e+07           15204.633333"
      ]
     },
     "execution_count": 15,
     "metadata": {},
     "output_type": "execute_result"
    }
   ],
   "source": [
    "# summarize annual and monthly income\n",
    "df_train[['Annual_Income', 'Monthly_Inhand_Salary']].describe()"
   ]
  },
  {
   "cell_type": "code",
   "execution_count": 242,
   "id": "ca0063aa",
   "metadata": {
    "ExecuteTime": {
     "end_time": "2022-06-19T19:01:12.158876Z",
     "start_time": "2022-06-19T19:01:12.030981Z"
    }
   },
   "outputs": [
    {
     "data": {
      "text/plain": [
       "<AxesSubplot:xlabel='Annual_Income'>"
      ]
     },
     "execution_count": 242,
     "metadata": {},
     "output_type": "execute_result"
    },
    {
     "data": {
      "image/png": "[encoded data removed]",
      "text/plain": [
       "<Figure size 1152x288 with 1 Axes>"
      ]
     },
     "metadata": {
      "needs_background": "light"
     },
     "output_type": "display_data"
    }
   ],
   "source": [
    "# Check outliners of number of accounts\n",
    "plt.figure(figsize=(16, 4))\n",
    "sns.boxplot(x=iqr_method_outliers(column=df_train['Annual_Income']))"
   ]
  },
  {
   "cell_type": "code",
   "execution_count": 243,
   "id": "7dad107a",
   "metadata": {
    "ExecuteTime": {
     "end_time": "2022-06-19T19:01:43.611944Z",
     "start_time": "2022-06-19T19:01:43.591003Z"
    }
   },
   "outputs": [],
   "source": [
    "df_train['Annual_Income'] = iqr_method_outliers(column=df_train['Annual_Income'])"
   ]
  },
  {
   "cell_type": "code",
   "execution_count": 244,
   "id": "0cfd4893",
   "metadata": {
    "ExecuteTime": {
     "end_time": "2022-06-19T19:02:04.803108Z",
     "start_time": "2022-06-19T19:02:04.660925Z"
    }
   },
   "outputs": [
    {
     "data": {
      "text/plain": [
       "<AxesSubplot:xlabel='Monthly_Inhand_Salary'>"
      ]
     },
     "execution_count": 244,
     "metadata": {},
     "output_type": "execute_result"
    },
    {
     "data": {
      "image/png": "[encoded data removed]",
      "text/plain": [
       "<Figure size 1152x288 with 1 Axes>"
      ]
     },
     "metadata": {
      "needs_background": "light"
     },
     "output_type": "display_data"
    }
   ],
   "source": [
    "# Check outliners of number of accounts\n",
    "plt.figure(figsize=(16, 4))\n",
    "sns.boxplot(x=iqr_method_outliers(column=df_train['Monthly_Inhand_Salary']))"
   ]
  },
  {
   "cell_type": "code",
   "execution_count": 245,
   "id": "54d48385",
   "metadata": {
    "ExecuteTime": {
     "end_time": "2022-06-19T19:02:32.953212Z",
     "start_time": "2022-06-19T19:02:32.934222Z"
    }
   },
   "outputs": [],
   "source": [
    "df_train['Monthly_Inhand_Salary'] = iqr_method_outliers(column=df_train['Monthly_Inhand_Salary'])"
   ]
  },
  {
   "cell_type": "markdown",
   "id": "36912d77",
   "metadata": {},
   "source": [
    "#### `Num_Bank_Accounts` :\t_Represents the number of bank accounts a person holds_"
   ]
  },
  {
   "cell_type": "code",
   "execution_count": 16,
   "id": "1e59d0dc",
   "metadata": {
    "ExecuteTime": {
     "end_time": "2022-06-17T17:33:54.719552Z",
     "start_time": "2022-06-17T17:33:54.704590Z"
    }
   },
   "outputs": [
    {
     "data": {
      "text/plain": [
       "943"
      ]
     },
     "execution_count": 16,
     "metadata": {},
     "output_type": "execute_result"
    }
   ],
   "source": [
    "# Check how many different accounts present ? \n",
    "df_train['Num_Bank_Accounts'].nunique()"
   ]
  },
  {
   "cell_type": "code",
   "execution_count": 17,
   "id": "f5b6c19f",
   "metadata": {
    "ExecuteTime": {
     "end_time": "2022-06-17T17:33:54.799337Z",
     "start_time": "2022-06-17T17:33:54.784377Z"
    }
   },
   "outputs": [
    {
     "data": {
      "text/plain": [
       "count    100000.000000\n",
       "mean         17.091280\n",
       "std         117.404834\n",
       "min          -1.000000\n",
       "25%           3.000000\n",
       "50%           6.000000\n",
       "75%           7.000000\n",
       "max        1798.000000\n",
       "Name: Num_Bank_Accounts, dtype: float64"
      ]
     },
     "execution_count": 17,
     "metadata": {},
     "output_type": "execute_result"
    }
   ],
   "source": [
    "# Summarize\n",
    "df_train['Num_Bank_Accounts'].describe()"
   ]
  },
  {
   "cell_type": "code",
   "execution_count": 18,
   "id": "fd8f5bc3",
   "metadata": {
    "ExecuteTime": {
     "end_time": "2022-06-17T17:33:55.052659Z",
     "start_time": "2022-06-17T17:33:54.862169Z"
    }
   },
   "outputs": [
    {
     "name": "stderr",
     "output_type": "stream",
     "text": [
      "C:\\Users\\home_\\AppData\\Roaming\\Python\\Python39\\site-packages\\seaborn\\_decorators.py:36: FutureWarning: Pass the following variable as a keyword arg: x. From version 0.12, the only valid positional argument will be `data`, and passing other arguments without an explicit keyword will result in an error or misinterpretation.\n",
      "  warnings.warn(\n"
     ]
    },
    {
     "data": {
      "text/plain": [
       "<AxesSubplot:xlabel='Num_Bank_Accounts'>"
      ]
     },
     "execution_count": 18,
     "metadata": {},
     "output_type": "execute_result"
    },
    {
     "data": {
      "image/png": "[encoded data removed]",
      "text/plain": [
       "<Figure size 1152x288 with 1 Axes>"
      ]
     },
     "metadata": {
      "needs_background": "light"
     },
     "output_type": "display_data"
    }
   ],
   "source": [
    "# Check outliners of number of accounts\n",
    "plt.figure(figsize=(16, 4))\n",
    "sns.boxplot(df_train['Num_Bank_Accounts'])"
   ]
  },
  {
   "cell_type": "code",
   "execution_count": 197,
   "id": "b8c32304",
   "metadata": {
    "ExecuteTime": {
     "end_time": "2022-06-19T16:41:38.826347Z",
     "start_time": "2022-06-19T16:41:38.808393Z"
    }
   },
   "outputs": [],
   "source": [
    "def iqr_method_outliers(column):\n",
    "    data_ = column\n",
    "    q1 = data_.quantile(.25)\n",
    "    q3 = data_.quantile(.75)\n",
    "    iqr = q3-q1\n",
    "    lower_bound = q1 - 1.25*iqr\n",
    "    upper_bound = q3 + 1.25*iqr\n",
    "    return data_.clip(lower=lower_bound, upper=upper_bound, axis=0)"
   ]
  },
  {
   "cell_type": "code",
   "execution_count": 199,
   "id": "eac25792",
   "metadata": {
    "ExecuteTime": {
     "end_time": "2022-06-19T16:41:58.360405Z",
     "start_time": "2022-06-19T16:41:58.331485Z"
    }
   },
   "outputs": [
    {
     "data": {
      "text/plain": [
       "0        3.0\n",
       "1        3.0\n",
       "2        3.0\n",
       "3        3.0\n",
       "4        3.0\n",
       "        ... \n",
       "99995    4.0\n",
       "99996    4.0\n",
       "99997    4.0\n",
       "99998    4.0\n",
       "99999    4.0\n",
       "Name: Num_Bank_Accounts, Length: 100000, dtype: float64"
      ]
     },
     "execution_count": 199,
     "metadata": {},
     "output_type": "execute_result"
    }
   ],
   "source": [
    "iqr_method_outliers(column=df_train['Num_Bank_Accounts'])"
   ]
  },
  {
   "cell_type": "code",
   "execution_count": 200,
   "id": "21296de2",
   "metadata": {
    "ExecuteTime": {
     "end_time": "2022-06-19T16:42:13.413478Z",
     "start_time": "2022-06-19T16:42:13.265583Z"
    }
   },
   "outputs": [
    {
     "data": {
      "text/plain": [
       "<AxesSubplot:xlabel='Num_Bank_Accounts'>"
      ]
     },
     "execution_count": 200,
     "metadata": {},
     "output_type": "execute_result"
    },
    {
     "data": {
      "image/png": "[encoded data removed]",
      "text/plain": [
       "<Figure size 1152x288 with 1 Axes>"
      ]
     },
     "metadata": {
      "needs_background": "light"
     },
     "output_type": "display_data"
    }
   ],
   "source": [
    "# Check outliners of number of accounts\n",
    "plt.figure(figsize=(16, 4))\n",
    "sns.boxplot(x=iqr_method_outliers(column=df_train['Num_Bank_Accounts']))"
   ]
  },
  {
   "cell_type": "code",
   "execution_count": 201,
   "id": "b4bc690b",
   "metadata": {
    "ExecuteTime": {
     "end_time": "2022-06-19T18:43:55.121498Z",
     "start_time": "2022-06-19T18:43:54.885263Z"
    }
   },
   "outputs": [],
   "source": [
    "df_train['Num_Bank_Accounts'] = iqr_method_outliers(column=df_train['Num_Bank_Accounts'])"
   ]
  },
  {
   "cell_type": "markdown",
   "id": "84182a62",
   "metadata": {},
   "source": [
    "#### `Num_Credit_Card` :\t_Represents the number of other credit cards held by a person_"
   ]
  },
  {
   "cell_type": "code",
   "execution_count": 19,
   "id": "2fa24481",
   "metadata": {
    "ExecuteTime": {
     "end_time": "2022-06-17T17:33:55.543347Z",
     "start_time": "2022-06-17T17:33:55.535368Z"
    }
   },
   "outputs": [
    {
     "data": {
      "text/plain": [
       "1179"
      ]
     },
     "execution_count": 19,
     "metadata": {},
     "output_type": "execute_result"
    }
   ],
   "source": [
    "df_train['Num_Credit_Card'].nunique()"
   ]
  },
  {
   "cell_type": "code",
   "execution_count": 20,
   "id": "9730320a",
   "metadata": {
    "ExecuteTime": {
     "end_time": "2022-06-17T17:33:55.622137Z",
     "start_time": "2022-06-17T17:33:55.609171Z"
    }
   },
   "outputs": [
    {
     "data": {
      "text/plain": [
       "count    100000.00000\n",
       "mean         22.47443\n",
       "std         129.05741\n",
       "min           0.00000\n",
       "25%           4.00000\n",
       "50%           5.00000\n",
       "75%           7.00000\n",
       "max        1499.00000\n",
       "Name: Num_Credit_Card, dtype: float64"
      ]
     },
     "execution_count": 20,
     "metadata": {},
     "output_type": "execute_result"
    }
   ],
   "source": [
    "df_train['Num_Credit_Card'].describe()"
   ]
  },
  {
   "cell_type": "code",
   "execution_count": 21,
   "id": "def3b1a8",
   "metadata": {
    "ExecuteTime": {
     "end_time": "2022-06-17T17:33:55.829582Z",
     "start_time": "2022-06-17T17:33:55.685966Z"
    }
   },
   "outputs": [
    {
     "name": "stderr",
     "output_type": "stream",
     "text": [
      "C:\\Users\\home_\\AppData\\Roaming\\Python\\Python39\\site-packages\\seaborn\\_decorators.py:36: FutureWarning: Pass the following variable as a keyword arg: x. From version 0.12, the only valid positional argument will be `data`, and passing other arguments without an explicit keyword will result in an error or misinterpretation.\n",
      "  warnings.warn(\n"
     ]
    },
    {
     "data": {
      "text/plain": [
       "<AxesSubplot:xlabel='Num_Credit_Card'>"
      ]
     },
     "execution_count": 21,
     "metadata": {},
     "output_type": "execute_result"
    },
    {
     "data": {
      "image/png": "[encoded data removed]",
      "text/plain": [
       "<Figure size 1152x288 with 1 Axes>"
      ]
     },
     "metadata": {
      "needs_background": "light"
     },
     "output_type": "display_data"
    }
   ],
   "source": [
    "plt.figure(figsize=(16, 4))\n",
    "sns.boxplot(df_train['Num_Credit_Card'])"
   ]
  },
  {
   "cell_type": "code",
   "execution_count": 202,
   "id": "cead5a4e",
   "metadata": {
    "ExecuteTime": {
     "end_time": "2022-06-19T18:45:04.095880Z",
     "start_time": "2022-06-19T18:45:03.952264Z"
    }
   },
   "outputs": [
    {
     "data": {
      "text/plain": [
       "<AxesSubplot:xlabel='Num_Credit_Card'>"
      ]
     },
     "execution_count": 202,
     "metadata": {},
     "output_type": "execute_result"
    },
    {
     "data": {
      "image/png": "[encoded data removed]",
      "text/plain": [
       "<Figure size 1152x288 with 1 Axes>"
      ]
     },
     "metadata": {
      "needs_background": "light"
     },
     "output_type": "display_data"
    }
   ],
   "source": [
    "# Check outliners of number of accounts\n",
    "plt.figure(figsize=(16, 4))\n",
    "sns.boxplot(x=iqr_method_outliers(column=df_train['Num_Credit_Card']))"
   ]
  },
  {
   "cell_type": "code",
   "execution_count": 203,
   "id": "21f51ea3",
   "metadata": {
    "ExecuteTime": {
     "end_time": "2022-06-19T18:45:58.972678Z",
     "start_time": "2022-06-19T18:45:58.941764Z"
    }
   },
   "outputs": [],
   "source": [
    "df_train['Num_Credit_Card'] = iqr_method_outliers(column=df_train['Num_Credit_Card'])"
   ]
  },
  {
   "cell_type": "code",
   "execution_count": 22,
   "id": "077f91da",
   "metadata": {
    "ExecuteTime": {
     "end_time": "2022-06-17T17:33:55.861497Z",
     "start_time": "2022-06-17T17:33:55.833573Z"
    }
   },
   "outputs": [
    {
     "data": {
      "text/html": [
       "<div>\n",
       "<style scoped>\n",
       "    .dataframe tbody tr th:only-of-type {\n",
       "        vertical-align: middle;\n",
       "    }\n",
       "\n",
       "    .dataframe tbody tr th {\n",
       "        vertical-align: top;\n",
       "    }\n",
       "\n",
       "    .dataframe thead th {\n",
       "        text-align: right;\n",
       "    }\n",
       "</style>\n",
       "<table border=\"1\" class=\"dataframe\">\n",
       "  <thead>\n",
       "    <tr style=\"text-align: right;\">\n",
       "      <th></th>\n",
       "      <th>Num_Bank_Accounts</th>\n",
       "      <th>Num_Credit_Card</th>\n",
       "    </tr>\n",
       "  </thead>\n",
       "  <tbody>\n",
       "    <tr>\n",
       "      <th>count</th>\n",
       "      <td>100000.000000</td>\n",
       "      <td>100000.00000</td>\n",
       "    </tr>\n",
       "    <tr>\n",
       "      <th>mean</th>\n",
       "      <td>17.091280</td>\n",
       "      <td>22.47443</td>\n",
       "    </tr>\n",
       "    <tr>\n",
       "      <th>std</th>\n",
       "      <td>117.404834</td>\n",
       "      <td>129.05741</td>\n",
       "    </tr>\n",
       "    <tr>\n",
       "      <th>min</th>\n",
       "      <td>-1.000000</td>\n",
       "      <td>0.00000</td>\n",
       "    </tr>\n",
       "    <tr>\n",
       "      <th>25%</th>\n",
       "      <td>3.000000</td>\n",
       "      <td>4.00000</td>\n",
       "    </tr>\n",
       "    <tr>\n",
       "      <th>50%</th>\n",
       "      <td>6.000000</td>\n",
       "      <td>5.00000</td>\n",
       "    </tr>\n",
       "    <tr>\n",
       "      <th>75%</th>\n",
       "      <td>7.000000</td>\n",
       "      <td>7.00000</td>\n",
       "    </tr>\n",
       "    <tr>\n",
       "      <th>max</th>\n",
       "      <td>1798.000000</td>\n",
       "      <td>1499.00000</td>\n",
       "    </tr>\n",
       "  </tbody>\n",
       "</table>\n",
       "</div>"
      ],
      "text/plain": [
       "       Num_Bank_Accounts  Num_Credit_Card\n",
       "count      100000.000000     100000.00000\n",
       "mean           17.091280         22.47443\n",
       "std           117.404834        129.05741\n",
       "min            -1.000000          0.00000\n",
       "25%             3.000000          4.00000\n",
       "50%             6.000000          5.00000\n",
       "75%             7.000000          7.00000\n",
       "max          1798.000000       1499.00000"
      ]
     },
     "execution_count": 22,
     "metadata": {},
     "output_type": "execute_result"
    }
   ],
   "source": [
    "df_train[['Num_Bank_Accounts','Num_Credit_Card']].describe()"
   ]
  },
  {
   "cell_type": "markdown",
   "id": "5db1fa58",
   "metadata": {},
   "source": [
    "#### `Interest_Rate` :\t_Represents the interest rate on credit card_"
   ]
  },
  {
   "cell_type": "code",
   "execution_count": 23,
   "id": "8feb0fe9",
   "metadata": {
    "ExecuteTime": {
     "end_time": "2022-06-17T17:33:56.386094Z",
     "start_time": "2022-06-17T17:33:56.366147Z"
    }
   },
   "outputs": [
    {
     "data": {
      "text/plain": [
       "1750"
      ]
     },
     "execution_count": 23,
     "metadata": {},
     "output_type": "execute_result"
    }
   ],
   "source": [
    "df_train['Interest_Rate'].nunique()"
   ]
  },
  {
   "cell_type": "code",
   "execution_count": 24,
   "id": "1db1e0af",
   "metadata": {
    "ExecuteTime": {
     "end_time": "2022-06-17T17:33:56.465885Z",
     "start_time": "2022-06-17T17:33:56.443939Z"
    }
   },
   "outputs": [
    {
     "data": {
      "text/plain": [
       "count    100000.000000\n",
       "mean         72.466040\n",
       "std         466.422621\n",
       "min           1.000000\n",
       "25%           8.000000\n",
       "50%          13.000000\n",
       "75%          20.000000\n",
       "max        5797.000000\n",
       "Name: Interest_Rate, dtype: float64"
      ]
     },
     "execution_count": 24,
     "metadata": {},
     "output_type": "execute_result"
    }
   ],
   "source": [
    "df_train['Interest_Rate'].describe()"
   ]
  },
  {
   "cell_type": "code",
   "execution_count": 25,
   "id": "57458e65",
   "metadata": {
    "ExecuteTime": {
     "end_time": "2022-06-17T17:33:56.671376Z",
     "start_time": "2022-06-17T17:33:56.518742Z"
    }
   },
   "outputs": [
    {
     "name": "stderr",
     "output_type": "stream",
     "text": [
      "C:\\Users\\home_\\AppData\\Roaming\\Python\\Python39\\site-packages\\seaborn\\_decorators.py:36: FutureWarning: Pass the following variable as a keyword arg: x. From version 0.12, the only valid positional argument will be `data`, and passing other arguments without an explicit keyword will result in an error or misinterpretation.\n",
      "  warnings.warn(\n"
     ]
    },
    {
     "data": {
      "text/plain": [
       "<AxesSubplot:xlabel='Interest_Rate'>"
      ]
     },
     "execution_count": 25,
     "metadata": {},
     "output_type": "execute_result"
    },
    {
     "data": {
      "image/png": "[encoded data removed]",
      "text/plain": [
       "<Figure size 1152x288 with 1 Axes>"
      ]
     },
     "metadata": {
      "needs_background": "light"
     },
     "output_type": "display_data"
    }
   ],
   "source": [
    "plt.figure(figsize=(16,4))\n",
    "sns.boxenplot(df_train['Interest_Rate'])"
   ]
  },
  {
   "cell_type": "code",
   "execution_count": 204,
   "id": "16568aa4",
   "metadata": {
    "ExecuteTime": {
     "end_time": "2022-06-19T18:46:57.597075Z",
     "start_time": "2022-06-19T18:46:57.453458Z"
    }
   },
   "outputs": [
    {
     "data": {
      "text/plain": [
       "<AxesSubplot:xlabel='Interest_Rate'>"
      ]
     },
     "execution_count": 204,
     "metadata": {},
     "output_type": "execute_result"
    },
    {
     "data": {
      "image/png": "[encoded data removed]",
      "text/plain": [
       "<Figure size 1152x288 with 1 Axes>"
      ]
     },
     "metadata": {
      "needs_background": "light"
     },
     "output_type": "display_data"
    }
   ],
   "source": [
    "# Check outliners of number of accounts\n",
    "plt.figure(figsize=(16, 4))\n",
    "sns.boxplot(x=iqr_method_outliers(column=df_train['Interest_Rate']))"
   ]
  },
  {
   "cell_type": "code",
   "execution_count": 205,
   "id": "a24f627d",
   "metadata": {
    "ExecuteTime": {
     "end_time": "2022-06-19T18:47:33.131606Z",
     "start_time": "2022-06-19T18:47:33.109667Z"
    }
   },
   "outputs": [],
   "source": [
    "df_train['Interest_Rate'] = iqr_method_outliers(column=df_train['Interest_Rate'])"
   ]
  },
  {
   "cell_type": "markdown",
   "id": "3581a43b",
   "metadata": {},
   "source": [
    "#### `Num_of_Loan` :\t_Represents the number of loans taken from the bank_"
   ]
  },
  {
   "cell_type": "code",
   "execution_count": 26,
   "id": "09651131",
   "metadata": {
    "ExecuteTime": {
     "end_time": "2022-06-17T17:33:57.352510Z",
     "start_time": "2022-06-17T17:33:57.142112Z"
    }
   },
   "outputs": [],
   "source": [
    "df_train['Num_of_Loan'] = [int(re.search(r'-\\d*|\\d*', x)[0]) for x in df_train['Num_of_Loan']]"
   ]
  },
  {
   "cell_type": "code",
   "execution_count": 27,
   "id": "ad04b038",
   "metadata": {
    "ExecuteTime": {
     "end_time": "2022-06-17T17:33:57.368468Z",
     "start_time": "2022-06-17T17:33:57.356499Z"
    }
   },
   "outputs": [
    {
     "data": {
      "text/plain": [
       "0        4\n",
       "1        4\n",
       "2        4\n",
       "3        4\n",
       "4        4\n",
       "        ..\n",
       "99995    2\n",
       "99996    2\n",
       "99997    2\n",
       "99998    2\n",
       "99999    2\n",
       "Name: Num_of_Loan, Length: 100000, dtype: int64"
      ]
     },
     "execution_count": 27,
     "metadata": {},
     "output_type": "execute_result"
    }
   ],
   "source": [
    "df_train['Num_of_Loan']"
   ]
  },
  {
   "cell_type": "code",
   "execution_count": 28,
   "id": "e935471b",
   "metadata": {
    "ExecuteTime": {
     "end_time": "2022-06-17T17:33:57.384425Z",
     "start_time": "2022-06-17T17:33:57.372458Z"
    }
   },
   "outputs": [
    {
     "data": {
      "text/plain": [
       "414"
      ]
     },
     "execution_count": 28,
     "metadata": {},
     "output_type": "execute_result"
    }
   ],
   "source": [
    "df_train['Num_of_Loan'].nunique()"
   ]
  },
  {
   "cell_type": "code",
   "execution_count": 29,
   "id": "c16b2c78",
   "metadata": {
    "ExecuteTime": {
     "end_time": "2022-06-17T17:33:57.432297Z",
     "start_time": "2022-06-17T17:33:57.407364Z"
    }
   },
   "outputs": [
    {
     "data": {
      "text/plain": [
       "count    100000.000000\n",
       "mean          3.009960\n",
       "std          62.647879\n",
       "min        -100.000000\n",
       "25%           1.000000\n",
       "50%           3.000000\n",
       "75%           5.000000\n",
       "max        1496.000000\n",
       "Name: Num_of_Loan, dtype: float64"
      ]
     },
     "execution_count": 29,
     "metadata": {},
     "output_type": "execute_result"
    }
   ],
   "source": [
    "df_train['Num_of_Loan'].describe()"
   ]
  },
  {
   "cell_type": "code",
   "execution_count": 30,
   "id": "ce07572e",
   "metadata": {
    "ExecuteTime": {
     "end_time": "2022-06-17T17:33:57.636750Z",
     "start_time": "2022-06-17T17:33:57.486154Z"
    },
    "scrolled": true
   },
   "outputs": [
    {
     "data": {
      "text/plain": [
       "<AxesSubplot:xlabel='Num_of_Loan'>"
      ]
     },
     "execution_count": 30,
     "metadata": {},
     "output_type": "execute_result"
    },
    {
     "data": {
      "image/png": "[encoded data removed]",
      "text/plain": [
       "<Figure size 1152x288 with 1 Axes>"
      ]
     },
     "metadata": {
      "needs_background": "light"
     },
     "output_type": "display_data"
    }
   ],
   "source": [
    "plt.figure(figsize=(16,4))\n",
    "sns.boxenplot(x=df_train['Num_of_Loan'])"
   ]
  },
  {
   "cell_type": "code",
   "execution_count": 206,
   "id": "f84218bb",
   "metadata": {
    "ExecuteTime": {
     "end_time": "2022-06-19T18:48:07.459234Z",
     "start_time": "2022-06-19T18:48:07.317930Z"
    }
   },
   "outputs": [
    {
     "data": {
      "text/plain": [
       "<AxesSubplot:xlabel='Num_of_Loan'>"
      ]
     },
     "execution_count": 206,
     "metadata": {},
     "output_type": "execute_result"
    },
    {
     "data": {
      "image/png": "[encoded data removed]",
      "text/plain": [
       "<Figure size 1152x288 with 1 Axes>"
      ]
     },
     "metadata": {
      "needs_background": "light"
     },
     "output_type": "display_data"
    }
   ],
   "source": [
    "# Check outliners of number of accounts\n",
    "plt.figure(figsize=(16, 4))\n",
    "sns.boxplot(x=iqr_method_outliers(column=df_train['Num_of_Loan']))"
   ]
  },
  {
   "cell_type": "code",
   "execution_count": 207,
   "id": "a91adfd2",
   "metadata": {
    "ExecuteTime": {
     "end_time": "2022-06-19T18:48:54.354191Z",
     "start_time": "2022-06-19T18:48:54.334246Z"
    }
   },
   "outputs": [],
   "source": [
    "df_train['Num_of_Loan'] = iqr_method_outliers(column=df_train['Num_of_Loan'])"
   ]
  },
  {
   "cell_type": "markdown",
   "id": "5c9432a8",
   "metadata": {},
   "source": [
    "#### `Type_of_Loan` :\t_Represents the types of loan taken by a person_"
   ]
  },
  {
   "cell_type": "code",
   "execution_count": 31,
   "id": "97cacad3",
   "metadata": {
    "ExecuteTime": {
     "end_time": "2022-06-17T17:33:58.143900Z",
     "start_time": "2022-06-17T17:33:58.123952Z"
    }
   },
   "outputs": [
    {
     "data": {
      "text/plain": [
       "6260"
      ]
     },
     "execution_count": 31,
     "metadata": {},
     "output_type": "execute_result"
    }
   ],
   "source": [
    "df_train['Type_of_Loan'].nunique()"
   ]
  },
  {
   "cell_type": "code",
   "execution_count": 32,
   "id": "54b97548",
   "metadata": {
    "ExecuteTime": {
     "end_time": "2022-06-17T17:33:58.255602Z",
     "start_time": "2022-06-17T17:33:58.221692Z"
    }
   },
   "outputs": [
    {
     "data": {
      "text/plain": [
       "count             88592\n",
       "unique             6260\n",
       "top       Not Specified\n",
       "freq               1408\n",
       "Name: Type_of_Loan, dtype: object"
      ]
     },
     "execution_count": 32,
     "metadata": {},
     "output_type": "execute_result"
    }
   ],
   "source": [
    "df_train['Type_of_Loan'].describe()"
   ]
  },
  {
   "cell_type": "code",
   "execution_count": 33,
   "id": "bd12c96b",
   "metadata": {
    "ExecuteTime": {
     "end_time": "2022-06-17T17:33:58.335425Z",
     "start_time": "2022-06-17T17:33:58.319429Z"
    }
   },
   "outputs": [
    {
     "data": {
      "text/plain": [
       "11408"
      ]
     },
     "execution_count": 33,
     "metadata": {},
     "output_type": "execute_result"
    }
   ],
   "source": [
    "df_train['Type_of_Loan'].isna().sum()"
   ]
  },
  {
   "cell_type": "code",
   "execution_count": 34,
   "id": "7ec676b2",
   "metadata": {
    "ExecuteTime": {
     "end_time": "2022-06-17T17:33:58.415172Z",
     "start_time": "2022-06-17T17:33:58.399215Z"
    }
   },
   "outputs": [
    {
     "data": {
      "text/plain": [
       "Not Specified                               1408\n",
       "Credit-Builder Loan                         1280\n",
       "Personal Loan                               1272\n",
       "Debt Consolidation Loan                     1264\n",
       "Student Loan                                1240\n",
       "Payday Loan                                 1200\n",
       "Mortgage Loan                               1176\n",
       "Auto Loan                                   1152\n",
       "Home Equity Loan                            1136\n",
       "Personal Loan, and Student Loan              320\n",
       "Not Specified, and Payday Loan               272\n",
       "Mortgage Loan, and Home Equity Loan          264\n",
       "Student Loan, and Payday Loan                256\n",
       "Credit-Builder Loan, and Not Specified       248\n",
       "Student Loan, and Credit-Builder Loan        248\n",
       "Payday Loan, and Auto Loan                   240\n",
       "Payday Loan, and Debt Consolidation Loan     240\n",
       "Payday Loan, and Student Loan                232\n",
       "Personal Loan, and Credit-Builder Loan       232\n",
       "Mortgage Loan, and Not Specified             232\n",
       "Name: Type_of_Loan, dtype: int64"
      ]
     },
     "execution_count": 34,
     "metadata": {},
     "output_type": "execute_result"
    }
   ],
   "source": [
    "df_train['Type_of_Loan'].value_counts().head(20)"
   ]
  },
  {
   "cell_type": "code",
   "execution_count": 35,
   "id": "fd1fc329",
   "metadata": {
    "ExecuteTime": {
     "end_time": "2022-06-17T17:33:58.510219Z",
     "start_time": "2022-06-17T17:33:58.475352Z"
    }
   },
   "outputs": [
    {
     "data": {
      "text/plain": [
       "count    11408.000000\n",
       "mean         0.121406\n",
       "std         64.886398\n",
       "min       -100.000000\n",
       "25%          0.000000\n",
       "50%          0.000000\n",
       "75%          0.000000\n",
       "max       1478.000000\n",
       "Name: Num_of_Loan, dtype: float64"
      ]
     },
     "execution_count": 35,
     "metadata": {},
     "output_type": "execute_result"
    }
   ],
   "source": [
    "df_train[df_train['Type_of_Loan'].isna()]['Num_of_Loan'].describe()"
   ]
  },
  {
   "cell_type": "code",
   "execution_count": 36,
   "id": "16c3fa8f",
   "metadata": {
    "ExecuteTime": {
     "end_time": "2022-06-17T17:33:59.637203Z",
     "start_time": "2022-06-17T17:33:58.562078Z"
    }
   },
   "outputs": [],
   "source": [
    "# If someone no take loan then 'Num of loan' will be '0' or less than '0' so I fill `Type of Loan` as a \"NO_LOAN\"\n",
    "for index in df_train[(df_train['Num_of_Loan']<=0)&(df_train['Type_of_Loan'].isna())]['Type_of_Loan'].index:\n",
    "    df_train.loc[index, 'Type_of_Loan'] = 'No_Loan'"
   ]
  },
  {
   "cell_type": "code",
   "execution_count": 37,
   "id": "348a8840",
   "metadata": {
    "ExecuteTime": {
     "end_time": "2022-06-17T17:33:59.653161Z",
     "start_time": "2022-06-17T17:33:59.640197Z"
    }
   },
   "outputs": [
    {
     "data": {
      "text/plain": [
       "61"
      ]
     },
     "execution_count": 37,
     "metadata": {},
     "output_type": "execute_result"
    }
   ],
   "source": [
    "df_train['Type_of_Loan'].isna().sum()"
   ]
  },
  {
   "cell_type": "code",
   "execution_count": 38,
   "id": "595a2689",
   "metadata": {
    "ExecuteTime": {
     "end_time": "2022-06-17T17:33:59.685075Z",
     "start_time": "2022-06-17T17:33:59.656153Z"
    }
   },
   "outputs": [
    {
     "data": {
      "text/plain": [
       "count      61.000000\n",
       "mean      706.311475\n",
       "std       473.022182\n",
       "min        18.000000\n",
       "25%       288.000000\n",
       "50%       652.000000\n",
       "75%      1070.000000\n",
       "max      1478.000000\n",
       "Name: Num_of_Loan, dtype: float64"
      ]
     },
     "execution_count": 38,
     "metadata": {},
     "output_type": "execute_result"
    }
   ],
   "source": [
    "df_train[df_train['Type_of_Loan'].isna()]['Num_of_Loan'].describe()"
   ]
  },
  {
   "cell_type": "code",
   "execution_count": 39,
   "id": "91eebffa",
   "metadata": {
    "ExecuteTime": {
     "end_time": "2022-06-17T17:33:59.701034Z",
     "start_time": "2022-06-17T17:33:59.689066Z"
    }
   },
   "outputs": [],
   "source": [
    "# Then fill other null value in `Type of Loan` by 'Not Specified'\n",
    "df_train['Type_of_Loan'].fillna(value='Not Specified', inplace=True)"
   ]
  },
  {
   "cell_type": "code",
   "execution_count": 40,
   "id": "5176f53c",
   "metadata": {
    "ExecuteTime": {
     "end_time": "2022-06-17T17:34:00.066057Z",
     "start_time": "2022-06-17T17:33:59.705022Z"
    }
   },
   "outputs": [],
   "source": [
    "types_loan = [re.split(r', and |, ', str(x)) if ' and ' in str(x) else x for x in df_train['Type_of_Loan']]"
   ]
  },
  {
   "cell_type": "markdown",
   "id": "114a189a",
   "metadata": {},
   "source": [
    "#### `Delay_from_due_date` :\t_Represents the average number of days delayed from the payments date_"
   ]
  },
  {
   "cell_type": "code",
   "execution_count": 41,
   "id": "ba635b71",
   "metadata": {
    "ExecuteTime": {
     "end_time": "2022-06-17T17:34:00.082016Z",
     "start_time": "2022-06-17T17:34:00.070047Z"
    }
   },
   "outputs": [
    {
     "data": {
      "text/plain": [
       "73"
      ]
     },
     "execution_count": 41,
     "metadata": {},
     "output_type": "execute_result"
    }
   ],
   "source": [
    "df_train['Delay_from_due_date'].nunique()"
   ]
  },
  {
   "cell_type": "code",
   "execution_count": 42,
   "id": "b6223377",
   "metadata": {
    "ExecuteTime": {
     "end_time": "2022-06-17T17:34:00.112931Z",
     "start_time": "2022-06-17T17:34:00.085007Z"
    }
   },
   "outputs": [
    {
     "data": {
      "text/plain": [
       "count    100000.000000\n",
       "mean         21.068780\n",
       "std          14.860104\n",
       "min          -5.000000\n",
       "25%          10.000000\n",
       "50%          18.000000\n",
       "75%          28.000000\n",
       "max          67.000000\n",
       "Name: Delay_from_due_date, dtype: float64"
      ]
     },
     "execution_count": 42,
     "metadata": {},
     "output_type": "execute_result"
    }
   ],
   "source": [
    "df_train['Delay_from_due_date'].describe()"
   ]
  },
  {
   "cell_type": "code",
   "execution_count": 43,
   "id": "d7f2a888",
   "metadata": {
    "ExecuteTime": {
     "end_time": "2022-06-17T17:34:00.271507Z",
     "start_time": "2022-06-17T17:34:00.116922Z"
    }
   },
   "outputs": [
    {
     "name": "stderr",
     "output_type": "stream",
     "text": [
      "C:\\Users\\home_\\AppData\\Roaming\\Python\\Python39\\site-packages\\seaborn\\_decorators.py:36: FutureWarning: Pass the following variable as a keyword arg: x. From version 0.12, the only valid positional argument will be `data`, and passing other arguments without an explicit keyword will result in an error or misinterpretation.\n",
      "  warnings.warn(\n"
     ]
    },
    {
     "data": {
      "text/plain": [
       "<AxesSubplot:xlabel='Delay_from_due_date'>"
      ]
     },
     "execution_count": 43,
     "metadata": {},
     "output_type": "execute_result"
    },
    {
     "data": {
      "image/png": "[encoded data removed]",
      "text/plain": [
       "<Figure size 1152x288 with 1 Axes>"
      ]
     },
     "metadata": {
      "needs_background": "light"
     },
     "output_type": "display_data"
    }
   ],
   "source": [
    "plt.figure(figsize=(16, 4))\n",
    "sns.boxplot(df_train['Delay_from_due_date'])"
   ]
  },
  {
   "cell_type": "code",
   "execution_count": 208,
   "id": "da55e610",
   "metadata": {
    "ExecuteTime": {
     "end_time": "2022-06-19T18:49:25.043104Z",
     "start_time": "2022-06-19T18:49:24.893505Z"
    }
   },
   "outputs": [
    {
     "data": {
      "text/plain": [
       "<AxesSubplot:xlabel='Delay_from_due_date'>"
      ]
     },
     "execution_count": 208,
     "metadata": {},
     "output_type": "execute_result"
    },
    {
     "data": {
      "image/png": "[encoded data removed]",
      "text/plain": [
       "<Figure size 1152x288 with 1 Axes>"
      ]
     },
     "metadata": {
      "needs_background": "light"
     },
     "output_type": "display_data"
    }
   ],
   "source": [
    "# Check outliners of number of accounts\n",
    "plt.figure(figsize=(16, 4))\n",
    "sns.boxplot(x=iqr_method_outliers(column=df_train['Delay_from_due_date']))"
   ]
  },
  {
   "cell_type": "code",
   "execution_count": 209,
   "id": "d4c407fd",
   "metadata": {
    "ExecuteTime": {
     "end_time": "2022-06-19T18:50:06.419725Z",
     "start_time": "2022-06-19T18:50:06.389806Z"
    }
   },
   "outputs": [],
   "source": [
    "df_train['Delay_from_due_date'] = iqr_method_outliers(column=df_train['Delay_from_due_date'])"
   ]
  },
  {
   "cell_type": "markdown",
   "id": "c1797061",
   "metadata": {},
   "source": [
    "#### `Num_of_delayed_payment` :\t_Represents the average number of payments delayed by person_"
   ]
  },
  {
   "cell_type": "code",
   "execution_count": 44,
   "id": "9a3bbc9d",
   "metadata": {
    "ExecuteTime": {
     "end_time": "2022-06-17T17:34:00.717318Z",
     "start_time": "2022-06-17T17:34:00.701360Z"
    }
   },
   "outputs": [
    {
     "data": {
      "text/plain": [
       "749"
      ]
     },
     "execution_count": 44,
     "metadata": {},
     "output_type": "execute_result"
    }
   ],
   "source": [
    "df_train['Num_of_Delayed_Payment'].nunique()"
   ]
  },
  {
   "cell_type": "code",
   "execution_count": 45,
   "id": "dd401ed7",
   "metadata": {
    "ExecuteTime": {
     "end_time": "2022-06-17T17:34:00.797105Z",
     "start_time": "2022-06-17T17:34:00.779188Z"
    }
   },
   "outputs": [
    {
     "data": {
      "text/plain": [
       "count     92998\n",
       "unique      749\n",
       "top          19\n",
       "freq       5327\n",
       "Name: Num_of_Delayed_Payment, dtype: object"
      ]
     },
     "execution_count": 45,
     "metadata": {},
     "output_type": "execute_result"
    }
   ],
   "source": [
    "df_train['Num_of_Delayed_Payment'].describe()"
   ]
  },
  {
   "cell_type": "code",
   "execution_count": 46,
   "id": "d9f5f6d2",
   "metadata": {
    "ExecuteTime": {
     "end_time": "2022-06-17T17:34:01.146170Z",
     "start_time": "2022-06-17T17:34:00.884869Z"
    }
   },
   "outputs": [],
   "source": [
    "df_train['Num_of_Delayed_Payment'] = [int(re.search(r'-\\d*|\\d*', str(x))[0]) if str(x)!='nan' \n",
    "                                      else np.nan for x in df_train['Num_of_Delayed_Payment']]"
   ]
  },
  {
   "cell_type": "code",
   "execution_count": 47,
   "id": "766a2058",
   "metadata": {
    "ExecuteTime": {
     "end_time": "2022-06-17T17:34:01.162126Z",
     "start_time": "2022-06-17T17:34:01.149164Z"
    }
   },
   "outputs": [
    {
     "data": {
      "text/plain": [
       "7002"
      ]
     },
     "execution_count": 47,
     "metadata": {},
     "output_type": "execute_result"
    }
   ],
   "source": [
    "df_train['Num_of_Delayed_Payment'].isna().sum()"
   ]
  },
  {
   "cell_type": "code",
   "execution_count": 48,
   "id": "722c25f7",
   "metadata": {
    "ExecuteTime": {
     "end_time": "2022-06-17T17:34:01.194044Z",
     "start_time": "2022-06-17T17:34:01.166115Z"
    }
   },
   "outputs": [
    {
     "data": {
      "text/plain": [
       "count    7002.00000\n",
       "mean       21.12325\n",
       "std        14.90972\n",
       "min        -5.00000\n",
       "25%        10.00000\n",
       "50%        18.00000\n",
       "75%        28.00000\n",
       "max        67.00000\n",
       "Name: Delay_from_due_date, dtype: float64"
      ]
     },
     "execution_count": 48,
     "metadata": {},
     "output_type": "execute_result"
    }
   ],
   "source": [
    "df_train[df_train['Num_of_Delayed_Payment'].isna()]['Delay_from_due_date'].describe()"
   ]
  },
  {
   "cell_type": "code",
   "execution_count": 49,
   "id": "fb91e31d",
   "metadata": {
    "ExecuteTime": {
     "end_time": "2022-06-17T17:34:01.273828Z",
     "start_time": "2022-06-17T17:34:01.242912Z"
    }
   },
   "outputs": [],
   "source": [
    "# if some one dot delayed their payment so according `Delay from due date` is 0 or negative day\n",
    "# therefore fill this column by '0'.\n",
    "for index in df_train[(df_train['Delay_from_due_date']<=0)&\n",
    "                      (df_train['Num_of_Delayed_Payment'].isna())]['Num_of_Delayed_Payment'].index:\n",
    "    df_train.loc[index, 'Num_of_Delayed_Payment'] = 0"
   ]
  },
  {
   "cell_type": "code",
   "execution_count": 50,
   "id": "f6c66714",
   "metadata": {
    "ExecuteTime": {
     "end_time": "2022-06-17T17:34:01.337697Z",
     "start_time": "2022-06-17T17:34:01.322738Z"
    }
   },
   "outputs": [
    {
     "data": {
      "text/plain": [
       "6881"
      ]
     },
     "execution_count": 50,
     "metadata": {},
     "output_type": "execute_result"
    }
   ],
   "source": [
    "df_train['Num_of_Delayed_Payment'].isna().sum()"
   ]
  },
  {
   "cell_type": "code",
   "execution_count": 51,
   "id": "4bbd32b3",
   "metadata": {
    "ExecuteTime": {
     "end_time": "2022-06-17T17:34:12.139802Z",
     "start_time": "2022-06-17T17:34:01.395544Z"
    }
   },
   "outputs": [
    {
     "data": {
      "text/plain": [
       "<AxesSubplot:xlabel='Num_of_Delayed_Payment', ylabel='Delay_from_due_date'>"
      ]
     },
     "execution_count": 51,
     "metadata": {},
     "output_type": "execute_result"
    },
    {
     "data": {
      "image/png": "[encoded data removed]",
      "text/plain": [
       "<Figure size 432x288 with 1 Axes>"
      ]
     },
     "metadata": {
      "needs_background": "light"
     },
     "output_type": "display_data"
    }
   ],
   "source": [
    "sns.regplot(x=df_train['Num_of_Delayed_Payment'], y=df_train['Delay_from_due_date'])"
   ]
  },
  {
   "cell_type": "code",
   "execution_count": 52,
   "id": "9c239f7a",
   "metadata": {
    "ExecuteTime": {
     "end_time": "2022-06-17T17:34:12.170719Z",
     "start_time": "2022-06-17T17:34:12.143793Z"
    }
   },
   "outputs": [
    {
     "data": {
      "text/html": [
       "<div>\n",
       "<style scoped>\n",
       "    .dataframe tbody tr th:only-of-type {\n",
       "        vertical-align: middle;\n",
       "    }\n",
       "\n",
       "    .dataframe tbody tr th {\n",
       "        vertical-align: top;\n",
       "    }\n",
       "\n",
       "    .dataframe thead th {\n",
       "        text-align: right;\n",
       "    }\n",
       "</style>\n",
       "<table border=\"1\" class=\"dataframe\">\n",
       "  <thead>\n",
       "    <tr style=\"text-align: right;\">\n",
       "      <th></th>\n",
       "      <th>Num_of_Delayed_Payment</th>\n",
       "      <th>Delay_from_due_date</th>\n",
       "    </tr>\n",
       "  </thead>\n",
       "  <tbody>\n",
       "    <tr>\n",
       "      <th>count</th>\n",
       "      <td>93119.000000</td>\n",
       "      <td>100000.000000</td>\n",
       "    </tr>\n",
       "    <tr>\n",
       "      <th>mean</th>\n",
       "      <td>30.883160</td>\n",
       "      <td>21.068780</td>\n",
       "    </tr>\n",
       "    <tr>\n",
       "      <th>std</th>\n",
       "      <td>225.887735</td>\n",
       "      <td>14.860104</td>\n",
       "    </tr>\n",
       "    <tr>\n",
       "      <th>min</th>\n",
       "      <td>-3.000000</td>\n",
       "      <td>-5.000000</td>\n",
       "    </tr>\n",
       "    <tr>\n",
       "      <th>25%</th>\n",
       "      <td>9.000000</td>\n",
       "      <td>10.000000</td>\n",
       "    </tr>\n",
       "    <tr>\n",
       "      <th>50%</th>\n",
       "      <td>14.000000</td>\n",
       "      <td>18.000000</td>\n",
       "    </tr>\n",
       "    <tr>\n",
       "      <th>75%</th>\n",
       "      <td>18.000000</td>\n",
       "      <td>28.000000</td>\n",
       "    </tr>\n",
       "    <tr>\n",
       "      <th>max</th>\n",
       "      <td>4397.000000</td>\n",
       "      <td>67.000000</td>\n",
       "    </tr>\n",
       "  </tbody>\n",
       "</table>\n",
       "</div>"
      ],
      "text/plain": [
       "       Num_of_Delayed_Payment  Delay_from_due_date\n",
       "count            93119.000000        100000.000000\n",
       "mean                30.883160            21.068780\n",
       "std                225.887735            14.860104\n",
       "min                 -3.000000            -5.000000\n",
       "25%                  9.000000            10.000000\n",
       "50%                 14.000000            18.000000\n",
       "75%                 18.000000            28.000000\n",
       "max               4397.000000            67.000000"
      ]
     },
     "execution_count": 52,
     "metadata": {},
     "output_type": "execute_result"
    }
   ],
   "source": [
    "df_train[['Num_of_Delayed_Payment', 'Delay_from_due_date']].describe()"
   ]
  },
  {
   "cell_type": "code",
   "execution_count": 53,
   "id": "3e2b083c",
   "metadata": {
    "ExecuteTime": {
     "end_time": "2022-06-17T17:34:12.186722Z",
     "start_time": "2022-06-17T17:34:12.174709Z"
    }
   },
   "outputs": [],
   "source": [
    "# rest of the value fill by median value\n",
    "df_train['Num_of_Delayed_Payment'].fillna(value=df_train['Num_of_Delayed_Payment'].median(), inplace=True)"
   ]
  },
  {
   "cell_type": "code",
   "execution_count": 54,
   "id": "85a531f1",
   "metadata": {
    "ExecuteTime": {
     "end_time": "2022-06-17T17:34:12.866903Z",
     "start_time": "2022-06-17T17:34:12.191664Z"
    }
   },
   "outputs": [
    {
     "name": "stderr",
     "output_type": "stream",
     "text": [
      "C:\\Users\\home_\\AppData\\Roaming\\Python\\Python39\\site-packages\\seaborn\\_decorators.py:36: FutureWarning: Pass the following variable as a keyword arg: x. From version 0.12, the only valid positional argument will be `data`, and passing other arguments without an explicit keyword will result in an error or misinterpretation.\n",
      "  warnings.warn(\n"
     ]
    },
    {
     "data": {
      "text/plain": [
       "<AxesSubplot:xlabel='Num_of_Delayed_Payment'>"
      ]
     },
     "execution_count": 54,
     "metadata": {},
     "output_type": "execute_result"
    },
    {
     "data": {
      "image/png": "[encoded data removed]",
      "text/plain": [
       "<Figure size 1152x288 with 1 Axes>"
      ]
     },
     "metadata": {
      "needs_background": "light"
     },
     "output_type": "display_data"
    }
   ],
   "source": [
    "plt.figure(figsize=(16, 4))\n",
    "sns.violinplot(df_train['Num_of_Delayed_Payment'])"
   ]
  },
  {
   "cell_type": "code",
   "execution_count": 210,
   "id": "884a566e",
   "metadata": {
    "ExecuteTime": {
     "end_time": "2022-06-19T18:50:47.869789Z",
     "start_time": "2022-06-19T18:50:47.549800Z"
    }
   },
   "outputs": [
    {
     "data": {
      "text/plain": [
       "<AxesSubplot:xlabel='Num_of_Delayed_Payment'>"
      ]
     },
     "execution_count": 210,
     "metadata": {},
     "output_type": "execute_result"
    },
    {
     "data": {
      "image/png": "[encoded data removed]",
      "text/plain": [
       "<Figure size 1152x288 with 1 Axes>"
      ]
     },
     "metadata": {
      "needs_background": "light"
     },
     "output_type": "display_data"
    }
   ],
   "source": [
    "# Check outliners of number of accounts\n",
    "plt.figure(figsize=(16, 4))\n",
    "sns.boxplot(x=iqr_method_outliers(column=df_train['Num_of_Delayed_Payment']))"
   ]
  },
  {
   "cell_type": "code",
   "execution_count": 211,
   "id": "87973b20",
   "metadata": {
    "ExecuteTime": {
     "end_time": "2022-06-19T18:51:24.054966Z",
     "start_time": "2022-06-19T18:51:24.005221Z"
    }
   },
   "outputs": [],
   "source": [
    "df_train['Num_of_Delayed_Payment'] = iqr_method_outliers(column=df_train['Num_of_Delayed_Payment'])"
   ]
  },
  {
   "cell_type": "markdown",
   "id": "7e03e2dc",
   "metadata": {},
   "source": [
    "#### `Changed_Credit_Limit` :\t_Represents the percentage change in credit card limit_"
   ]
  },
  {
   "cell_type": "code",
   "execution_count": 55,
   "id": "ff82bace",
   "metadata": {
    "ExecuteTime": {
     "end_time": "2022-06-17T17:34:12.882853Z",
     "start_time": "2022-06-17T17:34:12.869853Z"
    }
   },
   "outputs": [],
   "source": [
    "df_train['Changed_Credit_Limit'].replace('_', np.nan, inplace=True)"
   ]
  },
  {
   "cell_type": "code",
   "execution_count": 56,
   "id": "e2d99149",
   "metadata": {
    "ExecuteTime": {
     "end_time": "2022-06-17T17:34:12.946646Z",
     "start_time": "2022-06-17T17:34:12.889797Z"
    }
   },
   "outputs": [],
   "source": [
    "df_train['Changed_Credit_Limit'] = df_train['Changed_Credit_Limit'].astype(float)"
   ]
  },
  {
   "cell_type": "code",
   "execution_count": 57,
   "id": "ad20cfbd",
   "metadata": {
    "ExecuteTime": {
     "end_time": "2022-06-17T17:34:12.962603Z",
     "start_time": "2022-06-17T17:34:12.950636Z"
    }
   },
   "outputs": [
    {
     "data": {
      "text/plain": [
       "4383"
      ]
     },
     "execution_count": 57,
     "metadata": {},
     "output_type": "execute_result"
    }
   ],
   "source": [
    "df_train['Changed_Credit_Limit'].nunique()"
   ]
  },
  {
   "cell_type": "code",
   "execution_count": 58,
   "id": "d562ab83",
   "metadata": {
    "ExecuteTime": {
     "end_time": "2022-06-17T17:34:12.994517Z",
     "start_time": "2022-06-17T17:34:12.967589Z"
    }
   },
   "outputs": [
    {
     "data": {
      "text/plain": [
       "count    97909.000000\n",
       "mean        10.389025\n",
       "std          6.789496\n",
       "min         -6.490000\n",
       "25%          5.320000\n",
       "50%          9.400000\n",
       "75%         14.870000\n",
       "max         36.970000\n",
       "Name: Changed_Credit_Limit, dtype: float64"
      ]
     },
     "execution_count": 58,
     "metadata": {},
     "output_type": "execute_result"
    }
   ],
   "source": [
    "df_train['Changed_Credit_Limit'].describe()"
   ]
  },
  {
   "cell_type": "code",
   "execution_count": 59,
   "id": "ad86b168",
   "metadata": {
    "ExecuteTime": {
     "end_time": "2022-06-17T17:34:13.010474Z",
     "start_time": "2022-06-17T17:34:12.998507Z"
    }
   },
   "outputs": [
    {
     "data": {
      "text/plain": [
       "2091"
      ]
     },
     "execution_count": 59,
     "metadata": {},
     "output_type": "execute_result"
    }
   ],
   "source": [
    "df_train['Changed_Credit_Limit'].isna().sum()"
   ]
  },
  {
   "cell_type": "code",
   "execution_count": 60,
   "id": "6fd9de46",
   "metadata": {
    "ExecuteTime": {
     "end_time": "2022-06-17T17:35:33.303440Z",
     "start_time": "2022-06-17T17:35:33.292468Z"
    }
   },
   "outputs": [],
   "source": [
    "# fill null value in this column by mean value\n",
    "df_train['Changed_Credit_Limit'].fillna(value=df_train['Changed_Credit_Limit'].median(), inplace=True)"
   ]
  },
  {
   "cell_type": "code",
   "execution_count": 61,
   "id": "aa892cdf",
   "metadata": {
    "ExecuteTime": {
     "end_time": "2022-06-17T17:35:38.091118Z",
     "start_time": "2022-06-17T17:35:37.973393Z"
    }
   },
   "outputs": [
    {
     "name": "stderr",
     "output_type": "stream",
     "text": [
      "C:\\Users\\home_\\AppData\\Roaming\\Python\\Python39\\site-packages\\seaborn\\_decorators.py:36: FutureWarning: Pass the following variable as a keyword arg: x. From version 0.12, the only valid positional argument will be `data`, and passing other arguments without an explicit keyword will result in an error or misinterpretation.\n",
      "  warnings.warn(\n"
     ]
    },
    {
     "data": {
      "text/plain": [
       "<AxesSubplot:xlabel='Changed_Credit_Limit'>"
      ]
     },
     "execution_count": 61,
     "metadata": {},
     "output_type": "execute_result"
    },
    {
     "data": {
      "image/png": "[encoded data removed]",
      "text/plain": [
       "<Figure size 1152x288 with 1 Axes>"
      ]
     },
     "metadata": {
      "needs_background": "light"
     },
     "output_type": "display_data"
    }
   ],
   "source": [
    "plt.figure(figsize=(16, 4))\n",
    "sns.boxplot(df_train['Changed_Credit_Limit'])"
   ]
  },
  {
   "cell_type": "code",
   "execution_count": 212,
   "id": "ba5e4ccf",
   "metadata": {
    "ExecuteTime": {
     "end_time": "2022-06-19T18:51:45.937962Z",
     "start_time": "2022-06-19T18:51:45.805271Z"
    }
   },
   "outputs": [
    {
     "data": {
      "text/plain": [
       "<AxesSubplot:xlabel='Changed_Credit_Limit'>"
      ]
     },
     "execution_count": 212,
     "metadata": {},
     "output_type": "execute_result"
    },
    {
     "data": {
      "image/png": "[encoded data removed]",
      "text/plain": [
       "<Figure size 1152x288 with 1 Axes>"
      ]
     },
     "metadata": {
      "needs_background": "light"
     },
     "output_type": "display_data"
    }
   ],
   "source": [
    "# Check outliners of number of accounts\n",
    "plt.figure(figsize=(16, 4))\n",
    "sns.boxplot(x=iqr_method_outliers(column=df_train['Changed_Credit_Limit']))"
   ]
  },
  {
   "cell_type": "code",
   "execution_count": 213,
   "id": "e8230ded",
   "metadata": {
    "ExecuteTime": {
     "end_time": "2022-06-19T18:52:10.209395Z",
     "start_time": "2022-06-19T18:52:10.182467Z"
    }
   },
   "outputs": [],
   "source": [
    "df_train['Changed_Credit_Limit'] = iqr_method_outliers(column=df_train['Changed_Credit_Limit'])"
   ]
  },
  {
   "cell_type": "markdown",
   "id": "19a77052",
   "metadata": {},
   "source": [
    "#### `Num_Credit_Inquiries` :\t_Represents the number of credit card inquires_"
   ]
  },
  {
   "cell_type": "code",
   "execution_count": 62,
   "id": "48db4fe8",
   "metadata": {
    "ExecuteTime": {
     "end_time": "2022-06-17T17:35:44.173284Z",
     "start_time": "2022-06-17T17:35:44.155292Z"
    }
   },
   "outputs": [
    {
     "data": {
      "text/plain": [
       "1223"
      ]
     },
     "execution_count": 62,
     "metadata": {},
     "output_type": "execute_result"
    }
   ],
   "source": [
    "df_train['Num_Credit_Inquiries'].nunique()"
   ]
  },
  {
   "cell_type": "code",
   "execution_count": 63,
   "id": "e6c46aca",
   "metadata": {
    "ExecuteTime": {
     "end_time": "2022-06-17T17:35:46.074343Z",
     "start_time": "2022-06-17T17:35:46.054396Z"
    }
   },
   "outputs": [
    {
     "data": {
      "text/plain": [
       "count    98035.000000\n",
       "mean        27.754251\n",
       "std        193.177339\n",
       "min          0.000000\n",
       "25%          3.000000\n",
       "50%          6.000000\n",
       "75%          9.000000\n",
       "max       2597.000000\n",
       "Name: Num_Credit_Inquiries, dtype: float64"
      ]
     },
     "execution_count": 63,
     "metadata": {},
     "output_type": "execute_result"
    }
   ],
   "source": [
    "df_train['Num_Credit_Inquiries'].describe()"
   ]
  },
  {
   "cell_type": "code",
   "execution_count": 64,
   "id": "77d1b245",
   "metadata": {
    "ExecuteTime": {
     "end_time": "2022-06-17T17:36:06.795443Z",
     "start_time": "2022-06-17T17:36:06.786467Z"
    }
   },
   "outputs": [],
   "source": [
    "# Fill this column by median value\n",
    "df_train['Num_Credit_Inquiries'].fillna(value=df_train['Num_Credit_Inquiries'].median(), inplace=True)"
   ]
  },
  {
   "cell_type": "code",
   "execution_count": 65,
   "id": "2a07664e",
   "metadata": {
    "ExecuteTime": {
     "end_time": "2022-06-17T17:36:13.635127Z",
     "start_time": "2022-06-17T17:36:13.493507Z"
    }
   },
   "outputs": [
    {
     "name": "stderr",
     "output_type": "stream",
     "text": [
      "C:\\Users\\home_\\AppData\\Roaming\\Python\\Python39\\site-packages\\seaborn\\_decorators.py:36: FutureWarning: Pass the following variable as a keyword arg: x. From version 0.12, the only valid positional argument will be `data`, and passing other arguments without an explicit keyword will result in an error or misinterpretation.\n",
      "  warnings.warn(\n"
     ]
    },
    {
     "data": {
      "text/plain": [
       "<AxesSubplot:xlabel='Num_Credit_Inquiries'>"
      ]
     },
     "execution_count": 65,
     "metadata": {},
     "output_type": "execute_result"
    },
    {
     "data": {
      "image/png": "[encoded data removed]",
      "text/plain": [
       "<Figure size 1152x288 with 1 Axes>"
      ]
     },
     "metadata": {
      "needs_background": "light"
     },
     "output_type": "display_data"
    }
   ],
   "source": [
    "plt.figure(figsize=(16, 4))\n",
    "sns.boxplot(df_train['Num_Credit_Inquiries'])"
   ]
  },
  {
   "cell_type": "code",
   "execution_count": 214,
   "id": "f88cf750",
   "metadata": {
    "ExecuteTime": {
     "end_time": "2022-06-19T18:52:29.504642Z",
     "start_time": "2022-06-19T18:52:29.357037Z"
    }
   },
   "outputs": [
    {
     "data": {
      "text/plain": [
       "<AxesSubplot:xlabel='Num_Credit_Inquiries'>"
      ]
     },
     "execution_count": 214,
     "metadata": {},
     "output_type": "execute_result"
    },
    {
     "data": {
      "image/png": "[encoded data removed]",
      "text/plain": [
       "<Figure size 1152x288 with 1 Axes>"
      ]
     },
     "metadata": {
      "needs_background": "light"
     },
     "output_type": "display_data"
    }
   ],
   "source": [
    "# Check outliners of number of accounts\n",
    "plt.figure(figsize=(16, 4))\n",
    "sns.boxplot(x=iqr_method_outliers(column=df_train['Num_Credit_Inquiries']))"
   ]
  },
  {
   "cell_type": "code",
   "execution_count": 215,
   "id": "94490a3f",
   "metadata": {
    "ExecuteTime": {
     "end_time": "2022-06-19T18:53:01.483568Z",
     "start_time": "2022-06-19T18:53:01.468005Z"
    }
   },
   "outputs": [],
   "source": [
    "df_train['Num_Credit_Inquiries'] = iqr_method_outliers(column=df_train['Num_Credit_Inquiries'])"
   ]
  },
  {
   "cell_type": "markdown",
   "id": "43f3446e",
   "metadata": {},
   "source": [
    "#### `Credit_Mix` :\t_Represents the classification of the mix of credits_"
   ]
  },
  {
   "cell_type": "code",
   "execution_count": 66,
   "id": "148b771a",
   "metadata": {
    "ExecuteTime": {
     "end_time": "2022-06-17T17:36:20.581233Z",
     "start_time": "2022-06-17T17:36:20.568268Z"
    }
   },
   "outputs": [
    {
     "data": {
      "text/plain": [
       "4"
      ]
     },
     "execution_count": 66,
     "metadata": {},
     "output_type": "execute_result"
    }
   ],
   "source": [
    "df_train['Credit_Mix'].nunique()"
   ]
  },
  {
   "cell_type": "code",
   "execution_count": 67,
   "id": "b38efa9f",
   "metadata": {
    "ExecuteTime": {
     "end_time": "2022-06-17T17:36:26.108199Z",
     "start_time": "2022-06-17T17:36:26.094197Z"
    }
   },
   "outputs": [
    {
     "data": {
      "text/plain": [
       "Standard    36479\n",
       "Good        24337\n",
       "_           20195\n",
       "Bad         18989\n",
       "Name: Credit_Mix, dtype: int64"
      ]
     },
     "execution_count": 67,
     "metadata": {},
     "output_type": "execute_result"
    }
   ],
   "source": [
    "df_train['Credit_Mix'].value_counts()"
   ]
  },
  {
   "cell_type": "markdown",
   "id": "bb43e838",
   "metadata": {},
   "source": [
    "#### `Outstanding_Debt` :\t_Represents the remaining dept to be paid (in USD)_"
   ]
  },
  {
   "cell_type": "code",
   "execution_count": 68,
   "id": "bb8f0b8f",
   "metadata": {
    "ExecuteTime": {
     "end_time": "2022-06-17T17:36:30.871235Z",
     "start_time": "2022-06-17T17:36:30.668252Z"
    }
   },
   "outputs": [],
   "source": [
    "df_train['Outstanding_Debt'] = [float(re.search(r'\\d*.\\d*', str(x))[0]) for x in df_train['Outstanding_Debt']]"
   ]
  },
  {
   "cell_type": "code",
   "execution_count": 69,
   "id": "d9462f81",
   "metadata": {
    "ExecuteTime": {
     "end_time": "2022-06-17T17:36:33.503203Z",
     "start_time": "2022-06-17T17:36:33.483253Z"
    }
   },
   "outputs": [
    {
     "data": {
      "text/plain": [
       "count    100000.000000\n",
       "mean       1426.220376\n",
       "std        1155.129026\n",
       "min           0.230000\n",
       "25%         566.072500\n",
       "50%        1166.155000\n",
       "75%        1945.962500\n",
       "max        4998.070000\n",
       "Name: Outstanding_Debt, dtype: float64"
      ]
     },
     "execution_count": 69,
     "metadata": {},
     "output_type": "execute_result"
    }
   ],
   "source": [
    "df_train['Outstanding_Debt'].describe()"
   ]
  },
  {
   "cell_type": "code",
   "execution_count": 70,
   "id": "1ddd5919",
   "metadata": {
    "ExecuteTime": {
     "end_time": "2022-06-17T17:36:51.061910Z",
     "start_time": "2022-06-17T17:36:50.932293Z"
    }
   },
   "outputs": [
    {
     "name": "stderr",
     "output_type": "stream",
     "text": [
      "C:\\Users\\home_\\AppData\\Roaming\\Python\\Python39\\site-packages\\seaborn\\_decorators.py:36: FutureWarning: Pass the following variable as a keyword arg: x. From version 0.12, the only valid positional argument will be `data`, and passing other arguments without an explicit keyword will result in an error or misinterpretation.\n",
      "  warnings.warn(\n"
     ]
    },
    {
     "data": {
      "text/plain": [
       "<AxesSubplot:xlabel='Outstanding_Debt'>"
      ]
     },
     "execution_count": 70,
     "metadata": {},
     "output_type": "execute_result"
    },
    {
     "data": {
      "image/png": "[encoded data removed]",
      "text/plain": [
       "<Figure size 1152x288 with 1 Axes>"
      ]
     },
     "metadata": {
      "needs_background": "light"
     },
     "output_type": "display_data"
    }
   ],
   "source": [
    "plt.figure(figsize=(16, 4))\n",
    "sns.boxplot(df_train['Outstanding_Debt'])"
   ]
  },
  {
   "cell_type": "code",
   "execution_count": 216,
   "id": "473d83a9",
   "metadata": {
    "ExecuteTime": {
     "end_time": "2022-06-19T18:53:25.139499Z",
     "start_time": "2022-06-19T18:53:24.996843Z"
    }
   },
   "outputs": [
    {
     "data": {
      "text/plain": [
       "<AxesSubplot:xlabel='Outstanding_Debt'>"
      ]
     },
     "execution_count": 216,
     "metadata": {},
     "output_type": "execute_result"
    },
    {
     "data": {
      "image/png": "[encoded data removed]",
      "text/plain": [
       "<Figure size 1152x288 with 1 Axes>"
      ]
     },
     "metadata": {
      "needs_background": "light"
     },
     "output_type": "display_data"
    }
   ],
   "source": [
    "# Check outliners of number of accounts\n",
    "plt.figure(figsize=(16, 4))\n",
    "sns.boxplot(x=iqr_method_outliers(column=df_train['Outstanding_Debt']))"
   ]
  },
  {
   "cell_type": "code",
   "execution_count": 217,
   "id": "5a023e48",
   "metadata": {
    "ExecuteTime": {
     "end_time": "2022-06-19T18:53:51.220791Z",
     "start_time": "2022-06-19T18:53:51.205796Z"
    }
   },
   "outputs": [],
   "source": [
    "df_train['Outstanding_Debt'] = iqr_method_outliers(column=df_train['Outstanding_Debt'])"
   ]
  },
  {
   "cell_type": "markdown",
   "id": "2353f166",
   "metadata": {},
   "source": [
    "#### `Credit_Utilization_Ratio` :\t_Represents the utilization ratio of credit card_"
   ]
  },
  {
   "cell_type": "code",
   "execution_count": 71,
   "id": "6c8dfd8e",
   "metadata": {
    "ExecuteTime": {
     "end_time": "2022-06-17T17:36:55.371162Z",
     "start_time": "2022-06-17T17:36:55.348225Z"
    }
   },
   "outputs": [
    {
     "data": {
      "text/plain": [
       "count    100000.000000\n",
       "mean         32.285173\n",
       "std           5.116875\n",
       "min          20.000000\n",
       "25%          28.052567\n",
       "50%          32.305784\n",
       "75%          36.496663\n",
       "max          50.000000\n",
       "Name: Credit_Utilization_Ratio, dtype: float64"
      ]
     },
     "execution_count": 71,
     "metadata": {},
     "output_type": "execute_result"
    }
   ],
   "source": [
    "df_train['Credit_Utilization_Ratio'].describe()"
   ]
  },
  {
   "cell_type": "markdown",
   "id": "d9688be9",
   "metadata": {},
   "source": [
    "#### `Credit_History_Age` :\t_Represents the age of credit history of the person_"
   ]
  },
  {
   "cell_type": "code",
   "execution_count": 72,
   "id": "01b2d613",
   "metadata": {
    "ExecuteTime": {
     "end_time": "2022-06-17T17:37:00.214695Z",
     "start_time": "2022-06-17T17:36:59.692445Z"
    }
   },
   "outputs": [],
   "source": [
    "df_train['Credit_History_Age'] = [(int(re.findall(r'[0-9]+', str(x))[0])*12)+int(re.findall(r'[0-9]+', str(x))[1]) \n",
    "                                  if str(x)!='nan' else np.nan for x in df_train['Credit_History_Age']]"
   ]
  },
  {
   "cell_type": "code",
   "execution_count": 73,
   "id": "f50b8cfd",
   "metadata": {
    "ExecuteTime": {
     "end_time": "2022-06-17T17:37:01.651606Z",
     "start_time": "2022-06-17T17:37:01.632657Z"
    }
   },
   "outputs": [
    {
     "data": {
      "text/plain": [
       "9030"
      ]
     },
     "execution_count": 73,
     "metadata": {},
     "output_type": "execute_result"
    }
   ],
   "source": [
    "df_train['Credit_History_Age'].isna().sum()"
   ]
  },
  {
   "cell_type": "code",
   "execution_count": 74,
   "id": "e6f910bf",
   "metadata": {
    "ExecuteTime": {
     "end_time": "2022-06-17T17:37:04.694513Z",
     "start_time": "2022-06-17T17:37:04.674531Z"
    }
   },
   "outputs": [
    {
     "data": {
      "text/plain": [
       "count    90970.000000\n",
       "mean       221.195405\n",
       "std         99.741364\n",
       "min          1.000000\n",
       "25%        144.000000\n",
       "50%        219.000000\n",
       "75%        302.000000\n",
       "max        404.000000\n",
       "Name: Credit_History_Age, dtype: float64"
      ]
     },
     "execution_count": 74,
     "metadata": {},
     "output_type": "execute_result"
    }
   ],
   "source": [
    "df_train['Credit_History_Age'].describe()"
   ]
  },
  {
   "cell_type": "code",
   "execution_count": 75,
   "id": "512b8e08",
   "metadata": {
    "ExecuteTime": {
     "end_time": "2022-06-17T17:37:51.333863Z",
     "start_time": "2022-06-17T17:37:51.326887Z"
    }
   },
   "outputs": [],
   "source": [
    "# Fill null value by mean\n",
    "df_train['Credit_History_Age'].fillna(value=df_train['Credit_History_Age'].median(), inplace=True)"
   ]
  },
  {
   "cell_type": "code",
   "execution_count": 218,
   "id": "06ae5001",
   "metadata": {
    "ExecuteTime": {
     "end_time": "2022-06-19T18:54:45.808012Z",
     "start_time": "2022-06-19T18:54:45.663398Z"
    }
   },
   "outputs": [
    {
     "data": {
      "text/plain": [
       "<AxesSubplot:xlabel='Credit_History_Age'>"
      ]
     },
     "execution_count": 218,
     "metadata": {},
     "output_type": "execute_result"
    },
    {
     "data": {
      "image/png": "[encoded data removed]",
      "text/plain": [
       "<Figure size 1152x288 with 1 Axes>"
      ]
     },
     "metadata": {
      "needs_background": "light"
     },
     "output_type": "display_data"
    }
   ],
   "source": [
    "# Check outliners of number of accounts\n",
    "plt.figure(figsize=(16, 4))\n",
    "sns.boxplot(x=df_train['Credit_History_Age'])"
   ]
  },
  {
   "cell_type": "markdown",
   "id": "0747d465",
   "metadata": {},
   "source": [
    "#### `Payment_of_Min_Amount` :\t_Represents whether only the minimum amount was paid by the person_"
   ]
  },
  {
   "cell_type": "code",
   "execution_count": 76,
   "id": "8530d451",
   "metadata": {
    "ExecuteTime": {
     "end_time": "2022-06-17T17:37:55.754521Z",
     "start_time": "2022-06-17T17:37:55.732582Z"
    }
   },
   "outputs": [
    {
     "data": {
      "text/plain": [
       "3"
      ]
     },
     "execution_count": 76,
     "metadata": {},
     "output_type": "execute_result"
    }
   ],
   "source": [
    "df_train['Payment_of_Min_Amount'].nunique()"
   ]
  },
  {
   "cell_type": "code",
   "execution_count": 77,
   "id": "252533ca",
   "metadata": {
    "ExecuteTime": {
     "end_time": "2022-06-17T17:38:08.729085Z",
     "start_time": "2022-06-17T17:38:08.718118Z"
    }
   },
   "outputs": [
    {
     "data": {
      "text/plain": [
       "Yes    52326\n",
       "No     35667\n",
       "NM     12007\n",
       "Name: Payment_of_Min_Amount, dtype: int64"
      ]
     },
     "execution_count": 77,
     "metadata": {},
     "output_type": "execute_result"
    }
   ],
   "source": [
    "df_train['Payment_of_Min_Amount'].value_counts()"
   ]
  },
  {
   "cell_type": "markdown",
   "id": "5597e52a",
   "metadata": {},
   "source": [
    "#### `Total_EMI_per_month` :\t_Represents the monthly EMI payments (in USD)_"
   ]
  },
  {
   "cell_type": "code",
   "execution_count": 78,
   "id": "e64dafac",
   "metadata": {
    "ExecuteTime": {
     "end_time": "2022-06-17T17:38:24.953348Z",
     "start_time": "2022-06-17T17:38:24.928379Z"
    },
    "scrolled": true
   },
   "outputs": [
    {
     "data": {
      "text/plain": [
       "count    100000.000000\n",
       "mean       1403.118217\n",
       "std        8306.041270\n",
       "min           0.000000\n",
       "25%          30.306660\n",
       "50%          69.249473\n",
       "75%         161.224249\n",
       "max       82331.000000\n",
       "Name: Total_EMI_per_month, dtype: float64"
      ]
     },
     "execution_count": 78,
     "metadata": {},
     "output_type": "execute_result"
    }
   ],
   "source": [
    "df_train['Total_EMI_per_month'].describe()"
   ]
  },
  {
   "cell_type": "code",
   "execution_count": 219,
   "id": "457a9228",
   "metadata": {
    "ExecuteTime": {
     "end_time": "2022-06-19T18:55:46.859860Z",
     "start_time": "2022-06-19T18:55:46.646430Z"
    }
   },
   "outputs": [
    {
     "name": "stderr",
     "output_type": "stream",
     "text": [
      "C:\\Users\\home_\\AppData\\Roaming\\Python\\Python39\\site-packages\\seaborn\\_decorators.py:36: FutureWarning: Pass the following variable as a keyword arg: x. From version 0.12, the only valid positional argument will be `data`, and passing other arguments without an explicit keyword will result in an error or misinterpretation.\n",
      "  warnings.warn(\n"
     ]
    },
    {
     "data": {
      "text/plain": [
       "<AxesSubplot:xlabel='Total_EMI_per_month'>"
      ]
     },
     "execution_count": 219,
     "metadata": {},
     "output_type": "execute_result"
    },
    {
     "data": {
      "image/png": "[encoded data removed]",
      "text/plain": [
       "<Figure size 1152x288 with 1 Axes>"
      ]
     },
     "metadata": {
      "needs_background": "light"
     },
     "output_type": "display_data"
    }
   ],
   "source": [
    "# Check outliners of number of accounts\n",
    "plt.figure(figsize=(16, 4))\n",
    "sns.boxplot(df_train['Total_EMI_per_month'])"
   ]
  },
  {
   "cell_type": "code",
   "execution_count": 220,
   "id": "9c0c48b5",
   "metadata": {
    "ExecuteTime": {
     "end_time": "2022-06-19T18:56:25.607369Z",
     "start_time": "2022-06-19T18:56:25.461759Z"
    }
   },
   "outputs": [
    {
     "data": {
      "text/plain": [
       "<AxesSubplot:xlabel='Total_EMI_per_month'>"
      ]
     },
     "execution_count": 220,
     "metadata": {},
     "output_type": "execute_result"
    },
    {
     "data": {
      "image/png": "[encoded data removed]",
      "text/plain": [
       "<Figure size 1152x288 with 1 Axes>"
      ]
     },
     "metadata": {
      "needs_background": "light"
     },
     "output_type": "display_data"
    }
   ],
   "source": [
    "# Check outliners of number of accounts\n",
    "plt.figure(figsize=(16, 4))\n",
    "sns.boxplot(x=iqr_method_outliers(column=df_train['Total_EMI_per_month']))"
   ]
  },
  {
   "cell_type": "code",
   "execution_count": 221,
   "id": "37a14cbb",
   "metadata": {
    "ExecuteTime": {
     "end_time": "2022-06-19T18:57:12.605719Z",
     "start_time": "2022-06-19T18:57:12.582743Z"
    }
   },
   "outputs": [],
   "source": [
    "df_train['Total_EMI_per_month'] = iqr_method_outliers(column=df_train['Total_EMI_per_month'])"
   ]
  },
  {
   "cell_type": "markdown",
   "id": "2bda0b43",
   "metadata": {},
   "source": [
    "#### `Amount_invested_monthly` :\t_Represents the monthly amount invested by the customer (in USD)_"
   ]
  },
  {
   "cell_type": "code",
   "execution_count": 79,
   "id": "bff28162",
   "metadata": {
    "ExecuteTime": {
     "end_time": "2022-06-17T17:38:31.343151Z",
     "start_time": "2022-06-17T17:38:31.326199Z"
    }
   },
   "outputs": [],
   "source": [
    "df_train['Amount_invested_monthly'].replace(to_replace='_',value=np.nan, inplace=True)"
   ]
  },
  {
   "cell_type": "code",
   "execution_count": 80,
   "id": "dcebc2b3",
   "metadata": {
    "ExecuteTime": {
     "end_time": "2022-06-17T17:38:33.381701Z",
     "start_time": "2022-06-17T17:38:33.065548Z"
    }
   },
   "outputs": [],
   "source": [
    "df_train['Amount_invested_monthly'] = [float(re.search(r'[0-9]+.[0-9]+',str(x))[0]) if str(x)!='nan' \n",
    "                                       else np.nan for x in df_train['Amount_invested_monthly']]"
   ]
  },
  {
   "cell_type": "code",
   "execution_count": 81,
   "id": "37413545",
   "metadata": {
    "ExecuteTime": {
     "end_time": "2022-06-17T17:38:35.266374Z",
     "start_time": "2022-06-17T17:38:35.246390Z"
    }
   },
   "outputs": [
    {
     "data": {
      "text/plain": [
       "count    95521.000000\n",
       "mean       637.412998\n",
       "std       2043.319327\n",
       "min          0.000000\n",
       "25%         74.534002\n",
       "50%        135.925682\n",
       "75%        265.731733\n",
       "max      10000.000000\n",
       "Name: Amount_invested_monthly, dtype: float64"
      ]
     },
     "execution_count": 81,
     "metadata": {},
     "output_type": "execute_result"
    }
   ],
   "source": [
    "df_train['Amount_invested_monthly'].describe()"
   ]
  },
  {
   "cell_type": "code",
   "execution_count": 82,
   "id": "2698d4e6",
   "metadata": {
    "ExecuteTime": {
     "end_time": "2022-06-17T17:38:57.891628Z",
     "start_time": "2022-06-17T17:38:57.879623Z"
    }
   },
   "outputs": [],
   "source": [
    "# Fill null value by median\n",
    "df_train['Amount_invested_monthly'].fillna(value=df_train['Amount_invested_monthly'].median(), inplace=True)"
   ]
  },
  {
   "cell_type": "code",
   "execution_count": 83,
   "id": "ef5514f5",
   "metadata": {
    "ExecuteTime": {
     "end_time": "2022-06-17T17:39:03.870096Z",
     "start_time": "2022-06-17T17:39:03.725483Z"
    }
   },
   "outputs": [
    {
     "name": "stderr",
     "output_type": "stream",
     "text": [
      "C:\\Users\\home_\\AppData\\Roaming\\Python\\Python39\\site-packages\\seaborn\\_decorators.py:36: FutureWarning: Pass the following variable as a keyword arg: x. From version 0.12, the only valid positional argument will be `data`, and passing other arguments without an explicit keyword will result in an error or misinterpretation.\n",
      "  warnings.warn(\n"
     ]
    },
    {
     "data": {
      "text/plain": [
       "<AxesSubplot:xlabel='Amount_invested_monthly'>"
      ]
     },
     "execution_count": 83,
     "metadata": {},
     "output_type": "execute_result"
    },
    {
     "data": {
      "image/png": "[encoded data removed]",
      "text/plain": [
       "<Figure size 1152x288 with 1 Axes>"
      ]
     },
     "metadata": {
      "needs_background": "light"
     },
     "output_type": "display_data"
    }
   ],
   "source": [
    "plt.figure(figsize=(16, 4))\n",
    "sns.boxplot(df_train['Amount_invested_monthly'])"
   ]
  },
  {
   "cell_type": "code",
   "execution_count": 222,
   "id": "e897d91a",
   "metadata": {
    "ExecuteTime": {
     "end_time": "2022-06-19T18:57:29.844556Z",
     "start_time": "2022-06-19T18:57:29.710911Z"
    }
   },
   "outputs": [
    {
     "data": {
      "text/plain": [
       "<AxesSubplot:xlabel='Amount_invested_monthly'>"
      ]
     },
     "execution_count": 222,
     "metadata": {},
     "output_type": "execute_result"
    },
    {
     "data": {
      "image/png": "[encoded data removed]",
      "text/plain": [
       "<Figure size 1152x288 with 1 Axes>"
      ]
     },
     "metadata": {
      "needs_background": "light"
     },
     "output_type": "display_data"
    }
   ],
   "source": [
    "# Check outliners of number of accounts\n",
    "plt.figure(figsize=(16, 4))\n",
    "sns.boxplot(x=iqr_method_outliers(column=df_train['Amount_invested_monthly']))"
   ]
  },
  {
   "cell_type": "code",
   "execution_count": 223,
   "id": "955fe7a8",
   "metadata": {
    "ExecuteTime": {
     "end_time": "2022-06-19T18:57:58.705242Z",
     "start_time": "2022-06-19T18:57:58.678319Z"
    }
   },
   "outputs": [],
   "source": [
    "df_train['Amount_invested_monthly'] = iqr_method_outliers(column=df_train['Amount_invested_monthly'])"
   ]
  },
  {
   "cell_type": "markdown",
   "id": "d0e19f00",
   "metadata": {},
   "source": [
    "#### `Payment_Behavior` :\t_Represents the payment behavior of the customer (in USD)_"
   ]
  },
  {
   "cell_type": "code",
   "execution_count": 84,
   "id": "2e40f186",
   "metadata": {
    "ExecuteTime": {
     "end_time": "2022-06-17T17:39:09.688203Z",
     "start_time": "2022-06-17T17:39:09.657282Z"
    }
   },
   "outputs": [
    {
     "data": {
      "text/plain": [
       "7"
      ]
     },
     "execution_count": 84,
     "metadata": {},
     "output_type": "execute_result"
    }
   ],
   "source": [
    "df_train['Payment_Behaviour'].nunique()"
   ]
  },
  {
   "cell_type": "code",
   "execution_count": 88,
   "id": "25de43e3",
   "metadata": {
    "ExecuteTime": {
     "end_time": "2022-06-17T17:39:33.485240Z",
     "start_time": "2022-06-17T17:39:33.469283Z"
    }
   },
   "outputs": [
    {
     "data": {
      "text/plain": [
       "Low_spent_Small_value_payments      25513\n",
       "High_spent_Medium_value_payments    17540\n",
       "Low_spent_Medium_value_payments     13861\n",
       "High_spent_Large_value_payments     13721\n",
       "High_spent_Small_value_payments     11340\n",
       "Low_spent_Large_value_payments      10425\n",
       "!@9#%8                               7600\n",
       "Name: Payment_Behaviour, dtype: int64"
      ]
     },
     "execution_count": 88,
     "metadata": {},
     "output_type": "execute_result"
    }
   ],
   "source": [
    "df_train['Payment_Behaviour'].value_counts()"
   ]
  },
  {
   "cell_type": "markdown",
   "id": "b17d05ac",
   "metadata": {},
   "source": [
    "#### `Monthly_Balance` :\t_Represents the monthly balance amount of the customer (in USD)_"
   ]
  },
  {
   "cell_type": "code",
   "execution_count": 86,
   "id": "0c618050",
   "metadata": {
    "ExecuteTime": {
     "end_time": "2022-06-17T17:39:26.891412Z",
     "start_time": "2022-06-17T17:39:26.612757Z"
    }
   },
   "outputs": [],
   "source": [
    "df_train['Monthly_Balance'] = [float(re.search(r'[0-9]+.[0-9]+',str(x))[0]) if str(x)!='nan' \n",
    "                               else np.nan for x in df_train['Monthly_Balance']]"
   ]
  },
  {
   "cell_type": "code",
   "execution_count": 87,
   "id": "479f4df8",
   "metadata": {
    "ExecuteTime": {
     "end_time": "2022-06-17T17:39:28.118053Z",
     "start_time": "2022-06-17T17:39:28.091844Z"
    }
   },
   "outputs": [
    {
     "data": {
      "text/plain": [
       "count    9.880000e+04\n",
       "mean     3.036437e+22\n",
       "std      3.181295e+24\n",
       "min      7.759665e-03\n",
       "25%      2.701145e+02\n",
       "50%      3.367423e+02\n",
       "75%      4.703321e+02\n",
       "max      3.333333e+26\n",
       "Name: Monthly_Balance, dtype: float64"
      ]
     },
     "execution_count": 87,
     "metadata": {},
     "output_type": "execute_result"
    }
   ],
   "source": [
    "df_train['Monthly_Balance'].describe()"
   ]
  },
  {
   "cell_type": "code",
   "execution_count": 89,
   "id": "7a177fe8",
   "metadata": {
    "ExecuteTime": {
     "end_time": "2022-06-17T17:39:49.945444Z",
     "start_time": "2022-06-17T17:39:49.932481Z"
    }
   },
   "outputs": [],
   "source": [
    "# Fill null value by mean value\n",
    "df_train['Monthly_Balance'].fillna(value=df_train['Monthly_Balance'].median(), inplace=True)"
   ]
  },
  {
   "cell_type": "code",
   "execution_count": 90,
   "id": "59f53e46",
   "metadata": {
    "ExecuteTime": {
     "end_time": "2022-06-17T17:39:57.277639Z",
     "start_time": "2022-06-17T17:39:57.069199Z"
    }
   },
   "outputs": [
    {
     "name": "stderr",
     "output_type": "stream",
     "text": [
      "C:\\Users\\home_\\AppData\\Roaming\\Python\\Python39\\site-packages\\seaborn\\_decorators.py:36: FutureWarning: Pass the following variable as a keyword arg: x. From version 0.12, the only valid positional argument will be `data`, and passing other arguments without an explicit keyword will result in an error or misinterpretation.\n",
      "  warnings.warn(\n"
     ]
    },
    {
     "data": {
      "text/plain": [
       "<AxesSubplot:xlabel='Monthly_Balance'>"
      ]
     },
     "execution_count": 90,
     "metadata": {},
     "output_type": "execute_result"
    },
    {
     "data": {
      "image/png": "[encoded data removed]",
      "text/plain": [
       "<Figure size 1152x288 with 1 Axes>"
      ]
     },
     "metadata": {
      "needs_background": "light"
     },
     "output_type": "display_data"
    }
   ],
   "source": [
    "plt.figure(figsize=(16, 4))\n",
    "sns.boxplot(df_train[df_train['Monthly_Balance']<df_train['Monthly_Balance'].max()]['Monthly_Balance'])"
   ]
  },
  {
   "cell_type": "code",
   "execution_count": 225,
   "id": "d7d94b77",
   "metadata": {
    "ExecuteTime": {
     "end_time": "2022-06-19T18:58:25.594502Z",
     "start_time": "2022-06-19T18:58:25.453530Z"
    }
   },
   "outputs": [
    {
     "data": {
      "text/plain": [
       "<AxesSubplot:xlabel='Monthly_Balance'>"
      ]
     },
     "execution_count": 225,
     "metadata": {},
     "output_type": "execute_result"
    },
    {
     "data": {
      "image/png": "[encoded data removed]",
      "text/plain": [
       "<Figure size 1152x288 with 1 Axes>"
      ]
     },
     "metadata": {
      "needs_background": "light"
     },
     "output_type": "display_data"
    }
   ],
   "source": [
    "# Check outliners of number of accounts\n",
    "plt.figure(figsize=(16, 4))\n",
    "sns.boxplot(x=iqr_method_outliers(column=df_train['Monthly_Balance']))"
   ]
  },
  {
   "cell_type": "code",
   "execution_count": 226,
   "id": "4e23324b",
   "metadata": {
    "ExecuteTime": {
     "end_time": "2022-06-19T18:58:54.831941Z",
     "start_time": "2022-06-19T18:58:54.806969Z"
    }
   },
   "outputs": [],
   "source": [
    "df_train['Monthly_Balance'] = iqr_method_outliers(column=df_train['Monthly_Balance'])"
   ]
  },
  {
   "cell_type": "markdown",
   "id": "6d5a2dd9",
   "metadata": {},
   "source": [
    "#### `Credit_Score` :\t_Represents the bracket of credit score (Poor, Standard, Good)_"
   ]
  },
  {
   "cell_type": "code",
   "execution_count": 227,
   "id": "ba3ac8fa",
   "metadata": {
    "ExecuteTime": {
     "end_time": "2022-06-19T18:59:14.546412Z",
     "start_time": "2022-06-19T18:59:14.525429Z"
    }
   },
   "outputs": [
    {
     "data": {
      "text/plain": [
       "3"
      ]
     },
     "execution_count": 227,
     "metadata": {},
     "output_type": "execute_result"
    }
   ],
   "source": [
    "df_train['Credit_Score'].nunique()"
   ]
  },
  {
   "cell_type": "code",
   "execution_count": 228,
   "id": "7ebe9d06",
   "metadata": {
    "ExecuteTime": {
     "end_time": "2022-06-19T18:59:15.128400Z",
     "start_time": "2022-06-19T18:59:15.115398Z"
    }
   },
   "outputs": [
    {
     "data": {
      "text/plain": [
       "Standard    53174\n",
       "Poor        28998\n",
       "Good        17828\n",
       "Name: Credit_Score, dtype: int64"
      ]
     },
     "execution_count": 228,
     "metadata": {},
     "output_type": "execute_result"
    }
   ],
   "source": [
    "df_train['Credit_Score'].value_counts()"
   ]
  },
  {
   "cell_type": "markdown",
   "id": "53e833df",
   "metadata": {},
   "source": [
    "### Data Visualization..."
   ]
  },
  {
   "cell_type": "code",
   "execution_count": 229,
   "id": "c1e45a5f",
   "metadata": {
    "ExecuteTime": {
     "end_time": "2022-06-19T18:59:22.166812Z",
     "start_time": "2022-06-19T18:59:22.148824Z"
    }
   },
   "outputs": [
    {
     "data": {
      "text/plain": [
       "Index(['ID', 'Customer_ID', 'Month', 'Name', 'Age', 'SSN', 'Occupation',\n",
       "       'Annual_Income', 'Monthly_Inhand_Salary', 'Num_Bank_Accounts',\n",
       "       'Num_Credit_Card', 'Interest_Rate', 'Num_of_Loan', 'Type_of_Loan',\n",
       "       'Delay_from_due_date', 'Num_of_Delayed_Payment', 'Changed_Credit_Limit',\n",
       "       'Num_Credit_Inquiries', 'Credit_Mix', 'Outstanding_Debt',\n",
       "       'Credit_Utilization_Ratio', 'Credit_History_Age',\n",
       "       'Payment_of_Min_Amount', 'Total_EMI_per_month',\n",
       "       'Amount_invested_monthly', 'Payment_Behaviour', 'Monthly_Balance',\n",
       "       'Credit_Score'],\n",
       "      dtype='object')"
      ]
     },
     "execution_count": 229,
     "metadata": {},
     "output_type": "execute_result"
    }
   ],
   "source": [
    "df_train.columns"
   ]
  },
  {
   "cell_type": "code",
   "execution_count": 230,
   "id": "c6be23ec",
   "metadata": {
    "ExecuteTime": {
     "end_time": "2022-06-19T18:59:22.959089Z",
     "start_time": "2022-06-19T18:59:22.928365Z"
    }
   },
   "outputs": [],
   "source": [
    "total_col = [None, 'ID', 'Customer_ID', 'Month', 'Name', 'Age', 'SSN', 'Occupation', 'Annual_Income', \n",
    "             'Monthly_Inhand_Salary', 'Num_Bank_Accounts', 'Num_Credit_Card', 'Interest_Rate', 'Num_of_Loan', \n",
    "             'Type_of_Loan', 'Delay_from_due_date', 'Num_of_Delayed_Payment', 'Changed_Credit_Limit',\n",
    "             'Num_Credit_Inquiries', 'Credit_Mix', 'Outstanding_Debt', 'Credit_Utilization_Ratio', \n",
    "             'Credit_History_Age', 'Payment_of_Min_Amount', 'Total_EMI_per_month', 'Amount_invested_monthly', \n",
    "             'Payment_Behaviour', 'Monthly_Balance', 'Credit_Score']"
   ]
  },
  {
   "cell_type": "code",
   "execution_count": 231,
   "id": "d5cfd817",
   "metadata": {
    "ExecuteTime": {
     "end_time": "2022-06-19T18:59:24.510770Z",
     "start_time": "2022-06-19T18:59:24.398068Z"
    },
    "scrolled": false
   },
   "outputs": [
    {
     "data": {
      "application/vnd.jupyter.widget-view+json": {
       "model_id": "135513ebb8de443db52e5df3c3e5b562",
       "version_major": 2,
       "version_minor": 0
      },
      "text/plain": [
       "interactive(children=(Dropdown(description='plot', options=(None, <function countplot at 0x00000156F1D314C0>, …"
      ]
     },
     "metadata": {},
     "output_type": "display_data"
    }
   ],
   "source": [
    "from ipywidgets import interact\n",
    "\n",
    "@interact\n",
    "def plot_selected(plot = [None, sns.countplot, sns.barplot, sns.boxplot, sns.barplot, sns.lineplot, sns.histplot,\n",
    "                          sns.scatterplot, sns.regplot, sns.pairplot, sns.violinplot, sns.distplot, sns.kdeplot,\n",
    "                          sns.jointplot, sns.swarmplot, sns.stripplot],\n",
    "                  width=(5,25,1), heigh=(5,25,1), rotation=(0,90,5), x_=total_col, y_=total_col, hue_=total_col):\n",
    "    plt.figure(figsize=(width, heigh)) if plot else None\n",
    "    if x_ and y_ and hue_:\n",
    "        plot(x=df_train[x_], y=df_train[y_], hue=df_train[hue_]) if plot else None\n",
    "        display(df_train[[x_, y_, hue_]])\n",
    "    elif x_ and y_:\n",
    "        plot(x=df_train[x_], y=df_train[y_]) if plot else None\n",
    "        display(df_train[[x_, y_]])\n",
    "    elif x_ and hue_:\n",
    "        plot(x=df_train[x_], hue=df_train[hue_]) if plot else None\n",
    "        display(df_train[[x_,hue_]])\n",
    "    elif y_ and hue_:\n",
    "        plot(y=df_train[y_], hue=df_train[hue_]) if plot else None\n",
    "        display(df_train[[y_, hue_]])\n",
    "    elif x_:\n",
    "        plot(x=df_train[x_]) if plot else None\n",
    "        display(df_train[[x_]])\n",
    "    elif y_:\n",
    "        plot(y=df_train[y_]) if plot else None\n",
    "        display(df_train[[y_]])\n",
    "    elif hue_:\n",
    "        display(df_train[[hue_]])\n",
    "    plt.xticks(rotation=rotation) if plot else None\n",
    "    return"
   ]
  },
  {
   "cell_type": "markdown",
   "id": "5f4535f4",
   "metadata": {},
   "source": [
    "## ML"
   ]
  },
  {
   "cell_type": "code",
   "execution_count": 246,
   "id": "e9aca729",
   "metadata": {
    "ExecuteTime": {
     "end_time": "2022-06-19T19:03:23.265389Z",
     "start_time": "2022-06-19T19:03:23.072268Z"
    },
    "scrolled": false
   },
   "outputs": [
    {
     "data": {
      "text/plain": [
       "ID                             0\n",
       "Customer_ID                    0\n",
       "Month                          0\n",
       "Name                        9985\n",
       "Age                            0\n",
       "SSN                            0\n",
       "Occupation                     0\n",
       "Annual_Income                  0\n",
       "Monthly_Inhand_Salary          0\n",
       "Num_Bank_Accounts              0\n",
       "Num_Credit_Card                0\n",
       "Interest_Rate                  0\n",
       "Num_of_Loan                    0\n",
       "Type_of_Loan                   0\n",
       "Delay_from_due_date            0\n",
       "Num_of_Delayed_Payment         0\n",
       "Changed_Credit_Limit           0\n",
       "Num_Credit_Inquiries           0\n",
       "Credit_Mix                     0\n",
       "Outstanding_Debt               0\n",
       "Credit_Utilization_Ratio       0\n",
       "Credit_History_Age             0\n",
       "Payment_of_Min_Amount          0\n",
       "Total_EMI_per_month            0\n",
       "Amount_invested_monthly        0\n",
       "Payment_Behaviour              0\n",
       "Monthly_Balance                0\n",
       "Credit_Score                   0\n",
       "dtype: int64"
      ]
     },
     "execution_count": 246,
     "metadata": {},
     "output_type": "execute_result"
    }
   ],
   "source": [
    "df_train.isna().sum()"
   ]
  },
  {
   "cell_type": "code",
   "execution_count": 247,
   "id": "9f7aab7c",
   "metadata": {
    "ExecuteTime": {
     "end_time": "2022-06-19T19:03:26.170472Z",
     "start_time": "2022-06-19T19:03:23.877646Z"
    }
   },
   "outputs": [],
   "source": [
    "df_train.to_csv('updated_train_data.csv', index=False)"
   ]
  },
  {
   "cell_type": "markdown",
   "id": "383dce24",
   "metadata": {},
   "source": [
    "#### Drop columns which not use full for ML."
   ]
  },
  {
   "cell_type": "code",
   "execution_count": 248,
   "id": "9f056d1b",
   "metadata": {
    "ExecuteTime": {
     "end_time": "2022-06-19T19:03:28.467558Z",
     "start_time": "2022-06-19T19:03:27.744851Z"
    }
   },
   "outputs": [],
   "source": [
    "df_temp = pd.read_csv('updated_train_data.csv')"
   ]
  },
  {
   "cell_type": "code",
   "execution_count": 249,
   "id": "d4fdf902",
   "metadata": {
    "ExecuteTime": {
     "end_time": "2022-06-19T19:03:28.830305Z",
     "start_time": "2022-06-19T19:03:28.802379Z"
    }
   },
   "outputs": [],
   "source": [
    "# ID --> Because it is unique indentification of each entry, so it is not use for ML\n",
    "# Name --> Because it is related to Customer_ID  therefor no need for this name\n",
    "# SSN --> it is directly represents Customer_ID..\n",
    "\n",
    "df_temp.drop(columns=['ID', 'Name', 'SSN'], inplace=True)"
   ]
  },
  {
   "cell_type": "markdown",
   "id": "3a7855fc",
   "metadata": {},
   "source": [
    "#### Convert object data into Numerical Format using `LabelEncoder`"
   ]
  },
  {
   "cell_type": "code",
   "execution_count": 250,
   "id": "d068c35d",
   "metadata": {
    "ExecuteTime": {
     "end_time": "2022-06-19T19:03:33.725017Z",
     "start_time": "2022-06-19T19:03:33.648186Z"
    }
   },
   "outputs": [
    {
     "data": {
      "text/html": [
       "<div>\n",
       "<style scoped>\n",
       "    .dataframe tbody tr th:only-of-type {\n",
       "        vertical-align: middle;\n",
       "    }\n",
       "\n",
       "    .dataframe tbody tr th {\n",
       "        vertical-align: top;\n",
       "    }\n",
       "\n",
       "    .dataframe thead th {\n",
       "        text-align: right;\n",
       "    }\n",
       "</style>\n",
       "<table border=\"1\" class=\"dataframe\">\n",
       "  <thead>\n",
       "    <tr style=\"text-align: right;\">\n",
       "      <th></th>\n",
       "      <th>Customer_ID</th>\n",
       "      <th>Month</th>\n",
       "      <th>Age</th>\n",
       "      <th>Occupation</th>\n",
       "      <th>Annual_Income</th>\n",
       "      <th>Monthly_Inhand_Salary</th>\n",
       "      <th>Num_Bank_Accounts</th>\n",
       "      <th>Num_Credit_Card</th>\n",
       "      <th>Interest_Rate</th>\n",
       "      <th>Num_of_Loan</th>\n",
       "      <th>...</th>\n",
       "      <th>Credit_Mix</th>\n",
       "      <th>Outstanding_Debt</th>\n",
       "      <th>Credit_Utilization_Ratio</th>\n",
       "      <th>Credit_History_Age</th>\n",
       "      <th>Payment_of_Min_Amount</th>\n",
       "      <th>Total_EMI_per_month</th>\n",
       "      <th>Amount_invested_monthly</th>\n",
       "      <th>Payment_Behaviour</th>\n",
       "      <th>Monthly_Balance</th>\n",
       "      <th>Credit_Score</th>\n",
       "    </tr>\n",
       "  </thead>\n",
       "  <tbody>\n",
       "    <tr>\n",
       "      <th>0</th>\n",
       "      <td>CUS_0xd40</td>\n",
       "      <td>January</td>\n",
       "      <td>23</td>\n",
       "      <td>Scientist</td>\n",
       "      <td>19114.12</td>\n",
       "      <td>1824.843333</td>\n",
       "      <td>3.0</td>\n",
       "      <td>4.0</td>\n",
       "      <td>3.0</td>\n",
       "      <td>4.0</td>\n",
       "      <td>...</td>\n",
       "      <td>_</td>\n",
       "      <td>809.98</td>\n",
       "      <td>26.822620</td>\n",
       "      <td>265.0</td>\n",
       "      <td>No</td>\n",
       "      <td>49.574949</td>\n",
       "      <td>80.415295</td>\n",
       "      <td>High_spent_Small_value_payments</td>\n",
       "      <td>312.494089</td>\n",
       "      <td>Good</td>\n",
       "    </tr>\n",
       "    <tr>\n",
       "      <th>1</th>\n",
       "      <td>CUS_0xd40</td>\n",
       "      <td>February</td>\n",
       "      <td>23</td>\n",
       "      <td>Scientist</td>\n",
       "      <td>19114.12</td>\n",
       "      <td>1824.843333</td>\n",
       "      <td>3.0</td>\n",
       "      <td>4.0</td>\n",
       "      <td>3.0</td>\n",
       "      <td>4.0</td>\n",
       "      <td>...</td>\n",
       "      <td>Good</td>\n",
       "      <td>809.98</td>\n",
       "      <td>31.944960</td>\n",
       "      <td>219.0</td>\n",
       "      <td>No</td>\n",
       "      <td>49.574949</td>\n",
       "      <td>118.280222</td>\n",
       "      <td>Low_spent_Large_value_payments</td>\n",
       "      <td>284.629162</td>\n",
       "      <td>Good</td>\n",
       "    </tr>\n",
       "    <tr>\n",
       "      <th>2</th>\n",
       "      <td>CUS_0xd40</td>\n",
       "      <td>March</td>\n",
       "      <td>-500</td>\n",
       "      <td>Scientist</td>\n",
       "      <td>19114.12</td>\n",
       "      <td>1824.843333</td>\n",
       "      <td>3.0</td>\n",
       "      <td>4.0</td>\n",
       "      <td>3.0</td>\n",
       "      <td>4.0</td>\n",
       "      <td>...</td>\n",
       "      <td>Good</td>\n",
       "      <td>809.98</td>\n",
       "      <td>28.609352</td>\n",
       "      <td>267.0</td>\n",
       "      <td>No</td>\n",
       "      <td>49.574949</td>\n",
       "      <td>81.699521</td>\n",
       "      <td>Low_spent_Medium_value_payments</td>\n",
       "      <td>331.209863</td>\n",
       "      <td>Good</td>\n",
       "    </tr>\n",
       "    <tr>\n",
       "      <th>3</th>\n",
       "      <td>CUS_0xd40</td>\n",
       "      <td>April</td>\n",
       "      <td>23</td>\n",
       "      <td>Scientist</td>\n",
       "      <td>19114.12</td>\n",
       "      <td>1824.843333</td>\n",
       "      <td>3.0</td>\n",
       "      <td>4.0</td>\n",
       "      <td>3.0</td>\n",
       "      <td>4.0</td>\n",
       "      <td>...</td>\n",
       "      <td>Good</td>\n",
       "      <td>809.98</td>\n",
       "      <td>31.377862</td>\n",
       "      <td>268.0</td>\n",
       "      <td>No</td>\n",
       "      <td>49.574949</td>\n",
       "      <td>199.458074</td>\n",
       "      <td>Low_spent_Small_value_payments</td>\n",
       "      <td>223.451310</td>\n",
       "      <td>Good</td>\n",
       "    </tr>\n",
       "    <tr>\n",
       "      <th>4</th>\n",
       "      <td>CUS_0xd40</td>\n",
       "      <td>May</td>\n",
       "      <td>23</td>\n",
       "      <td>Scientist</td>\n",
       "      <td>19114.12</td>\n",
       "      <td>1824.843333</td>\n",
       "      <td>3.0</td>\n",
       "      <td>4.0</td>\n",
       "      <td>3.0</td>\n",
       "      <td>4.0</td>\n",
       "      <td>...</td>\n",
       "      <td>Good</td>\n",
       "      <td>809.98</td>\n",
       "      <td>24.797347</td>\n",
       "      <td>269.0</td>\n",
       "      <td>No</td>\n",
       "      <td>49.574949</td>\n",
       "      <td>41.420153</td>\n",
       "      <td>High_spent_Medium_value_payments</td>\n",
       "      <td>341.489231</td>\n",
       "      <td>Good</td>\n",
       "    </tr>\n",
       "    <tr>\n",
       "      <th>...</th>\n",
       "      <td>...</td>\n",
       "      <td>...</td>\n",
       "      <td>...</td>\n",
       "      <td>...</td>\n",
       "      <td>...</td>\n",
       "      <td>...</td>\n",
       "      <td>...</td>\n",
       "      <td>...</td>\n",
       "      <td>...</td>\n",
       "      <td>...</td>\n",
       "      <td>...</td>\n",
       "      <td>...</td>\n",
       "      <td>...</td>\n",
       "      <td>...</td>\n",
       "      <td>...</td>\n",
       "      <td>...</td>\n",
       "      <td>...</td>\n",
       "      <td>...</td>\n",
       "      <td>...</td>\n",
       "      <td>...</td>\n",
       "      <td>...</td>\n",
       "    </tr>\n",
       "    <tr>\n",
       "      <th>99995</th>\n",
       "      <td>CUS_0x942c</td>\n",
       "      <td>April</td>\n",
       "      <td>25</td>\n",
       "      <td>Mechanic</td>\n",
       "      <td>39628.99</td>\n",
       "      <td>3359.415833</td>\n",
       "      <td>4.0</td>\n",
       "      <td>6.0</td>\n",
       "      <td>7.0</td>\n",
       "      <td>2.0</td>\n",
       "      <td>...</td>\n",
       "      <td>_</td>\n",
       "      <td>502.38</td>\n",
       "      <td>34.663572</td>\n",
       "      <td>378.0</td>\n",
       "      <td>No</td>\n",
       "      <td>35.104023</td>\n",
       "      <td>60.971333</td>\n",
       "      <td>High_spent_Large_value_payments</td>\n",
       "      <td>479.866228</td>\n",
       "      <td>Poor</td>\n",
       "    </tr>\n",
       "    <tr>\n",
       "      <th>99996</th>\n",
       "      <td>CUS_0x942c</td>\n",
       "      <td>May</td>\n",
       "      <td>25</td>\n",
       "      <td>Mechanic</td>\n",
       "      <td>39628.99</td>\n",
       "      <td>3359.415833</td>\n",
       "      <td>4.0</td>\n",
       "      <td>6.0</td>\n",
       "      <td>7.0</td>\n",
       "      <td>2.0</td>\n",
       "      <td>...</td>\n",
       "      <td>_</td>\n",
       "      <td>502.38</td>\n",
       "      <td>40.565631</td>\n",
       "      <td>379.0</td>\n",
       "      <td>No</td>\n",
       "      <td>35.104023</td>\n",
       "      <td>54.185950</td>\n",
       "      <td>High_spent_Medium_value_payments</td>\n",
       "      <td>496.651610</td>\n",
       "      <td>Poor</td>\n",
       "    </tr>\n",
       "    <tr>\n",
       "      <th>99997</th>\n",
       "      <td>CUS_0x942c</td>\n",
       "      <td>June</td>\n",
       "      <td>25</td>\n",
       "      <td>Mechanic</td>\n",
       "      <td>39628.99</td>\n",
       "      <td>3359.415833</td>\n",
       "      <td>4.0</td>\n",
       "      <td>6.0</td>\n",
       "      <td>35.0</td>\n",
       "      <td>2.0</td>\n",
       "      <td>...</td>\n",
       "      <td>Good</td>\n",
       "      <td>502.38</td>\n",
       "      <td>41.255522</td>\n",
       "      <td>380.0</td>\n",
       "      <td>No</td>\n",
       "      <td>35.104023</td>\n",
       "      <td>24.028477</td>\n",
       "      <td>High_spent_Large_value_payments</td>\n",
       "      <td>516.809083</td>\n",
       "      <td>Poor</td>\n",
       "    </tr>\n",
       "    <tr>\n",
       "      <th>99998</th>\n",
       "      <td>CUS_0x942c</td>\n",
       "      <td>July</td>\n",
       "      <td>25</td>\n",
       "      <td>Mechanic</td>\n",
       "      <td>39628.99</td>\n",
       "      <td>3359.415833</td>\n",
       "      <td>4.0</td>\n",
       "      <td>6.0</td>\n",
       "      <td>7.0</td>\n",
       "      <td>2.0</td>\n",
       "      <td>...</td>\n",
       "      <td>Good</td>\n",
       "      <td>502.38</td>\n",
       "      <td>33.638208</td>\n",
       "      <td>381.0</td>\n",
       "      <td>No</td>\n",
       "      <td>35.104023</td>\n",
       "      <td>251.672582</td>\n",
       "      <td>Low_spent_Large_value_payments</td>\n",
       "      <td>319.164979</td>\n",
       "      <td>Standard</td>\n",
       "    </tr>\n",
       "    <tr>\n",
       "      <th>99999</th>\n",
       "      <td>CUS_0x942c</td>\n",
       "      <td>August</td>\n",
       "      <td>25</td>\n",
       "      <td>Mechanic</td>\n",
       "      <td>39628.99</td>\n",
       "      <td>3359.415833</td>\n",
       "      <td>4.0</td>\n",
       "      <td>6.0</td>\n",
       "      <td>7.0</td>\n",
       "      <td>2.0</td>\n",
       "      <td>...</td>\n",
       "      <td>Good</td>\n",
       "      <td>502.38</td>\n",
       "      <td>34.192463</td>\n",
       "      <td>382.0</td>\n",
       "      <td>No</td>\n",
       "      <td>35.104023</td>\n",
       "      <td>167.163865</td>\n",
       "      <td>!@9#%8</td>\n",
       "      <td>393.673696</td>\n",
       "      <td>Poor</td>\n",
       "    </tr>\n",
       "  </tbody>\n",
       "</table>\n",
       "<p>100000 rows × 25 columns</p>\n",
       "</div>"
      ],
      "text/plain": [
       "      Customer_ID     Month   Age Occupation  Annual_Income  \\\n",
       "0       CUS_0xd40   January    23  Scientist       19114.12   \n",
       "1       CUS_0xd40  February    23  Scientist       19114.12   \n",
       "2       CUS_0xd40     March  -500  Scientist       19114.12   \n",
       "3       CUS_0xd40     April    23  Scientist       19114.12   \n",
       "4       CUS_0xd40       May    23  Scientist       19114.12   \n",
       "...           ...       ...   ...        ...            ...   \n",
       "99995  CUS_0x942c     April    25   Mechanic       39628.99   \n",
       "99996  CUS_0x942c       May    25   Mechanic       39628.99   \n",
       "99997  CUS_0x942c      June    25   Mechanic       39628.99   \n",
       "99998  CUS_0x942c      July    25   Mechanic       39628.99   \n",
       "99999  CUS_0x942c    August    25   Mechanic       39628.99   \n",
       "\n",
       "       Monthly_Inhand_Salary  Num_Bank_Accounts  Num_Credit_Card  \\\n",
       "0                1824.843333                3.0              4.0   \n",
       "1                1824.843333                3.0              4.0   \n",
       "2                1824.843333                3.0              4.0   \n",
       "3                1824.843333                3.0              4.0   \n",
       "4                1824.843333                3.0              4.0   \n",
       "...                      ...                ...              ...   \n",
       "99995            3359.415833                4.0              6.0   \n",
       "99996            3359.415833                4.0              6.0   \n",
       "99997            3359.415833                4.0              6.0   \n",
       "99998            3359.415833                4.0              6.0   \n",
       "99999            3359.415833                4.0              6.0   \n",
       "\n",
       "       Interest_Rate  Num_of_Loan  ... Credit_Mix  Outstanding_Debt  \\\n",
       "0                3.0          4.0  ...          _            809.98   \n",
       "1                3.0          4.0  ...       Good            809.98   \n",
       "2                3.0          4.0  ...       Good            809.98   \n",
       "3                3.0          4.0  ...       Good            809.98   \n",
       "4                3.0          4.0  ...       Good            809.98   \n",
       "...              ...          ...  ...        ...               ...   \n",
       "99995            7.0          2.0  ...          _            502.38   \n",
       "99996            7.0          2.0  ...          _            502.38   \n",
       "99997           35.0          2.0  ...       Good            502.38   \n",
       "99998            7.0          2.0  ...       Good            502.38   \n",
       "99999            7.0          2.0  ...       Good            502.38   \n",
       "\n",
       "       Credit_Utilization_Ratio  Credit_History_Age  Payment_of_Min_Amount  \\\n",
       "0                     26.822620               265.0                     No   \n",
       "1                     31.944960               219.0                     No   \n",
       "2                     28.609352               267.0                     No   \n",
       "3                     31.377862               268.0                     No   \n",
       "4                     24.797347               269.0                     No   \n",
       "...                         ...                 ...                    ...   \n",
       "99995                 34.663572               378.0                     No   \n",
       "99996                 40.565631               379.0                     No   \n",
       "99997                 41.255522               380.0                     No   \n",
       "99998                 33.638208               381.0                     No   \n",
       "99999                 34.192463               382.0                     No   \n",
       "\n",
       "      Total_EMI_per_month  Amount_invested_monthly  \\\n",
       "0               49.574949                80.415295   \n",
       "1               49.574949               118.280222   \n",
       "2               49.574949                81.699521   \n",
       "3               49.574949               199.458074   \n",
       "4               49.574949                41.420153   \n",
       "...                   ...                      ...   \n",
       "99995           35.104023                60.971333   \n",
       "99996           35.104023                54.185950   \n",
       "99997           35.104023                24.028477   \n",
       "99998           35.104023               251.672582   \n",
       "99999           35.104023               167.163865   \n",
       "\n",
       "                      Payment_Behaviour  Monthly_Balance Credit_Score  \n",
       "0       High_spent_Small_value_payments       312.494089         Good  \n",
       "1        Low_spent_Large_value_payments       284.629162         Good  \n",
       "2       Low_spent_Medium_value_payments       331.209863         Good  \n",
       "3        Low_spent_Small_value_payments       223.451310         Good  \n",
       "4      High_spent_Medium_value_payments       341.489231         Good  \n",
       "...                                 ...              ...          ...  \n",
       "99995   High_spent_Large_value_payments       479.866228         Poor  \n",
       "99996  High_spent_Medium_value_payments       496.651610         Poor  \n",
       "99997   High_spent_Large_value_payments       516.809083         Poor  \n",
       "99998    Low_spent_Large_value_payments       319.164979     Standard  \n",
       "99999                            !@9#%8       393.673696         Poor  \n",
       "\n",
       "[100000 rows x 25 columns]"
      ]
     },
     "execution_count": 250,
     "metadata": {},
     "output_type": "execute_result"
    }
   ],
   "source": [
    "df_temp"
   ]
  },
  {
   "cell_type": "code",
   "execution_count": 251,
   "id": "2c7d08ac",
   "metadata": {
    "ExecuteTime": {
     "end_time": "2022-06-19T19:03:34.892799Z",
     "start_time": "2022-06-19T19:03:34.884820Z"
    }
   },
   "outputs": [],
   "source": [
    "from sklearn.preprocessing import LabelEncoder\n",
    "\n",
    "def fit_and_trasfer_into_Labelencoder(dataframe):\n",
    "    data = dataframe.copy()\n",
    "    obj_cols = data.select_dtypes('object').columns\n",
    "    obj_cols_fit = {}\n",
    "    for col in obj_cols:\n",
    "        obj_cols_fit[col] = LabelEncoder().fit(data[col])\n",
    "    for col, labeled in obj_cols_fit.items():\n",
    "        data[col] = labeled.fit_transform(data[col])\n",
    "    return obj_cols_fit, data\n",
    "\n",
    "def trasfer_into_Labelencoder(labeled_dict, new_data):\n",
    "    data = new_data.copy()\n",
    "    for col, lable in labeled_dict.items():\n",
    "        if col in data.columns:\n",
    "            data[col] = lable.fit_transform(data[col])\n",
    "    return data"
   ]
  },
  {
   "cell_type": "code",
   "execution_count": 252,
   "id": "a6dc0db7",
   "metadata": {
    "ExecuteTime": {
     "end_time": "2022-06-19T19:03:39.090852Z",
     "start_time": "2022-06-19T19:03:38.789755Z"
    }
   },
   "outputs": [],
   "source": [
    "labeled_dict, df_temp = fit_and_trasfer_into_Labelencoder(df_temp)"
   ]
  },
  {
   "cell_type": "code",
   "execution_count": 253,
   "id": "ecc5642f",
   "metadata": {
    "ExecuteTime": {
     "end_time": "2022-06-19T19:03:39.798542Z",
     "start_time": "2022-06-19T19:03:39.782546Z"
    }
   },
   "outputs": [
    {
     "data": {
      "text/plain": [
       "{'Customer_ID': LabelEncoder(),\n",
       " 'Month': LabelEncoder(),\n",
       " 'Age': LabelEncoder(),\n",
       " 'Occupation': LabelEncoder(),\n",
       " 'Type_of_Loan': LabelEncoder(),\n",
       " 'Credit_Mix': LabelEncoder(),\n",
       " 'Payment_of_Min_Amount': LabelEncoder(),\n",
       " 'Payment_Behaviour': LabelEncoder(),\n",
       " 'Credit_Score': LabelEncoder()}"
      ]
     },
     "execution_count": 253,
     "metadata": {},
     "output_type": "execute_result"
    }
   ],
   "source": [
    "labeled_dict"
   ]
  },
  {
   "cell_type": "code",
   "execution_count": 254,
   "id": "d9ecac6e",
   "metadata": {
    "ExecuteTime": {
     "end_time": "2022-06-19T19:03:41.996489Z",
     "start_time": "2022-06-19T19:03:41.964814Z"
    }
   },
   "outputs": [
    {
     "name": "stdout",
     "output_type": "stream",
     "text": [
      "<class 'pandas.core.frame.DataFrame'>\n",
      "RangeIndex: 100000 entries, 0 to 99999\n",
      "Data columns (total 25 columns):\n",
      " #   Column                    Non-Null Count   Dtype  \n",
      "---  ------                    --------------   -----  \n",
      " 0   Customer_ID               100000 non-null  int32  \n",
      " 1   Month                     100000 non-null  int32  \n",
      " 2   Age                       100000 non-null  int32  \n",
      " 3   Occupation                100000 non-null  int32  \n",
      " 4   Annual_Income             100000 non-null  float64\n",
      " 5   Monthly_Inhand_Salary     100000 non-null  float64\n",
      " 6   Num_Bank_Accounts         100000 non-null  float64\n",
      " 7   Num_Credit_Card           100000 non-null  float64\n",
      " 8   Interest_Rate             100000 non-null  float64\n",
      " 9   Num_of_Loan               100000 non-null  float64\n",
      " 10  Type_of_Loan              100000 non-null  int32  \n",
      " 11  Delay_from_due_date       100000 non-null  float64\n",
      " 12  Num_of_Delayed_Payment    100000 non-null  float64\n",
      " 13  Changed_Credit_Limit      100000 non-null  float64\n",
      " 14  Num_Credit_Inquiries      100000 non-null  float64\n",
      " 15  Credit_Mix                100000 non-null  int32  \n",
      " 16  Outstanding_Debt          100000 non-null  float64\n",
      " 17  Credit_Utilization_Ratio  100000 non-null  float64\n",
      " 18  Credit_History_Age        100000 non-null  float64\n",
      " 19  Payment_of_Min_Amount     100000 non-null  int32  \n",
      " 20  Total_EMI_per_month       100000 non-null  float64\n",
      " 21  Amount_invested_monthly   100000 non-null  float64\n",
      " 22  Payment_Behaviour         100000 non-null  int32  \n",
      " 23  Monthly_Balance           100000 non-null  float64\n",
      " 24  Credit_Score              100000 non-null  int32  \n",
      "dtypes: float64(16), int32(9)\n",
      "memory usage: 15.6 MB\n"
     ]
    }
   ],
   "source": [
    "df_temp.info()"
   ]
  },
  {
   "cell_type": "code",
   "execution_count": 255,
   "id": "b0100db3",
   "metadata": {
    "ExecuteTime": {
     "end_time": "2022-06-19T19:03:46.451090Z",
     "start_time": "2022-06-19T19:03:43.473932Z"
    }
   },
   "outputs": [
    {
     "data": {
      "text/plain": [
       "<AxesSubplot:>"
      ]
     },
     "execution_count": 255,
     "metadata": {},
     "output_type": "execute_result"
    },
    {
     "data": {
      "image/png": "[encoded data removed]",
      "text/plain": [
       "<Figure size 1656x1440 with 2 Axes>"
      ]
     },
     "metadata": {
      "needs_background": "light"
     },
     "output_type": "display_data"
    }
   ],
   "source": [
    "plt.figure(figsize=(23, 20))\n",
    "sns.heatmap(df_temp.corr(), annot=True, cmap='YlGnBu')"
   ]
  },
  {
   "cell_type": "markdown",
   "id": "56ba7760",
   "metadata": {},
   "source": [
    "#### Split data into Features(`X`) and Target(`Y`) Columns"
   ]
  },
  {
   "cell_type": "markdown",
   "id": "04618461",
   "metadata": {},
   "source": [
    "> In this data set our Target Column is `Credit_Score`."
   ]
  },
  {
   "cell_type": "code",
   "execution_count": 256,
   "id": "1f6d7dd2",
   "metadata": {
    "ExecuteTime": {
     "end_time": "2022-06-19T19:04:01.761581Z",
     "start_time": "2022-06-19T19:04:01.741602Z"
    }
   },
   "outputs": [
    {
     "data": {
      "text/plain": [
       "((100000, 24), (100000,))"
      ]
     },
     "execution_count": 256,
     "metadata": {},
     "output_type": "execute_result"
    }
   ],
   "source": [
    "x = df_temp.drop(columns=['Credit_Score'])\n",
    "y = df_temp['Credit_Score']\n",
    "\n",
    "x.shape, y.shape"
   ]
  },
  {
   "cell_type": "markdown",
   "id": "cb0278f7",
   "metadata": {},
   "source": [
    "#### Split into training and testing dataset"
   ]
  },
  {
   "cell_type": "code",
   "execution_count": 257,
   "id": "f64ac466",
   "metadata": {
    "ExecuteTime": {
     "end_time": "2022-06-19T19:04:05.644043Z",
     "start_time": "2022-06-19T19:04:05.590187Z"
    }
   },
   "outputs": [
    {
     "data": {
      "text/plain": [
       "((99000, 24), (1000, 24), (99000,), (1000,))"
      ]
     },
     "execution_count": 257,
     "metadata": {},
     "output_type": "execute_result"
    }
   ],
   "source": [
    "from sklearn.model_selection import train_test_split\n",
    "\n",
    "x_train, x_test, y_train, y_test = train_test_split(x, y, test_size=.01, random_state=65)\n",
    "\n",
    "x_train.shape, x_test.shape, y_train.shape, y_test.shape"
   ]
  },
  {
   "cell_type": "markdown",
   "id": "15ccaacc",
   "metadata": {},
   "source": [
    "#### Run model check accuracy of each model..."
   ]
  },
  {
   "cell_type": "markdown",
   "id": "eddf6733",
   "metadata": {},
   "source": [
    "> In this dataset we  have to predict categorical data... so, we run Classification models...."
   ]
  },
  {
   "cell_type": "code",
   "execution_count": 258,
   "id": "a883a909",
   "metadata": {
    "ExecuteTime": {
     "end_time": "2022-06-19T19:04:10.193744Z",
     "start_time": "2022-06-19T19:04:10.174759Z"
    }
   },
   "outputs": [],
   "source": [
    "from sklearn.linear_model import LogisticRegression\n",
    "from sklearn.ensemble import RandomForestClassifier, GradientBoostingClassifier\n",
    "from sklearn.neighbors import KNeighborsClassifier\n",
    "from xgboost import XGBClassifier\n",
    "from catboost import CatBoostClassifier"
   ]
  },
  {
   "cell_type": "code",
   "execution_count": 259,
   "id": "ea361d7c",
   "metadata": {
    "ExecuteTime": {
     "end_time": "2022-06-19T19:08:54.061100Z",
     "start_time": "2022-06-19T19:04:12.613493Z"
    },
    "scrolled": true
   },
   "outputs": [
    {
     "name": "stderr",
     "output_type": "stream",
     "text": [
      "c:\\program files\\python39\\lib\\site-packages\\sklearn\\linear_model\\_logistic.py:814: ConvergenceWarning: lbfgs failed to converge (status=1):\n",
      "STOP: TOTAL NO. of ITERATIONS REACHED LIMIT.\n",
      "\n",
      "Increase the number of iterations (max_iter) or scale the data as shown in:\n",
      "    https://scikit-learn.org/stable/modules/preprocessing.html\n",
      "Please also refer to the documentation for alternative solver options:\n",
      "    https://scikit-learn.org/stable/modules/linear_model.html#logistic-regression\n",
      "  n_iter_i = _check_optimize_result(\n"
     ]
    }
   ],
   "source": [
    "models = {'LogisticRegression':LogisticRegression(),\n",
    "          'RandomForestClassifier':RandomForestClassifier(),\n",
    "          'GradientBoostingClassifier':GradientBoostingClassifier(),\n",
    "          'KNeighborsClassifier':KNeighborsClassifier(),\n",
    "          'XGBClassifier':XGBClassifier(),\n",
    "          'CatBoostClassifier':CatBoostClassifier(verbose=False)}\n",
    "accuracy = {}\n",
    "for name, model in models.items():\n",
    "    # Fit the model\n",
    "    model.fit(x_train, y_train)\n",
    "    # Check accuracy and save\n",
    "    score = '{:.3f}'.format(model.score(x_test, y_test) * 100)\n",
    "    accuracy[name] = float(score)"
   ]
  },
  {
   "cell_type": "code",
   "execution_count": 260,
   "id": "182bf2f0",
   "metadata": {
    "ExecuteTime": {
     "end_time": "2022-06-19T19:08:57.216037Z",
     "start_time": "2022-06-19T19:08:57.188849Z"
    }
   },
   "outputs": [
    {
     "data": {
      "text/plain": [
       "{'LogisticRegression': 57.6,\n",
       " 'RandomForestClassifier': 80.6,\n",
       " 'GradientBoostingClassifier': 70.9,\n",
       " 'KNeighborsClassifier': 81.0,\n",
       " 'XGBClassifier': 77.8,\n",
       " 'CatBoostClassifier': 76.4}"
      ]
     },
     "execution_count": 260,
     "metadata": {},
     "output_type": "execute_result"
    }
   ],
   "source": [
    "accuracy"
   ]
  },
  {
   "cell_type": "markdown",
   "id": "d12a2814",
   "metadata": {},
   "source": [
    "> As per accuracy of all models it is clear that `RandomForestClassifier` model has max score as compare to other."
   ]
  },
  {
   "cell_type": "markdown",
   "id": "7df2d779",
   "metadata": {},
   "source": [
    "#### Hyper Tunning models:"
   ]
  },
  {
   "cell_type": "code",
   "execution_count": 163,
   "id": "77cd8c9e",
   "metadata": {
    "ExecuteTime": {
     "end_time": "2022-06-18T10:10:52.808097Z",
     "start_time": "2022-06-18T10:10:52.797127Z"
    }
   },
   "outputs": [],
   "source": [
    "from sklearn.metrics import confusion_matrix, classification_report\n",
    "from sklearn.metrics import precision_score, recall_score, f1_score, roc_auc_score"
   ]
  },
  {
   "cell_type": "markdown",
   "id": "20171b3a",
   "metadata": {},
   "source": [
    "##### `KNeighborsClassifier`"
   ]
  },
  {
   "cell_type": "code",
   "execution_count": 261,
   "id": "af00ff06",
   "metadata": {
    "ExecuteTime": {
     "end_time": "2022-06-19T19:14:00.586926Z",
     "start_time": "2022-06-19T19:12:54.814074Z"
    },
    "scrolled": false
   },
   "outputs": [
    {
     "data": {
      "text/plain": [
       "{1: 0.755,\n",
       " 2: 0.779,\n",
       " 3: 0.792,\n",
       " 4: 0.804,\n",
       " 5: 0.81,\n",
       " 6: 0.814,\n",
       " 7: 0.815,\n",
       " 8: 0.808,\n",
       " 9: 0.796,\n",
       " 10: 0.8,\n",
       " 11: 0.783,\n",
       " 12: 0.763,\n",
       " 13: 0.731,\n",
       " 14: 0.702,\n",
       " 15: 0.681,\n",
       " 16: 0.668,\n",
       " 17: 0.678,\n",
       " 18: 0.671,\n",
       " 19: 0.674,\n",
       " 20: 0.672,\n",
       " 21: 0.685,\n",
       " 22: 0.675,\n",
       " 23: 0.674,\n",
       " 24: 0.666,\n",
       " 25: 0.668}"
      ]
     },
     "execution_count": 261,
     "metadata": {},
     "output_type": "execute_result"
    }
   ],
   "source": [
    "score = {}\n",
    "for i in range(1, 26):\n",
    "    model = KNeighborsClassifier(n_neighbors=i)\n",
    "    model.fit(x_train, y_train)\n",
    "    score[i] = model.score(x_test, y_test)\n",
    "score"
   ]
  },
  {
   "cell_type": "code",
   "execution_count": 262,
   "id": "5249cd3b",
   "metadata": {
    "ExecuteTime": {
     "end_time": "2022-06-19T19:21:34.532534Z",
     "start_time": "2022-06-19T19:21:34.102615Z"
    }
   },
   "outputs": [
    {
     "data": {
      "image/png": "[encoded data removed]",
      "text/plain": [
       "<Figure size 1080x432 with 1 Axes>"
      ]
     },
     "metadata": {
      "needs_background": "light"
     },
     "output_type": "display_data"
    }
   ],
   "source": [
    "plt.figure(figsize=(15, 6))\n",
    "sns.lineplot(data=pd.DataFrame(score, index=['Score']).T)\n",
    "plt.xticks([i for i in range(1, 26)]);\n",
    "plt.grid();\n",
    "plt.xlabel('Number of Neighbours')\n",
    "plt.ylabel('Model Score');"
   ]
  },
  {
   "cell_type": "code",
   "execution_count": 263,
   "id": "9c8294e7",
   "metadata": {
    "ExecuteTime": {
     "end_time": "2022-06-19T19:21:52.869850Z",
     "start_time": "2022-06-19T19:21:50.502357Z"
    }
   },
   "outputs": [
    {
     "data": {
      "text/plain": [
       "0.815"
      ]
     },
     "execution_count": 263,
     "metadata": {},
     "output_type": "execute_result"
    }
   ],
   "source": [
    "knn_model = KNeighborsClassifier(n_neighbors=7)\n",
    "knn_model.fit(x_train, y_train)\n",
    "knn_model.score(x_test, y_test)"
   ]
  },
  {
   "cell_type": "markdown",
   "id": "493de36d",
   "metadata": {},
   "source": [
    "##### `RandomForestClassifier`"
   ]
  },
  {
   "cell_type": "code",
   "execution_count": 39,
   "id": "e309b5d9",
   "metadata": {
    "ExecuteTime": {
     "end_time": "2022-06-14T14:45:38.556631Z",
     "start_time": "2022-06-14T14:44:56.061878Z"
    }
   },
   "outputs": [
    {
     "data": {
      "text/plain": [
       "0.804"
      ]
     },
     "execution_count": 39,
     "metadata": {},
     "output_type": "execute_result"
    }
   ],
   "source": [
    "rfc_model = RandomForestClassifier(random_state=65)\n",
    "rfc_model.fit(x_train, y_train)\n",
    "rfc_model.score(x_test, y_test)"
   ]
  },
  {
   "cell_type": "code",
   "execution_count": 158,
   "id": "80641da2",
   "metadata": {
    "ExecuteTime": {
     "end_time": "2022-06-13T11:22:35.838899Z",
     "start_time": "2022-06-13T09:12:43.873472Z"
    }
   },
   "outputs": [
    {
     "name": "stdout",
     "output_type": "stream",
     "text": [
      "Fitting 5 folds for each of 20 candidates, totalling 100 fits\n"
     ]
    },
    {
     "data": {
      "text/plain": [
       "RandomizedSearchCV(cv=5, estimator=RandomForestClassifier(), n_iter=20,\n",
       "                   param_distributions={'max_depth': [None, 3, 5, 10],\n",
       "                                        'min_samples_leaf': array([ 1,  3,  5,  7,  9, 11, 13, 15, 17, 19]),\n",
       "                                        'min_samples_split': array([ 2,  4,  6,  8, 10, 12, 14, 16, 18]),\n",
       "                                        'n_estimators': array([ 10,  60, 110, 160, 210, 260, 310, 360, 410, 460, 510, 560, 610,\n",
       "       660, 710, 760, 810, 860, 910, 960])},\n",
       "                   verbose=True)"
      ]
     },
     "execution_count": 158,
     "metadata": {},
     "output_type": "execute_result"
    }
   ],
   "source": [
    "from sklearn.model_selection import RandomizedSearchCV\n",
    "\n",
    "param_dict = {'n_estimators': np.arange(10, 1000, 50),\n",
    "              'max_depth': [None, 3, 5, 10],\n",
    "              'min_samples_split': np.arange(2, 20, 2),\n",
    "              'min_samples_leaf': np.arange(1, 20, 2)}\n",
    "\n",
    "np.random.seed(65)\n",
    "\n",
    "rfc_rc_model = RandomizedSearchCV(RandomForestClassifier(),\n",
    "                                  param_distributions=param_dict,\n",
    "                                  cv=5, \n",
    "                                  n_iter=20,\n",
    "                                  verbose=True)\n",
    "\n",
    "rfc_rc_model.fit(x_train, y_train)"
   ]
  },
  {
   "cell_type": "code",
   "execution_count": 159,
   "id": "b3ac51c7",
   "metadata": {
    "ExecuteTime": {
     "end_time": "2022-06-13T11:55:24.128872Z",
     "start_time": "2022-06-13T11:55:24.116906Z"
    }
   },
   "outputs": [
    {
     "data": {
      "text/plain": [
       "{'n_estimators': 910,\n",
       " 'min_samples_split': 14,\n",
       " 'min_samples_leaf': 1,\n",
       " 'max_depth': None}"
      ]
     },
     "execution_count": 159,
     "metadata": {},
     "output_type": "execute_result"
    }
   ],
   "source": [
    "rfc_rc_model.best_params_"
   ]
  },
  {
   "cell_type": "code",
   "execution_count": 162,
   "id": "904affb6",
   "metadata": {
    "ExecuteTime": {
     "end_time": "2022-06-13T11:55:59.068341Z",
     "start_time": "2022-06-13T11:55:58.560713Z"
    }
   },
   "outputs": [
    {
     "data": {
      "text/plain": [
       "0.792"
      ]
     },
     "execution_count": 162,
     "metadata": {},
     "output_type": "execute_result"
    }
   ],
   "source": [
    "rfc_rc_model.score(x_test, y_test)"
   ]
  },
  {
   "cell_type": "code",
   "execution_count": 29,
   "id": "27289cff",
   "metadata": {
    "ExecuteTime": {
     "end_time": "2022-06-17T17:15:53.150398Z",
     "start_time": "2022-06-17T17:10:53.758284Z"
    }
   },
   "outputs": [
    {
     "data": {
      "text/plain": [
       "0.791"
      ]
     },
     "execution_count": 29,
     "metadata": {},
     "output_type": "execute_result"
    }
   ],
   "source": [
    "rfc_model = RandomForestClassifier(n_estimators=910, min_samples_split=14,\n",
    "                                   min_samples_leaf=1, max_depth=None)\n",
    "rfc_model.fit(x_train, y_train)\n",
    "rfc_model.score(x_test, y_test)"
   ]
  },
  {
   "cell_type": "code",
   "execution_count": 131,
   "id": "6ad9779c",
   "metadata": {
    "ExecuteTime": {
     "end_time": "2022-06-17T18:28:12.522087Z",
     "start_time": "2022-06-17T18:27:36.758055Z"
    }
   },
   "outputs": [
    {
     "data": {
      "text/plain": [
       "0.805"
      ]
     },
     "execution_count": 131,
     "metadata": {},
     "output_type": "execute_result"
    }
   ],
   "source": [
    "rfc_model = RandomForestClassifier()\n",
    "rfc_model.fit(x_train, y_train)\n",
    "rfc_model.score(x_test, y_test)"
   ]
  },
  {
   "cell_type": "code",
   "execution_count": 161,
   "id": "5bda4683",
   "metadata": {
    "ExecuteTime": {
     "end_time": "2022-06-18T10:10:37.090777Z",
     "start_time": "2022-06-18T10:10:36.293929Z"
    }
   },
   "outputs": [
    {
     "data": {
      "text/plain": [
       "Text(0.5, 6.0, 'True Label')"
      ]
     },
     "execution_count": 161,
     "metadata": {},
     "output_type": "execute_result"
    },
    {
     "data": {
      "image/png": "[encoded data removed]",
      "text/plain": [
       "<Figure size 216x216 with 1 Axes>"
      ]
     },
     "metadata": {
      "needs_background": "light"
     },
     "output_type": "display_data"
    }
   ],
   "source": [
    "y_pred = rfc_model.predict(x_test)\n",
    "plt.figure(figsize=(3,3))\n",
    "sns.heatmap(confusion_matrix(y_test, y_pred), annot=True, cbar=False, fmt='.0f')\n",
    "plt.ylabel('Predicted Label')\n",
    "plt.xlabel('True Label')"
   ]
  },
  {
   "cell_type": "code",
   "execution_count": 162,
   "id": "d09121d5",
   "metadata": {
    "ExecuteTime": {
     "end_time": "2022-06-18T10:10:39.539511Z",
     "start_time": "2022-06-18T10:10:39.513582Z"
    }
   },
   "outputs": [
    {
     "name": "stdout",
     "output_type": "stream",
     "text": [
      "              precision    recall  f1-score   support\n",
      "\n",
      "           0       0.77      0.75      0.76       169\n",
      "           1       0.79      0.83      0.81       299\n",
      "           2       0.83      0.81      0.82       532\n",
      "\n",
      "    accuracy                           0.81      1000\n",
      "   macro avg       0.79      0.80      0.80      1000\n",
      "weighted avg       0.81      0.81      0.80      1000\n",
      "\n"
     ]
    }
   ],
   "source": [
    "print(classification_report(y_test, y_pred))"
   ]
  },
  {
   "cell_type": "markdown",
   "id": "bfc6e333",
   "metadata": {},
   "source": [
    "##### `GradientBoostingClassifier`"
   ]
  },
  {
   "cell_type": "code",
   "execution_count": null,
   "id": "f212f7c7",
   "metadata": {
    "ExecuteTime": {
     "start_time": "2022-06-16T13:13:55.709Z"
    }
   },
   "outputs": [
    {
     "name": "stdout",
     "output_type": "stream",
     "text": [
      "Fitting 5 folds for each of 10 candidates, totalling 50 fits\n"
     ]
    }
   ],
   "source": [
    "from sklearn.model_selection import RandomizedSearchCV\n",
    "\n",
    "param_dict = {'n_estimators': np.arange(10, 1000, 50),\n",
    "              'max_depth': [None, 3, 5, 10],\n",
    "              'min_samples_split': np.arange(2, 20, 2),\n",
    "              'min_samples_leaf': np.arange(1, 20, 2)}\n",
    "\n",
    "np.random.seed(65)\n",
    "\n",
    "gbc_rs_model = RandomizedSearchCV(GradientBoostingClassifier(),\n",
    "                                  param_distributions=param_dict,\n",
    "                                  cv=5, \n",
    "                                  n_iter=10,\n",
    "                                  verbose=True)\n",
    "\n",
    "gbc_rs_model.fit(x_train, y_train)"
   ]
  },
  {
   "cell_type": "code",
   "execution_count": null,
   "id": "4b73c0df",
   "metadata": {
    "ExecuteTime": {
     "start_time": "2022-06-16T13:13:57.681Z"
    }
   },
   "outputs": [],
   "source": [
    "gbc_rs_model.best_params_"
   ]
  },
  {
   "cell_type": "code",
   "execution_count": null,
   "id": "57d6f8a3",
   "metadata": {
    "ExecuteTime": {
     "start_time": "2022-06-16T13:13:58.706Z"
    }
   },
   "outputs": [],
   "source": [
    "gbc_rs_model.score(x_test, y_test)"
   ]
  },
  {
   "cell_type": "markdown",
   "id": "49304c29",
   "metadata": {},
   "source": [
    "##### `XGBClassifier`"
   ]
  },
  {
   "cell_type": "code",
   "execution_count": 156,
   "id": "29fc4545",
   "metadata": {
    "ExecuteTime": {
     "end_time": "2022-06-18T08:14:27.899652Z",
     "start_time": "2022-06-18T04:35:59.754049Z"
    }
   },
   "outputs": [
    {
     "name": "stdout",
     "output_type": "stream",
     "text": [
      "Fitting 5 folds for each of 10 candidates, totalling 50 fits\n"
     ]
    },
    {
     "name": "stderr",
     "output_type": "stream",
     "text": [
      "0it [2:39:00, ?it/s]\n",
      "0it [00:00, ?it/s]"
     ]
    },
    {
     "data": {
      "text/plain": [
       "<tqdm.std.tqdm at 0x156c56c51c0>"
      ]
     },
     "execution_count": 156,
     "metadata": {},
     "output_type": "execute_result"
    }
   ],
   "source": [
    "from sklearn.model_selection import RandomizedSearchCV\n",
    "from tqdm import tqdm\n",
    "\n",
    "param_dict = {'n_estimators': np.arange(100, 1050, 100),\n",
    "              'max_depth': np.arange(2, 18, 1),\n",
    "              'learning_rate': [0.1, 0.01],\n",
    "              'gamma':np.arange(1, 9),\n",
    "              'reg_alpha': np.arange(40, 180, 1),\n",
    "              'reg_lambda': [0,1],\n",
    "              'colsample_bytree':[0.5,1],\n",
    "              'min_child_weight':np.arange(0, 10, 1)}\n",
    "\n",
    "np.random.seed(65)\n",
    "\n",
    "xgb_rs_model = RandomizedSearchCV(XGBClassifier(),\n",
    "                                  param_distributions=param_dict,\n",
    "                                  cv=5, \n",
    "                                  n_iter=10,\n",
    "                                  verbose=True)\n",
    "\n",
    "tqdm(xgb_rs_model.fit(x_train, y_train))"
   ]
  },
  {
   "cell_type": "code",
   "execution_count": 157,
   "id": "c600576a",
   "metadata": {
    "ExecuteTime": {
     "end_time": "2022-06-18T08:14:29.886476Z",
     "start_time": "2022-06-18T08:14:29.870586Z"
    }
   },
   "outputs": [
    {
     "data": {
      "text/plain": [
       "{'reg_lambda': 1,\n",
       " 'reg_alpha': 78,\n",
       " 'n_estimators': 400,\n",
       " 'min_child_weight': 0,\n",
       " 'max_depth': 16,\n",
       " 'learning_rate': 0.1,\n",
       " 'gamma': 2,\n",
       " 'colsample_bytree': 1}"
      ]
     },
     "execution_count": 157,
     "metadata": {},
     "output_type": "execute_result"
    }
   ],
   "source": [
    "xgb_rs_model.best_params_\n",
    "# 'learning_rate': 0.1, 'max_depth': 10, 'n_estimators': 400"
   ]
  },
  {
   "cell_type": "code",
   "execution_count": 158,
   "id": "571c89e6",
   "metadata": {
    "ExecuteTime": {
     "end_time": "2022-06-18T08:14:31.887016Z",
     "start_time": "2022-06-18T08:14:31.855378Z"
    }
   },
   "outputs": [
    {
     "data": {
      "text/plain": [
       "0.718"
      ]
     },
     "execution_count": 158,
     "metadata": {},
     "output_type": "execute_result"
    }
   ],
   "source": [
    "xgb_rs_model.score(x_test, y_test)"
   ]
  },
  {
   "cell_type": "code",
   "execution_count": 159,
   "id": "42aa422a",
   "metadata": {
    "ExecuteTime": {
     "end_time": "2022-06-18T10:08:35.305557Z",
     "start_time": "2022-06-18T10:01:33.087820Z"
    }
   },
   "outputs": [
    {
     "data": {
      "text/plain": [
       "0.718"
      ]
     },
     "execution_count": 159,
     "metadata": {},
     "output_type": "execute_result"
    }
   ],
   "source": [
    "temp_xgb = XGBClassifier(reg_lambda=1, reg_alpha=78, n_estimators=400, min_child_weight=0, max_depth=16, \n",
    "                         learning_rate=0.1, gamma=2, colsample_bytree=1)\n",
    "temp_xgb.fit(x_train, y_train)\n",
    "temp_xgb.score(x_test, y_test)"
   ]
  },
  {
   "cell_type": "code",
   "execution_count": 160,
   "id": "0d688b12",
   "metadata": {
    "ExecuteTime": {
     "end_time": "2022-06-18T10:08:38.624348Z",
     "start_time": "2022-06-18T10:08:38.444166Z"
    }
   },
   "outputs": [
    {
     "data": {
      "image/png": "[encoded data removed]",
      "text/plain": [
       "<Figure size 216x216 with 1 Axes>"
      ]
     },
     "metadata": {
      "needs_background": "light"
     },
     "output_type": "display_data"
    },
    {
     "name": "stdout",
     "output_type": "stream",
     "text": [
      "              precision    recall  f1-score   support\n",
      "\n",
      "           0       0.61      0.69      0.65       169\n",
      "           1       0.73      0.65      0.69       299\n",
      "           2       0.75      0.77      0.76       532\n",
      "\n",
      "    accuracy                           0.72      1000\n",
      "   macro avg       0.70      0.70      0.70      1000\n",
      "weighted avg       0.72      0.72      0.72      1000\n",
      "\n"
     ]
    }
   ],
   "source": [
    "y_pred = temp_xgb.predict(x_test)\n",
    "plt.figure(figsize=(3,3))\n",
    "sns.heatmap(confusion_matrix(y_test, y_pred), annot=True, cbar=False, fmt='.0f')\n",
    "plt.ylabel('Predicted Label')\n",
    "plt.xlabel('True Label')\n",
    "plt.show()\n",
    "print(classification_report(y_test, y_pred))"
   ]
  },
  {
   "cell_type": "code",
   "execution_count": 264,
   "id": "dc111fbe",
   "metadata": {
    "ExecuteTime": {
     "end_time": "2022-06-19T19:28:19.620685Z",
     "start_time": "2022-06-19T19:22:54.273673Z"
    }
   },
   "outputs": [
    {
     "data": {
      "text/plain": [
       "0.821"
      ]
     },
     "execution_count": 264,
     "metadata": {},
     "output_type": "execute_result"
    }
   ],
   "source": [
    "xgb_model = XGBClassifier(learning_rate=0.1, max_depth=10, n_estimators=400)\n",
    "xgb_model.fit(x_train, y_train)\n",
    "xgb_model.score(x_test, y_test)"
   ]
  },
  {
   "cell_type": "code",
   "execution_count": 265,
   "id": "c9e09a28",
   "metadata": {
    "ExecuteTime": {
     "end_time": "2022-06-19T19:57:18.872194Z",
     "start_time": "2022-06-19T19:57:18.642809Z"
    }
   },
   "outputs": [
    {
     "data": {
      "text/plain": [
       "Text(0.5, 6.0, 'True Label')"
      ]
     },
     "execution_count": 265,
     "metadata": {},
     "output_type": "execute_result"
    },
    {
     "data": {
      "image/png": "[encoded data removed]",
      "text/plain": [
       "<Figure size 216x216 with 1 Axes>"
      ]
     },
     "metadata": {
      "needs_background": "light"
     },
     "output_type": "display_data"
    }
   ],
   "source": [
    "y_pred = xgb_model.predict(x_test)\n",
    "plt.figure(figsize=(3,3))\n",
    "sns.heatmap(confusion_matrix(y_test, y_pred), annot=True, cbar=False, fmt='.0f')\n",
    "plt.ylabel('Predicted Label')\n",
    "plt.xlabel('True Label')"
   ]
  },
  {
   "cell_type": "code",
   "execution_count": 266,
   "id": "6394d1c1",
   "metadata": {
    "ExecuteTime": {
     "end_time": "2022-06-19T19:57:23.071624Z",
     "start_time": "2022-06-19T19:57:23.038674Z"
    }
   },
   "outputs": [
    {
     "name": "stdout",
     "output_type": "stream",
     "text": [
      "              precision    recall  f1-score   support\n",
      "\n",
      "           0       0.78      0.82      0.80       169\n",
      "           1       0.81      0.82      0.81       299\n",
      "           2       0.84      0.82      0.83       532\n",
      "\n",
      "    accuracy                           0.82      1000\n",
      "   macro avg       0.81      0.82      0.82      1000\n",
      "weighted avg       0.82      0.82      0.82      1000\n",
      "\n"
     ]
    }
   ],
   "source": [
    "print(classification_report(y_test, y_pred))"
   ]
  },
  {
   "cell_type": "markdown",
   "id": "14b4753a",
   "metadata": {},
   "source": [
    "#### Preparation for test data..."
   ]
  },
  {
   "cell_type": "code",
   "execution_count": 118,
   "id": "efb692dd",
   "metadata": {
    "ExecuteTime": {
     "end_time": "2022-06-17T18:03:23.776346Z",
     "start_time": "2022-06-17T18:03:23.108660Z"
    }
   },
   "outputs": [
    {
     "name": "stdout",
     "output_type": "stream",
     "text": [
      "<class 'pandas.core.frame.DataFrame'>\n",
      "RangeIndex: 50000 entries, 0 to 49999\n",
      "Data columns (total 27 columns):\n",
      " #   Column                    Non-Null Count  Dtype  \n",
      "---  ------                    --------------  -----  \n",
      " 0   ID                        50000 non-null  object \n",
      " 1   Customer_ID               50000 non-null  object \n",
      " 2   Month                     50000 non-null  object \n",
      " 3   Name                      44985 non-null  object \n",
      " 4   Age                       50000 non-null  object \n",
      " 5   SSN                       50000 non-null  object \n",
      " 6   Occupation                50000 non-null  object \n",
      " 7   Annual_Income             50000 non-null  object \n",
      " 8   Monthly_Inhand_Salary     42502 non-null  float64\n",
      " 9   Num_Bank_Accounts         50000 non-null  int64  \n",
      " 10  Num_Credit_Card           50000 non-null  int64  \n",
      " 11  Interest_Rate             50000 non-null  int64  \n",
      " 12  Num_of_Loan               50000 non-null  object \n",
      " 13  Type_of_Loan              44296 non-null  object \n",
      " 14  Delay_from_due_date       50000 non-null  int64  \n",
      " 15  Num_of_Delayed_Payment    46502 non-null  object \n",
      " 16  Changed_Credit_Limit      50000 non-null  object \n",
      " 17  Num_Credit_Inquiries      48965 non-null  float64\n",
      " 18  Credit_Mix                50000 non-null  object \n",
      " 19  Outstanding_Debt          50000 non-null  object \n",
      " 20  Credit_Utilization_Ratio  50000 non-null  float64\n",
      " 21  Credit_History_Age        45530 non-null  object \n",
      " 22  Payment_of_Min_Amount     50000 non-null  object \n",
      " 23  Total_EMI_per_month       50000 non-null  float64\n",
      " 24  Amount_invested_monthly   47729 non-null  object \n",
      " 25  Payment_Behaviour         50000 non-null  object \n",
      " 26  Monthly_Balance           49438 non-null  object \n",
      "dtypes: float64(4), int64(4), object(19)\n",
      "memory usage: 10.3+ MB\n"
     ]
    }
   ],
   "source": [
    "df_test = pd.read_csv('test.csv')\n",
    "df_test.info()"
   ]
  },
  {
   "cell_type": "code",
   "execution_count": 119,
   "id": "dfdc6228",
   "metadata": {
    "ExecuteTime": {
     "end_time": "2022-06-17T18:03:26.432356Z",
     "start_time": "2022-06-17T18:03:26.156669Z"
    }
   },
   "outputs": [
    {
     "data": {
      "text/plain": [
       "ID                             0\n",
       "Customer_ID                    0\n",
       "Month                          0\n",
       "Name                        5015\n",
       "Age                            0\n",
       "SSN                            0\n",
       "Occupation                     0\n",
       "Annual_Income                  0\n",
       "Monthly_Inhand_Salary       7498\n",
       "Num_Bank_Accounts              0\n",
       "Num_Credit_Card                0\n",
       "Interest_Rate                  0\n",
       "Num_of_Loan                    0\n",
       "Type_of_Loan                5704\n",
       "Delay_from_due_date            0\n",
       "Num_of_Delayed_Payment      3498\n",
       "Changed_Credit_Limit           0\n",
       "Num_Credit_Inquiries        1035\n",
       "Credit_Mix                     0\n",
       "Outstanding_Debt               0\n",
       "Credit_Utilization_Ratio       0\n",
       "Credit_History_Age          4470\n",
       "Payment_of_Min_Amount          0\n",
       "Total_EMI_per_month            0\n",
       "Amount_invested_monthly     2271\n",
       "Payment_Behaviour              0\n",
       "Monthly_Balance              562\n",
       "dtype: int64"
      ]
     },
     "execution_count": 119,
     "metadata": {},
     "output_type": "execute_result"
    }
   ],
   "source": [
    "df_test.isna().sum()"
   ]
  },
  {
   "cell_type": "code",
   "execution_count": 120,
   "id": "bdcbb707",
   "metadata": {
    "ExecuteTime": {
     "end_time": "2022-06-17T18:03:31.273302Z",
     "start_time": "2022-06-17T18:03:28.910363Z"
    }
   },
   "outputs": [],
   "source": [
    "df_test['Annual_Income'] = [re.search(r'\\d+.\\d+', x)[0] for x in df_test['Annual_Income']]\n",
    "df_test['Annual_Income'] = df_test['Annual_Income'].astype('float64')\n",
    "\n",
    "# fill null value by 'ffill' method (it is fill by last valid observation forward to next valid)\n",
    "df_test['Monthly_Inhand_Salary'].fillna(method='ffill', inplace=True)\n",
    "\n",
    "df_test['Num_of_Loan'] = [int(re.search(r'-\\d*|\\d*', x)[0]) for x in df_test['Num_of_Loan']]\n",
    "\n",
    "# If someone no take loan then 'Num of loan' will be '0' or less than '0' so I fill `Type of Loan` as a \"NO_LOAN\"\n",
    "for index in df_test[(df_test['Num_of_Loan']<=0)&(df_test['Type_of_Loan'].isna())]['Type_of_Loan'].index:\n",
    "    df_test.loc[index, 'Type_of_Loan'] = 'No_Loan'\n",
    "# Then fill other null value in `Type of Loan` by 'Not Specified'\n",
    "df_test['Type_of_Loan'].fillna(value='Not Specified', inplace=True)\n",
    "\n",
    "df_test['Num_of_Delayed_Payment'] = [int(re.search(r'-\\d*|\\d*', str(x))[0]) if str(x)!='nan' \n",
    "                                      else np.nan for x in df_test['Num_of_Delayed_Payment']]\n",
    "# if some one dot delayed their payment so according `Delay from due date` is 0 or negative day\n",
    "# therefore fill this column by '0'.\n",
    "for index in df_test[(df_test['Delay_from_due_date']<=0)&\n",
    "                      (df_test['Num_of_Delayed_Payment'].isna())]['Num_of_Delayed_Payment'].index:\n",
    "    df_test.loc[index, 'Num_of_Delayed_Payment'] = 0\n",
    "# rest of the value fill by median value\n",
    "df_test['Num_of_Delayed_Payment'].fillna(value=df_test['Num_of_Delayed_Payment'].median(), inplace=True)\n",
    "\n",
    "df_test['Changed_Credit_Limit'].replace('_', np.nan, inplace=True)\n",
    "df_test['Changed_Credit_Limit'] = df_test['Changed_Credit_Limit'].astype(float)\n",
    "# fill null value in this column by mean value\n",
    "df_test['Changed_Credit_Limit'].fillna(value=df_test['Changed_Credit_Limit'].median(), inplace=True)\n",
    "\n",
    "# Fill this column by median value\n",
    "df_test['Num_Credit_Inquiries'].fillna(value=df_test['Num_Credit_Inquiries'].median(), inplace=True)\n",
    "\n",
    "df_test['Outstanding_Debt'] = [float(re.search(r'\\d*.\\d*', str(x))[0]) for x in df_test['Outstanding_Debt']]\n",
    "\n",
    "df_test['Credit_History_Age'] = [(int(re.findall(r'[0-9]+', str(x))[0])*12)+int(re.findall(r'[0-9]+', str(x))[1]) \n",
    "                                  if str(x)!='nan' else np.nan for x in df_test['Credit_History_Age']]\n",
    "# Fill null value by mean\n",
    "df_test['Credit_History_Age'].fillna(value=df_test['Credit_History_Age'].median(), inplace=True)\n",
    "\n",
    "df_test['Amount_invested_monthly'].replace(to_replace='_',value=np.nan, inplace=True)\n",
    "df_test['Amount_invested_monthly'] = [float(re.search(r'[0-9]+.[0-9]+',str(x))[0]) if str(x)!='nan' \n",
    "                                       else np.nan for x in df_test['Amount_invested_monthly']]\n",
    "# Fill null value by median\n",
    "df_test['Amount_invested_monthly'].fillna(value=df_test['Amount_invested_monthly'].median(), inplace=True)\n",
    "\n",
    "df_test['Monthly_Balance'] = [float(re.search(r'[0-9]+.[0-9]+',str(x))[0]) if str(x)!='nan' \n",
    "                               else np.nan for x in df_test['Monthly_Balance']]\n",
    "# Fill null value by median value\n",
    "df_test['Monthly_Balance'].fillna(value=df_test['Monthly_Balance'].median(), inplace=True)"
   ]
  },
  {
   "cell_type": "code",
   "execution_count": 121,
   "id": "72097482",
   "metadata": {
    "ExecuteTime": {
     "end_time": "2022-06-17T18:03:35.087136Z",
     "start_time": "2022-06-17T18:03:34.651302Z"
    }
   },
   "outputs": [
    {
     "data": {
      "text/html": [
       "<div>\n",
       "<style scoped>\n",
       "    .dataframe tbody tr th:only-of-type {\n",
       "        vertical-align: middle;\n",
       "    }\n",
       "\n",
       "    .dataframe tbody tr th {\n",
       "        vertical-align: top;\n",
       "    }\n",
       "\n",
       "    .dataframe thead th {\n",
       "        text-align: right;\n",
       "    }\n",
       "</style>\n",
       "<table border=\"1\" class=\"dataframe\">\n",
       "  <thead>\n",
       "    <tr style=\"text-align: right;\">\n",
       "      <th></th>\n",
       "      <th>Customer_ID</th>\n",
       "      <th>Month</th>\n",
       "      <th>Age</th>\n",
       "      <th>Occupation</th>\n",
       "      <th>Annual_Income</th>\n",
       "      <th>Monthly_Inhand_Salary</th>\n",
       "      <th>Num_Bank_Accounts</th>\n",
       "      <th>Num_Credit_Card</th>\n",
       "      <th>Interest_Rate</th>\n",
       "      <th>Num_of_Loan</th>\n",
       "      <th>...</th>\n",
       "      <th>Num_Credit_Inquiries</th>\n",
       "      <th>Credit_Mix</th>\n",
       "      <th>Outstanding_Debt</th>\n",
       "      <th>Credit_Utilization_Ratio</th>\n",
       "      <th>Credit_History_Age</th>\n",
       "      <th>Payment_of_Min_Amount</th>\n",
       "      <th>Total_EMI_per_month</th>\n",
       "      <th>Amount_invested_monthly</th>\n",
       "      <th>Payment_Behaviour</th>\n",
       "      <th>Monthly_Balance</th>\n",
       "    </tr>\n",
       "  </thead>\n",
       "  <tbody>\n",
       "    <tr>\n",
       "      <th>0</th>\n",
       "      <td>12320</td>\n",
       "      <td>3</td>\n",
       "      <td>156</td>\n",
       "      <td>12</td>\n",
       "      <td>19114.12</td>\n",
       "      <td>1824.843333</td>\n",
       "      <td>3</td>\n",
       "      <td>4</td>\n",
       "      <td>3</td>\n",
       "      <td>4</td>\n",
       "      <td>...</td>\n",
       "      <td>2022.0</td>\n",
       "      <td>1</td>\n",
       "      <td>809.98</td>\n",
       "      <td>35.030402</td>\n",
       "      <td>273.0</td>\n",
       "      <td>1</td>\n",
       "      <td>49.574949</td>\n",
       "      <td>236.642682</td>\n",
       "      <td>6</td>\n",
       "      <td>186.266702</td>\n",
       "    </tr>\n",
       "    <tr>\n",
       "      <th>1</th>\n",
       "      <td>12320</td>\n",
       "      <td>2</td>\n",
       "      <td>171</td>\n",
       "      <td>12</td>\n",
       "      <td>19114.12</td>\n",
       "      <td>1824.843333</td>\n",
       "      <td>3</td>\n",
       "      <td>4</td>\n",
       "      <td>3</td>\n",
       "      <td>4</td>\n",
       "      <td>...</td>\n",
       "      <td>4.0</td>\n",
       "      <td>1</td>\n",
       "      <td>809.98</td>\n",
       "      <td>33.053114</td>\n",
       "      <td>274.0</td>\n",
       "      <td>1</td>\n",
       "      <td>49.574949</td>\n",
       "      <td>21.465380</td>\n",
       "      <td>2</td>\n",
       "      <td>361.444004</td>\n",
       "    </tr>\n",
       "    <tr>\n",
       "      <th>2</th>\n",
       "      <td>12320</td>\n",
       "      <td>1</td>\n",
       "      <td>171</td>\n",
       "      <td>12</td>\n",
       "      <td>19114.12</td>\n",
       "      <td>1824.843333</td>\n",
       "      <td>3</td>\n",
       "      <td>4</td>\n",
       "      <td>3</td>\n",
       "      <td>4</td>\n",
       "      <td>...</td>\n",
       "      <td>4.0</td>\n",
       "      <td>1</td>\n",
       "      <td>809.98</td>\n",
       "      <td>33.811894</td>\n",
       "      <td>225.0</td>\n",
       "      <td>1</td>\n",
       "      <td>49.574949</td>\n",
       "      <td>148.233938</td>\n",
       "      <td>5</td>\n",
       "      <td>264.675446</td>\n",
       "    </tr>\n",
       "    <tr>\n",
       "      <th>3</th>\n",
       "      <td>12320</td>\n",
       "      <td>0</td>\n",
       "      <td>183</td>\n",
       "      <td>12</td>\n",
       "      <td>19114.12</td>\n",
       "      <td>1824.843333</td>\n",
       "      <td>3</td>\n",
       "      <td>4</td>\n",
       "      <td>3</td>\n",
       "      <td>4</td>\n",
       "      <td>...</td>\n",
       "      <td>4.0</td>\n",
       "      <td>1</td>\n",
       "      <td>809.98</td>\n",
       "      <td>32.430559</td>\n",
       "      <td>276.0</td>\n",
       "      <td>1</td>\n",
       "      <td>49.574949</td>\n",
       "      <td>39.082511</td>\n",
       "      <td>2</td>\n",
       "      <td>343.826873</td>\n",
       "    </tr>\n",
       "    <tr>\n",
       "      <th>4</th>\n",
       "      <td>1066</td>\n",
       "      <td>3</td>\n",
       "      <td>225</td>\n",
       "      <td>15</td>\n",
       "      <td>34847.84</td>\n",
       "      <td>3037.986667</td>\n",
       "      <td>2</td>\n",
       "      <td>4</td>\n",
       "      <td>6</td>\n",
       "      <td>1</td>\n",
       "      <td>...</td>\n",
       "      <td>5.0</td>\n",
       "      <td>1</td>\n",
       "      <td>605.03</td>\n",
       "      <td>25.926822</td>\n",
       "      <td>327.0</td>\n",
       "      <td>1</td>\n",
       "      <td>18.816215</td>\n",
       "      <td>39.684018</td>\n",
       "      <td>1</td>\n",
       "      <td>485.298434</td>\n",
       "    </tr>\n",
       "    <tr>\n",
       "      <th>...</th>\n",
       "      <td>...</td>\n",
       "      <td>...</td>\n",
       "      <td>...</td>\n",
       "      <td>...</td>\n",
       "      <td>...</td>\n",
       "      <td>...</td>\n",
       "      <td>...</td>\n",
       "      <td>...</td>\n",
       "      <td>...</td>\n",
       "      <td>...</td>\n",
       "      <td>...</td>\n",
       "      <td>...</td>\n",
       "      <td>...</td>\n",
       "      <td>...</td>\n",
       "      <td>...</td>\n",
       "      <td>...</td>\n",
       "      <td>...</td>\n",
       "      <td>...</td>\n",
       "      <td>...</td>\n",
       "      <td>...</td>\n",
       "      <td>...</td>\n",
       "    </tr>\n",
       "    <tr>\n",
       "      <th>49995</th>\n",
       "      <td>7857</td>\n",
       "      <td>0</td>\n",
       "      <td>523</td>\n",
       "      <td>1</td>\n",
       "      <td>20002.88</td>\n",
       "      <td>1929.906667</td>\n",
       "      <td>10</td>\n",
       "      <td>8</td>\n",
       "      <td>29</td>\n",
       "      <td>5</td>\n",
       "      <td>...</td>\n",
       "      <td>12.0</td>\n",
       "      <td>3</td>\n",
       "      <td>3571.70</td>\n",
       "      <td>34.780553</td>\n",
       "      <td>225.0</td>\n",
       "      <td>2</td>\n",
       "      <td>60.964772</td>\n",
       "      <td>146.486325</td>\n",
       "      <td>6</td>\n",
       "      <td>275.539570</td>\n",
       "    </tr>\n",
       "    <tr>\n",
       "      <th>49996</th>\n",
       "      <td>8833</td>\n",
       "      <td>3</td>\n",
       "      <td>184</td>\n",
       "      <td>9</td>\n",
       "      <td>39628.99</td>\n",
       "      <td>1929.906667</td>\n",
       "      <td>4</td>\n",
       "      <td>6</td>\n",
       "      <td>7</td>\n",
       "      <td>2</td>\n",
       "      <td>...</td>\n",
       "      <td>7.0</td>\n",
       "      <td>1</td>\n",
       "      <td>502.38</td>\n",
       "      <td>27.758522</td>\n",
       "      <td>383.0</td>\n",
       "      <td>0</td>\n",
       "      <td>35.104023</td>\n",
       "      <td>181.442999</td>\n",
       "      <td>6</td>\n",
       "      <td>409.394562</td>\n",
       "    </tr>\n",
       "    <tr>\n",
       "      <th>49997</th>\n",
       "      <td>8833</td>\n",
       "      <td>2</td>\n",
       "      <td>184</td>\n",
       "      <td>9</td>\n",
       "      <td>39628.99</td>\n",
       "      <td>3359.415833</td>\n",
       "      <td>4</td>\n",
       "      <td>6</td>\n",
       "      <td>7</td>\n",
       "      <td>2</td>\n",
       "      <td>...</td>\n",
       "      <td>7.0</td>\n",
       "      <td>1</td>\n",
       "      <td>502.38</td>\n",
       "      <td>36.858542</td>\n",
       "      <td>384.0</td>\n",
       "      <td>1</td>\n",
       "      <td>35.104023</td>\n",
       "      <td>10000.000000</td>\n",
       "      <td>4</td>\n",
       "      <td>349.726332</td>\n",
       "    </tr>\n",
       "    <tr>\n",
       "      <th>49998</th>\n",
       "      <td>8833</td>\n",
       "      <td>1</td>\n",
       "      <td>184</td>\n",
       "      <td>9</td>\n",
       "      <td>39628.99</td>\n",
       "      <td>3359.415833</td>\n",
       "      <td>4</td>\n",
       "      <td>6</td>\n",
       "      <td>7</td>\n",
       "      <td>2</td>\n",
       "      <td>...</td>\n",
       "      <td>7.0</td>\n",
       "      <td>1</td>\n",
       "      <td>502.38</td>\n",
       "      <td>39.139840</td>\n",
       "      <td>385.0</td>\n",
       "      <td>1</td>\n",
       "      <td>35.104023</td>\n",
       "      <td>97.598580</td>\n",
       "      <td>3</td>\n",
       "      <td>463.238981</td>\n",
       "    </tr>\n",
       "    <tr>\n",
       "      <th>49999</th>\n",
       "      <td>8833</td>\n",
       "      <td>0</td>\n",
       "      <td>184</td>\n",
       "      <td>9</td>\n",
       "      <td>39628.99</td>\n",
       "      <td>3359.415833</td>\n",
       "      <td>4</td>\n",
       "      <td>6</td>\n",
       "      <td>7</td>\n",
       "      <td>2</td>\n",
       "      <td>...</td>\n",
       "      <td>7.0</td>\n",
       "      <td>3</td>\n",
       "      <td>502.38</td>\n",
       "      <td>34.108530</td>\n",
       "      <td>386.0</td>\n",
       "      <td>1</td>\n",
       "      <td>35.104023</td>\n",
       "      <td>220.457878</td>\n",
       "      <td>5</td>\n",
       "      <td>360.379683</td>\n",
       "    </tr>\n",
       "  </tbody>\n",
       "</table>\n",
       "<p>50000 rows × 24 columns</p>\n",
       "</div>"
      ],
      "text/plain": [
       "       Customer_ID  Month  Age  Occupation  Annual_Income  \\\n",
       "0            12320      3  156          12       19114.12   \n",
       "1            12320      2  171          12       19114.12   \n",
       "2            12320      1  171          12       19114.12   \n",
       "3            12320      0  183          12       19114.12   \n",
       "4             1066      3  225          15       34847.84   \n",
       "...            ...    ...  ...         ...            ...   \n",
       "49995         7857      0  523           1       20002.88   \n",
       "49996         8833      3  184           9       39628.99   \n",
       "49997         8833      2  184           9       39628.99   \n",
       "49998         8833      1  184           9       39628.99   \n",
       "49999         8833      0  184           9       39628.99   \n",
       "\n",
       "       Monthly_Inhand_Salary  Num_Bank_Accounts  Num_Credit_Card  \\\n",
       "0                1824.843333                  3                4   \n",
       "1                1824.843333                  3                4   \n",
       "2                1824.843333                  3                4   \n",
       "3                1824.843333                  3                4   \n",
       "4                3037.986667                  2                4   \n",
       "...                      ...                ...              ...   \n",
       "49995            1929.906667                 10                8   \n",
       "49996            1929.906667                  4                6   \n",
       "49997            3359.415833                  4                6   \n",
       "49998            3359.415833                  4                6   \n",
       "49999            3359.415833                  4                6   \n",
       "\n",
       "       Interest_Rate  Num_of_Loan  ...  Num_Credit_Inquiries  Credit_Mix  \\\n",
       "0                  3            4  ...                2022.0           1   \n",
       "1                  3            4  ...                   4.0           1   \n",
       "2                  3            4  ...                   4.0           1   \n",
       "3                  3            4  ...                   4.0           1   \n",
       "4                  6            1  ...                   5.0           1   \n",
       "...              ...          ...  ...                   ...         ...   \n",
       "49995             29            5  ...                  12.0           3   \n",
       "49996              7            2  ...                   7.0           1   \n",
       "49997              7            2  ...                   7.0           1   \n",
       "49998              7            2  ...                   7.0           1   \n",
       "49999              7            2  ...                   7.0           3   \n",
       "\n",
       "       Outstanding_Debt  Credit_Utilization_Ratio  Credit_History_Age  \\\n",
       "0                809.98                 35.030402               273.0   \n",
       "1                809.98                 33.053114               274.0   \n",
       "2                809.98                 33.811894               225.0   \n",
       "3                809.98                 32.430559               276.0   \n",
       "4                605.03                 25.926822               327.0   \n",
       "...                 ...                       ...                 ...   \n",
       "49995           3571.70                 34.780553               225.0   \n",
       "49996            502.38                 27.758522               383.0   \n",
       "49997            502.38                 36.858542               384.0   \n",
       "49998            502.38                 39.139840               385.0   \n",
       "49999            502.38                 34.108530               386.0   \n",
       "\n",
       "       Payment_of_Min_Amount  Total_EMI_per_month  Amount_invested_monthly  \\\n",
       "0                          1            49.574949               236.642682   \n",
       "1                          1            49.574949                21.465380   \n",
       "2                          1            49.574949               148.233938   \n",
       "3                          1            49.574949                39.082511   \n",
       "4                          1            18.816215                39.684018   \n",
       "...                      ...                  ...                      ...   \n",
       "49995                      2            60.964772               146.486325   \n",
       "49996                      0            35.104023               181.442999   \n",
       "49997                      1            35.104023             10000.000000   \n",
       "49998                      1            35.104023                97.598580   \n",
       "49999                      1            35.104023               220.457878   \n",
       "\n",
       "       Payment_Behaviour  Monthly_Balance  \n",
       "0                      6       186.266702  \n",
       "1                      2       361.444004  \n",
       "2                      5       264.675446  \n",
       "3                      2       343.826873  \n",
       "4                      1       485.298434  \n",
       "...                  ...              ...  \n",
       "49995                  6       275.539570  \n",
       "49996                  6       409.394562  \n",
       "49997                  4       349.726332  \n",
       "49998                  3       463.238981  \n",
       "49999                  5       360.379683  \n",
       "\n",
       "[50000 rows x 24 columns]"
      ]
     },
     "execution_count": 121,
     "metadata": {},
     "output_type": "execute_result"
    }
   ],
   "source": [
    "df_test_ = df_test.copy()\n",
    "\n",
    "df_test_.drop(columns=['ID', 'Name', 'SSN'], inplace=True)\n",
    "\n",
    "df_test_ = trasfer_into_Labelencoder(labeled_dict, df_test_)\n",
    "\n",
    "df_test_"
   ]
  },
  {
   "cell_type": "code",
   "execution_count": 137,
   "id": "c91304d3",
   "metadata": {
    "ExecuteTime": {
     "end_time": "2022-06-17T18:36:34.535434Z",
     "start_time": "2022-06-17T18:36:32.894156Z"
    }
   },
   "outputs": [
    {
     "name": "stderr",
     "output_type": "stream",
     "text": [
      "C:\\Users\\home_\\AppData\\Local\\Temp/ipykernel_1480/2364621126.py:3: SettingWithCopyWarning: \n",
      "A value is trying to be set on a copy of a slice from a DataFrame.\n",
      "Try using .loc[row_indexer,col_indexer] = value instead\n",
      "\n",
      "See the caveats in the documentation: https://pandas.pydata.org/pandas-docs/stable/user_guide/indexing.html#returning-a-view-versus-a-copy\n",
      "  submission_['Credit_Score'] = labeled_dict['Credit_Score'].inverse_transform(y_pred_)\n"
     ]
    }
   ],
   "source": [
    "y_pred_ = rfc_model.predict(df_test_)\n",
    "submission_ = df_test[['ID']]\n",
    "submission_['Credit_Score'] = labeled_dict['Credit_Score'].inverse_transform(y_pred_)\n",
    "submission_.to_csv('Submission.csv', index=False)"
   ]
  },
  {
   "cell_type": "code",
   "execution_count": 138,
   "id": "7abc5ec2",
   "metadata": {
    "ExecuteTime": {
     "end_time": "2022-06-17T18:36:36.815854Z",
     "start_time": "2022-06-17T18:36:36.803885Z"
    }
   },
   "outputs": [
    {
     "data": {
      "text/html": [
       "<div>\n",
       "<style scoped>\n",
       "    .dataframe tbody tr th:only-of-type {\n",
       "        vertical-align: middle;\n",
       "    }\n",
       "\n",
       "    .dataframe tbody tr th {\n",
       "        vertical-align: top;\n",
       "    }\n",
       "\n",
       "    .dataframe thead th {\n",
       "        text-align: right;\n",
       "    }\n",
       "</style>\n",
       "<table border=\"1\" class=\"dataframe\">\n",
       "  <thead>\n",
       "    <tr style=\"text-align: right;\">\n",
       "      <th></th>\n",
       "      <th>ID</th>\n",
       "      <th>Credit_Score</th>\n",
       "    </tr>\n",
       "  </thead>\n",
       "  <tbody>\n",
       "    <tr>\n",
       "      <th>0</th>\n",
       "      <td>0x160a</td>\n",
       "      <td>Good</td>\n",
       "    </tr>\n",
       "    <tr>\n",
       "      <th>1</th>\n",
       "      <td>0x160b</td>\n",
       "      <td>Good</td>\n",
       "    </tr>\n",
       "    <tr>\n",
       "      <th>2</th>\n",
       "      <td>0x160c</td>\n",
       "      <td>Good</td>\n",
       "    </tr>\n",
       "    <tr>\n",
       "      <th>3</th>\n",
       "      <td>0x160d</td>\n",
       "      <td>Good</td>\n",
       "    </tr>\n",
       "    <tr>\n",
       "      <th>4</th>\n",
       "      <td>0x1616</td>\n",
       "      <td>Good</td>\n",
       "    </tr>\n",
       "    <tr>\n",
       "      <th>...</th>\n",
       "      <td>...</td>\n",
       "      <td>...</td>\n",
       "    </tr>\n",
       "    <tr>\n",
       "      <th>49995</th>\n",
       "      <td>0x25fe5</td>\n",
       "      <td>Standard</td>\n",
       "    </tr>\n",
       "    <tr>\n",
       "      <th>49996</th>\n",
       "      <td>0x25fee</td>\n",
       "      <td>Standard</td>\n",
       "    </tr>\n",
       "    <tr>\n",
       "      <th>49997</th>\n",
       "      <td>0x25fef</td>\n",
       "      <td>Poor</td>\n",
       "    </tr>\n",
       "    <tr>\n",
       "      <th>49998</th>\n",
       "      <td>0x25ff0</td>\n",
       "      <td>Poor</td>\n",
       "    </tr>\n",
       "    <tr>\n",
       "      <th>49999</th>\n",
       "      <td>0x25ff1</td>\n",
       "      <td>Poor</td>\n",
       "    </tr>\n",
       "  </tbody>\n",
       "</table>\n",
       "<p>50000 rows × 2 columns</p>\n",
       "</div>"
      ],
      "text/plain": [
       "            ID Credit_Score\n",
       "0       0x160a         Good\n",
       "1       0x160b         Good\n",
       "2       0x160c         Good\n",
       "3       0x160d         Good\n",
       "4       0x1616         Good\n",
       "...        ...          ...\n",
       "49995  0x25fe5     Standard\n",
       "49996  0x25fee     Standard\n",
       "49997  0x25fef         Poor\n",
       "49998  0x25ff0         Poor\n",
       "49999  0x25ff1         Poor\n",
       "\n",
       "[50000 rows x 2 columns]"
      ]
     },
     "execution_count": 138,
     "metadata": {},
     "output_type": "execute_result"
    }
   ],
   "source": [
    "submission_"
   ]
  },
  {
   "cell_type": "code",
   "execution_count": 147,
   "id": "670d2408",
   "metadata": {
    "ExecuteTime": {
     "end_time": "2022-06-17T18:59:10.874567Z",
     "start_time": "2022-06-17T18:54:32.678635Z"
    }
   },
   "outputs": [
    {
     "data": {
      "text/plain": [
       "XGBClassifier(base_score=0.5, booster='gbtree', callbacks=None,\n",
       "              colsample_bylevel=1, colsample_bynode=1, colsample_bytree=1,\n",
       "              early_stopping_rounds=None, enable_categorical=False,\n",
       "              eval_metric=None, gamma=0, gpu_id=-1, grow_policy='depthwise',\n",
       "              importance_type=None, interaction_constraints='',\n",
       "              learning_rate=0.1, max_bin=256, max_cat_to_onehot=4,\n",
       "              max_delta_step=0, max_depth=10, max_leaves=0, min_child_weight=1,\n",
       "              missing=nan, monotone_constraints='()', n_estimators=400,\n",
       "              n_jobs=0, num_parallel_tree=1, objective='multi:softprob',\n",
       "              predictor='auto', random_state=0, reg_alpha=0, ...)"
      ]
     },
     "execution_count": 147,
     "metadata": {},
     "output_type": "execute_result"
    }
   ],
   "source": [
    "xgb_model = XGBClassifier(learning_rate=0.1, max_depth=10, n_estimators=400)\n",
    "xgb_model.fit(x, y)"
   ]
  },
  {
   "cell_type": "code",
   "execution_count": 148,
   "id": "2b759e33",
   "metadata": {
    "ExecuteTime": {
     "end_time": "2022-06-17T18:59:14.456814Z",
     "start_time": "2022-06-17T18:59:12.827605Z"
    }
   },
   "outputs": [
    {
     "name": "stderr",
     "output_type": "stream",
     "text": [
      "C:\\Users\\home_\\AppData\\Local\\Temp/ipykernel_1480/468884378.py:3: SettingWithCopyWarning: \n",
      "A value is trying to be set on a copy of a slice from a DataFrame.\n",
      "Try using .loc[row_indexer,col_indexer] = value instead\n",
      "\n",
      "See the caveats in the documentation: https://pandas.pydata.org/pandas-docs/stable/user_guide/indexing.html#returning-a-view-versus-a-copy\n",
      "  submission_['Credit_Score'] = labeled_dict['Credit_Score'].inverse_transform(y_pred_)\n"
     ]
    }
   ],
   "source": [
    "y_pred_ = xgb_model.predict(df_test_)\n",
    "submission_ = df_test[['ID']]\n",
    "submission_['Credit_Score'] = labeled_dict['Credit_Score'].inverse_transform(y_pred_)\n",
    "submission_.to_csv('Submission.csv', index=False)"
   ]
  },
  {
   "cell_type": "code",
   "execution_count": 149,
   "id": "6b594333",
   "metadata": {
    "ExecuteTime": {
     "end_time": "2022-06-17T18:59:16.761499Z",
     "start_time": "2022-06-17T18:59:16.749539Z"
    }
   },
   "outputs": [
    {
     "data": {
      "text/html": [
       "<div>\n",
       "<style scoped>\n",
       "    .dataframe tbody tr th:only-of-type {\n",
       "        vertical-align: middle;\n",
       "    }\n",
       "\n",
       "    .dataframe tbody tr th {\n",
       "        vertical-align: top;\n",
       "    }\n",
       "\n",
       "    .dataframe thead th {\n",
       "        text-align: right;\n",
       "    }\n",
       "</style>\n",
       "<table border=\"1\" class=\"dataframe\">\n",
       "  <thead>\n",
       "    <tr style=\"text-align: right;\">\n",
       "      <th></th>\n",
       "      <th>ID</th>\n",
       "      <th>Credit_Score</th>\n",
       "    </tr>\n",
       "  </thead>\n",
       "  <tbody>\n",
       "    <tr>\n",
       "      <th>0</th>\n",
       "      <td>0x160a</td>\n",
       "      <td>Good</td>\n",
       "    </tr>\n",
       "    <tr>\n",
       "      <th>1</th>\n",
       "      <td>0x160b</td>\n",
       "      <td>Good</td>\n",
       "    </tr>\n",
       "    <tr>\n",
       "      <th>2</th>\n",
       "      <td>0x160c</td>\n",
       "      <td>Good</td>\n",
       "    </tr>\n",
       "    <tr>\n",
       "      <th>3</th>\n",
       "      <td>0x160d</td>\n",
       "      <td>Good</td>\n",
       "    </tr>\n",
       "    <tr>\n",
       "      <th>4</th>\n",
       "      <td>0x1616</td>\n",
       "      <td>Good</td>\n",
       "    </tr>\n",
       "    <tr>\n",
       "      <th>...</th>\n",
       "      <td>...</td>\n",
       "      <td>...</td>\n",
       "    </tr>\n",
       "    <tr>\n",
       "      <th>49995</th>\n",
       "      <td>0x25fe5</td>\n",
       "      <td>Standard</td>\n",
       "    </tr>\n",
       "    <tr>\n",
       "      <th>49996</th>\n",
       "      <td>0x25fee</td>\n",
       "      <td>Poor</td>\n",
       "    </tr>\n",
       "    <tr>\n",
       "      <th>49997</th>\n",
       "      <td>0x25fef</td>\n",
       "      <td>Poor</td>\n",
       "    </tr>\n",
       "    <tr>\n",
       "      <th>49998</th>\n",
       "      <td>0x25ff0</td>\n",
       "      <td>Poor</td>\n",
       "    </tr>\n",
       "    <tr>\n",
       "      <th>49999</th>\n",
       "      <td>0x25ff1</td>\n",
       "      <td>Poor</td>\n",
       "    </tr>\n",
       "  </tbody>\n",
       "</table>\n",
       "<p>50000 rows × 2 columns</p>\n",
       "</div>"
      ],
      "text/plain": [
       "            ID Credit_Score\n",
       "0       0x160a         Good\n",
       "1       0x160b         Good\n",
       "2       0x160c         Good\n",
       "3       0x160d         Good\n",
       "4       0x1616         Good\n",
       "...        ...          ...\n",
       "49995  0x25fe5     Standard\n",
       "49996  0x25fee         Poor\n",
       "49997  0x25fef         Poor\n",
       "49998  0x25ff0         Poor\n",
       "49999  0x25ff1         Poor\n",
       "\n",
       "[50000 rows x 2 columns]"
      ]
     },
     "execution_count": 149,
     "metadata": {},
     "output_type": "execute_result"
    }
   ],
   "source": [
    "submission_"
   ]
  },
  {
   "cell_type": "code",
   "execution_count": null,
   "id": "321489d4",
   "metadata": {},
   "outputs": [],
   "source": []
  }
 ],
 "metadata": {
  "kernelspec": {
   "display_name": "Python 3 (ipykernel)",
   "language": "python",
   "name": "python3"
  },
  "language_info": {
   "codemirror_mode": {
    "name": "ipython",
    "version": 3
   },
   "file_extension": ".py",
   "mimetype": "text/x-python",
   "name": "python",
   "nbconvert_exporter": "python",
   "pygments_lexer": "ipython3",
   "version": "3.9.9"
  },
  "latex_envs": {
   "LaTeX_envs_menu_present": true,
   "autoclose": true,
   "autocomplete": true,
   "bibliofile": "biblio.bib",
   "cite_by": "apalike",
   "current_citInitial": 1,
   "eqLabelWithNumbers": true,
   "eqNumInitial": 1,
   "hotkeys": {
    "equation": "Ctrl-E",
    "itemize": "Ctrl-I"
   },
   "labels_anchors": false,
   "latex_user_defs": false,
   "report_style_numbering": true,
   "user_envs_cfg": true
  },
  "nbTranslate": {
   "displayLangs": [
    "*"
   ],
   "hotkey": "alt-t",
   "langInMainMenu": true,
   "sourceLang": "en",
   "targetLang": "fr",
   "useGoogleTranslate": true
  },
  "toc": {
   "base_numbering": 1,
   "nav_menu": {},
   "number_sections": true,
   "sideBar": true,
   "skip_h1_title": false,
   "title_cell": "Table of Contents",
   "title_sidebar": "Contents",
   "toc_cell": false,
   "toc_position": {},
   "toc_section_display": true,
   "toc_window_display": false
  },
  "varInspector": {
   "cols": {
    "lenName": 16,
    "lenType": 16,
    "lenVar": 40
   },
   "kernels_config": {
    "python": {
     "delete_cmd_postfix": "",
     "delete_cmd_prefix": "del ",
     "library": "var_list.py",
     "varRefreshCmd": "print(var_dic_list())"
    },
    "r": {
     "delete_cmd_postfix": ") ",
     "delete_cmd_prefix": "rm(",
     "library": "var_list.r",
     "varRefreshCmd": "cat(var_dic_list()) "
    }
   },
   "types_to_exclude": [
    "module",
    "function",
    "builtin_function_or_method",
    "instance",
    "_Feature"
   ],
   "window_display": false
  }
 },
 "nbformat": 4,
 "nbformat_minor": 5
}
